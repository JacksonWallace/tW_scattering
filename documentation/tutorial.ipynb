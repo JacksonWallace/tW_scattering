{
 "cells": [
  {
   "cell_type": "markdown",
   "metadata": {},
   "source": [
    "# An (incomplete) tour of uproot, data analysis and particle physics\n",
    "\n",
    "We will use some state-of-the-art python packages and tools. Be sure that you followed the setup instructions listed [here](https://github.com/danbarto/tW_scattering/blob/master/README.md) and have jupyter running on your computer.\n",
    "\n",
    "What we will cover:\n",
    "- Loading root files with uproot\n",
    "- Accessing the stored data\n",
    "- Physics objects\n",
    "- Selecting objects and events\n",
    "- Make histograms and plots\n",
    "\n",
    "First, we load the necessary packages:\n",
    "- [uproot](https://github.com/scikit-hep/uproot) for reading root files (we are currently using uproot, while [uproot4](https://github.com/scikit-hep/uproot4) will be the default in the future)\n",
    "- Some functions from [uproot_methods](https://github.com/scikit-hep/uproot-methods) and [coffea](https://github.com/CoffeaTeam/coffea)\n",
    "- [numpy](https://numpy.org) which is *the* package for scientific computing with Python, see the new [numpy paper](https://www.nature.com/articles/s41586-020-2649-2) for more details\n",
    "\n",
    "\n",
    "## Interlude: Difference between event loop and columnar analysis\n",
    "\n",
    "Our data samples (both the ones recorded from the detector and simulated ones) are organized in terms of events.\n",
    "So in order to analyze the data we traditionally looped over the events in order to calculate new variables, fill histograms etc.\n",
    "The alternative approach is to do a columnar analysis instead of the event loop.\n",
    "This removes the need for a lot of the explicit (and often nested) loops, makes better use of modern CPUs and should make the analysis code more intuitive to write and read.\n",
    "Hopefully, that's what we are going to learn in this tutorial.\n",
    "\n",
    "[Reference](https://indico.cern.ch/event/845905/contributions/3573852/attachments/1914906/3165453/ahall_CoffeaUpdate_CMSWeek_Sep2019.pdf)\n"
   ]
  },
  {
   "cell_type": "code",
   "execution_count": 21,
   "metadata": {},
   "outputs": [],
   "source": [
    "import uproot4\n",
    "import numpy as np\n",
    "from uproot_methods import TLorentzVectorArray\n",
    "\n",
    "from coffea.processor import LazyDataFrame\n",
    "from coffea.analysis_objects import JaggedCandidateArray\n"
   ]
  },
  {
   "cell_type": "markdown",
   "metadata": {},
   "source": [
    "Now we load a root file of a simulated sample of proton-proton collisions. The file path reveals some details of the type of process that's contained:\n",
    "\n",
    "TTZToLLNuNu_M-10_TuneCP5_13TeV-amcatnlo-pythia8_RunIIAutumn18NanoAODv6-Nano25Oct2019_102X_upgrade2018_realistic_v20_ext1-v1\n",
    "\n",
    "- TTZ: production of a top quark/antiquark pair in association with a Z boson. This is a rather complicated process, but contains a lot of interesting physics.\n",
    "- ToLLNuNu: means that only events where the Z boson decays to two charged or neutral leptons (electrons, muons, taus, or neutrinos) are simulated\n",
    "- M-10: the invariant mass of the Z boson has to be larger than 10 GeV\n",
    "- The rest are more technical details. We can look at those later\n"
   ]
  },
  {
   "cell_type": "code",
   "execution_count": 2,
   "metadata": {},
   "outputs": [],
   "source": [
    "fn = '/hadoop/cms/store/user/dspitzba/nanoAOD/ttw_samples/0p1p9/TTZToLLNuNu_M-10_TuneCP5_13TeV-amcatnlo-pythia8_RunIIAutumn18NanoAODv6-Nano25Oct2019_102X_upgrade2018_realistic_v20_ext1-v1/nanoSkim_1.root'\n",
    "file = uproot4.open(fn)"
   ]
  },
  {
   "cell_type": "markdown",
   "metadata": {},
   "source": [
    "The root file contains several [ROOT trees]() which we can see by running `file.keys()`. We are only interested in the *Events* tree and will load it."
   ]
  },
  {
   "cell_type": "code",
   "execution_count": 3,
   "metadata": {},
   "outputs": [
    {
     "name": "stdout",
     "output_type": "stream",
     "text": [
      "['Events;1', 'Runs;1', 'LuminosityBlocks;1', 'untagged;1']\n"
     ]
    }
   ],
   "source": [
    "print (file.keys())\n",
    "tree = file['Events']"
   ]
  },
  {
   "cell_type": "markdown",
   "metadata": {},
   "source": [
    "The tree contains all the information about the proton-proton collision events. We can look at the information by running `tree.show()`."
   ]
  },
  {
   "cell_type": "code",
   "execution_count": 4,
   "metadata": {},
   "outputs": [
    {
     "name": "stdout",
     "output_type": "stream",
     "text": [
      "name                 | typename                 | interpretation                \n",
      "---------------------+--------------------------+-------------------------------\n",
      "run                  | uint32_t                 | AsDtype('>u4')\n",
      "luminosityBlock      | uint32_t                 | AsDtype('>u4')\n",
      "event                | uint64_t                 | AsDtype('>u8')\n",
      "nElectron            | uint32_t                 | AsDtype('>u4')\n",
      "Electron_deltaEtaSC  | float[]                  | AsJagged(AsDtype('>f4'))\n",
      "Electron_dxy         | float[]                  | AsJagged(AsDtype('>f4'))\n",
      "Electron_dz          | float[]                  | AsJagged(AsDtype('>f4'))\n",
      "Electron_eCorr       | float[]                  | AsJagged(AsDtype('>f4'))\n",
      "Electron_eInvMinu... | float[]                  | AsJagged(AsDtype('>f4'))\n",
      "Electron_energyErr   | float[]                  | AsJagged(AsDtype('>f4'))\n",
      "Electron_eta         | float[]                  | AsJagged(AsDtype('>f4'))\n",
      "Electron_hoe         | float[]                  | AsJagged(AsDtype('>f4'))\n",
      "Electron_ip3d        | float[]                  | AsJagged(AsDtype('>f4'))\n",
      "Electron_jetPtRelv2  | float[]                  | AsJagged(AsDtype('>f4'))\n",
      "Electron_jetRelIso   | float[]                  | AsJagged(AsDtype('>f4'))\n",
      "Electron_mass        | float[]                  | AsJagged(AsDtype('>f4'))\n",
      "Electron_miniPFRe... | float[]                  | AsJagged(AsDtype('>f4'))\n",
      "Electron_mvaFall1... | float[]                  | AsJagged(AsDtype('>f4'))\n",
      "Electron_mvaFall1... | float[]                  | AsJagged(AsDtype('>f4'))\n",
      "Electron_pfRelIso... | float[]                  | AsJagged(AsDtype('>f4'))\n",
      "Electron_phi         | float[]                  | AsJagged(AsDtype('>f4'))\n",
      "Electron_pt          | float[]                  | AsJagged(AsDtype('>f4'))\n",
      "Electron_sieie       | float[]                  | AsJagged(AsDtype('>f4'))\n",
      "Electron_sip3d       | float[]                  | AsJagged(AsDtype('>f4'))\n",
      "Electron_mvaTTH      | float[]                  | AsJagged(AsDtype('>f4'))\n",
      "Electron_charge      | int32_t[]                | AsJagged(AsDtype('>i4'))\n",
      "Electron_cutBased    | int32_t[]                | AsJagged(AsDtype('>i4'))\n",
      "Electron_pdgId       | int32_t[]                | AsJagged(AsDtype('>i4'))\n",
      "Electron_tightCharge | int32_t[]                | AsJagged(AsDtype('>i4'))\n",
      "Electron_convVeto    | bool[]                   | AsJagged(AsDtype('bool'))\n",
      "Electron_lostHits    | uint8_t[]                | AsJagged(AsDtype('uint8'))\n",
      "nFatJet              | uint32_t                 | AsDtype('>u4')\n",
      "FatJet_btagDeepB     | float[]                  | AsJagged(AsDtype('>f4'))\n",
      "FatJet_deepTagMD_... | float[]                  | AsJagged(AsDtype('>f4'))\n",
      "FatJet_deepTagMD_... | float[]                  | AsJagged(AsDtype('>f4'))\n",
      "FatJet_eta           | float[]                  | AsJagged(AsDtype('>f4'))\n",
      "FatJet_mass          | float[]                  | AsJagged(AsDtype('>f4'))\n",
      "FatJet_phi           | float[]                  | AsJagged(AsDtype('>f4'))\n",
      "FatJet_pt            | float[]                  | AsJagged(AsDtype('>f4'))\n",
      "nGenJet              | uint32_t                 | AsDtype('>u4')\n",
      "GenJet_eta           | float[]                  | AsJagged(AsDtype('>f4'))\n",
      "GenJet_mass          | float[]                  | AsJagged(AsDtype('>f4'))\n",
      "GenJet_phi           | float[]                  | AsJagged(AsDtype('>f4'))\n",
      "GenJet_pt            | float[]                  | AsJagged(AsDtype('>f4'))\n",
      "genWeight            | float                    | AsDtype('>f4')\n",
      "nJet                 | uint32_t                 | AsDtype('>u4')\n",
      "Jet_btagDeepB        | float[]                  | AsJagged(AsDtype('>f4'))\n",
      "Jet_chEmEF           | float[]                  | AsJagged(AsDtype('>f4'))\n",
      "Jet_eta              | float[]                  | AsJagged(AsDtype('>f4'))\n",
      "Jet_mass             | float[]                  | AsJagged(AsDtype('>f4'))\n",
      "Jet_muEF             | float[]                  | AsJagged(AsDtype('>f4'))\n",
      "Jet_muonSubtrFactor  | float[]                  | AsJagged(AsDtype('>f4'))\n",
      "Jet_phi              | float[]                  | AsJagged(AsDtype('>f4'))\n",
      "Jet_pt               | float[]                  | AsJagged(AsDtype('>f4'))\n",
      "Jet_qgl              | float[]                  | AsJagged(AsDtype('>f4'))\n",
      "Jet_rawFactor        | float[]                  | AsJagged(AsDtype('>f4'))\n",
      "Jet_bRegCorr         | float[]                  | AsJagged(AsDtype('>f4'))\n",
      "Jet_jetId            | int32_t[]                | AsJagged(AsDtype('>i4'))\n",
      "Jet_puId             | int32_t[]                | AsJagged(AsDtype('>i4'))\n",
      "GenMET_phi           | float                    | AsDtype('>f4')\n",
      "GenMET_pt            | float                    | AsDtype('>f4')\n",
      "MET_MetUnclustEnU... | float                    | AsDtype('>f4')\n",
      "MET_MetUnclustEnU... | float                    | AsDtype('>f4')\n",
      "MET_covXX            | float                    | AsDtype('>f4')\n",
      "MET_covXY            | float                    | AsDtype('>f4')\n",
      "MET_covYY            | float                    | AsDtype('>f4')\n",
      "MET_phi              | float                    | AsDtype('>f4')\n",
      "MET_pt               | float                    | AsDtype('>f4')\n",
      "MET_significance     | float                    | AsDtype('>f4')\n",
      "MET_sumEt            | float                    | AsDtype('>f4')\n",
      "nMuon                | uint32_t                 | AsDtype('>u4')\n",
      "Muon_dxy             | float[]                  | AsJagged(AsDtype('>f4'))\n",
      "Muon_dz              | float[]                  | AsJagged(AsDtype('>f4'))\n",
      "Muon_eta             | float[]                  | AsJagged(AsDtype('>f4'))\n",
      "Muon_jetPtRelv2      | float[]                  | AsJagged(AsDtype('>f4'))\n",
      "Muon_jetRelIso       | float[]                  | AsJagged(AsDtype('>f4'))\n",
      "Muon_mass            | float[]                  | AsJagged(AsDtype('>f4'))\n",
      "Muon_miniPFRelIso... | float[]                  | AsJagged(AsDtype('>f4'))\n",
      "Muon_pfRelIso03_all  | float[]                  | AsJagged(AsDtype('>f4'))\n",
      "Muon_phi             | float[]                  | AsJagged(AsDtype('>f4'))\n",
      "Muon_pt              | float[]                  | AsJagged(AsDtype('>f4'))\n",
      "Muon_ptErr           | float[]                  | AsJagged(AsDtype('>f4'))\n",
      "Muon_sip3d           | float[]                  | AsJagged(AsDtype('>f4'))\n",
      "Muon_mvaTTH          | float[]                  | AsJagged(AsDtype('>f4'))\n",
      "Muon_charge          | int32_t[]                | AsJagged(AsDtype('>i4'))\n",
      "Muon_pdgId           | int32_t[]                | AsJagged(AsDtype('>i4'))\n",
      "Muon_looseId         | bool[]                   | AsJagged(AsDtype('bool'))\n",
      "Muon_mediumId        | bool[]                   | AsJagged(AsDtype('bool'))\n",
      "PuppiMET_phi         | float                    | AsDtype('>f4')\n",
      "PuppiMET_pt          | float                    | AsDtype('>f4')\n",
      "PuppiMET_sumEt       | float                    | AsDtype('>f4')\n",
      "Electron_genPartIdx  | int32_t[]                | AsJagged(AsDtype('>i4'))\n",
      "Electron_genPartFlav | uint8_t[]                | AsJagged(AsDtype('uint8'))\n",
      "GenJet_partonFlavour | int32_t[]                | AsJagged(AsDtype('>i4'))\n",
      "GenJet_hadronFlavour | uint8_t[]                | AsJagged(AsDtype('uint8'))\n",
      "Jet_genJetIdx        | int32_t[]                | AsJagged(AsDtype('>i4'))\n",
      "Jet_hadronFlavour    | int32_t[]                | AsJagged(AsDtype('>i4'))\n",
      "Muon_genPartIdx      | int32_t[]                | AsJagged(AsDtype('>i4'))\n",
      "Muon_genPartFlav     | uint8_t[]                | AsJagged(AsDtype('uint8'))\n",
      "MET_fiducialGenPhi   | float                    | AsDtype('>f4')\n",
      "MET_fiducialGenPt    | float                    | AsDtype('>f4')\n",
      "weight               | float                    | AsDtype('>f4')\n",
      "Jet_pt_nom           | float[]                  | AsJagged(AsDtype('>f4'))\n",
      "Jet_mass_nom         | float[]                  | AsJagged(AsDtype('>f4'))\n",
      "MET_pt_nom           | float                    | AsDtype('>f4')\n",
      "MET_phi_nom          | float                    | AsDtype('>f4')\n",
      "MET_pt_jer           | float                    | AsDtype('>f4')\n",
      "MET_phi_jer          | float                    | AsDtype('>f4')\n",
      "MET_pt_jerUp         | float                    | AsDtype('>f4')\n",
      "MET_phi_jerUp        | float                    | AsDtype('>f4')\n",
      "MET_pt_jesTotalUp    | float                    | AsDtype('>f4')\n",
      "MET_phi_jesTotalUp   | float                    | AsDtype('>f4')\n",
      "MET_pt_unclustEnUp   | float                    | AsDtype('>f4')\n",
      "MET_phi_unclustEnUp  | float                    | AsDtype('>f4')\n",
      "MET_pt_jerDown       | float                    | AsDtype('>f4')\n",
      "MET_phi_jerDown      | float                    | AsDtype('>f4')\n",
      "MET_pt_jesTotalDown  | float                    | AsDtype('>f4')\n",
      "MET_phi_jesTotalDown | float                    | AsDtype('>f4')\n",
      "MET_pt_unclustEnDown | float                    | AsDtype('>f4')\n",
      "MET_phi_unclustEn... | float                    | AsDtype('>f4')\n",
      "nGenL                | uint32_t                 | AsDtype('>u4')\n",
      "GenL_pt              | float[]                  | AsJagged(AsDtype('>f4'))\n",
      "GenL_eta             | float[]                  | AsJagged(AsDtype('>f4'))\n",
      "GenL_phi             | float[]                  | AsJagged(AsDtype('>f4'))\n",
      "GenL_pdgId           | int32_t[]                | AsJagged(AsDtype('>i4'))\n",
      "GenL_fromTop         | int32_t[]                | AsJagged(AsDtype('>i4'))\n",
      "GenL_fromTau         | int32_t[]                | AsJagged(AsDtype('>i4'))\n",
      "GenL_fromZ           | int32_t[]                | AsJagged(AsDtype('>i4'))\n",
      "GenL_fromW           | int32_t[]                | AsJagged(AsDtype('>i4'))\n",
      "GenJet_fromW         | int32_t[]                | AsJagged(AsDtype('>i4'))\n",
      "GenJet_WIdx          | int32_t[]                | AsJagged(AsDtype('>i4'))\n",
      "nSpectator           | uint32_t                 | AsDtype('>u4')\n",
      "Spectator_pt         | float[]                  | AsJagged(AsDtype('>f4'))\n",
      "Spectator_eta        | float[]                  | AsJagged(AsDtype('>f4'))\n",
      "Spectator_phi        | float[]                  | AsJagged(AsDtype('>f4'))\n",
      "Spectator_pdgId      | int32_t[]                | AsJagged(AsDtype('>i4'))\n",
      "nScatter             | uint32_t                 | AsDtype('>u4')\n",
      "Scatter_pt           | float[]                  | AsJagged(AsDtype('>f4'))\n",
      "Scatter_eta          | float[]                  | AsJagged(AsDtype('>f4'))\n",
      "Scatter_phi          | float[]                  | AsJagged(AsDtype('>f4'))\n",
      "Scatter_pdgId        | int32_t[]                | AsJagged(AsDtype('>i4'))\n",
      "nW                   | uint32_t                 | AsDtype('>u4')\n",
      "W_pt                 | float[]                  | AsJagged(AsDtype('>f4'))\n",
      "W_eta                | float[]                  | AsJagged(AsDtype('>f4'))\n",
      "W_phi                | float[]                  | AsJagged(AsDtype('>f4'))\n",
      "W_mass               | float[]                  | AsJagged(AsDtype('>f4'))\n",
      "W_pdgId              | int32_t[]                | AsJagged(AsDtype('>i4'))\n",
      "W_fromTop            | int32_t[]                | AsJagged(AsDtype('>i4'))\n",
      "W_genPartIdx         | int32_t[]                | AsJagged(AsDtype('>i4'))\n",
      "nTop                 | uint32_t                 | AsDtype('>u4')\n",
      "Top_pt               | float[]                  | AsJagged(AsDtype('>f4'))\n",
      "Top_eta              | float[]                  | AsJagged(AsDtype('>f4'))\n",
      "Top_phi              | float[]                  | AsJagged(AsDtype('>f4'))\n",
      "Top_pdgId            | int32_t[]                | AsJagged(AsDtype('>i4'))\n",
      "nLepFromTop          | int32_t                  | AsDtype('>i4')\n",
      "nLepFromTau          | int32_t                  | AsDtype('>i4')\n",
      "nLepFromW            | int32_t                  | AsDtype('>i4')\n",
      "nGenTau              | int32_t                  | AsDtype('>i4')\n",
      "nLepFromZ            | int32_t                  | AsDtype('>i4')\n",
      "nLepton              | uint32_t                 | AsDtype('>u4')\n",
      "Lepton_pt            | float[]                  | AsJagged(AsDtype('>f4'))\n",
      "Lepton_eta           | float[]                  | AsJagged(AsDtype('>f4'))\n",
      "Lepton_phi           | float[]                  | AsJagged(AsDtype('>f4'))\n",
      "Lepton_mass          | float[]                  | AsJagged(AsDtype('>f4'))\n",
      "Lepton_pdgId         | int32_t[]                | AsJagged(AsDtype('>i4'))\n",
      "Lepton_miniIso       | float[]                  | AsJagged(AsDtype('>f4'))\n",
      "Lepton_muIndex       | int32_t[]                | AsJagged(AsDtype('>i4'))\n",
      "Lepton_elIndex       | int32_t[]                | AsJagged(AsDtype('>i4'))\n",
      "nRecoW               | uint32_t                 | AsDtype('>u4')\n",
      "RecoW_pt             | float[]                  | AsJagged(AsDtype('>f4'))\n",
      "RecoW_eta            | float[]                  | AsJagged(AsDtype('>f4'))\n",
      "RecoW_phi            | float[]                  | AsJagged(AsDtype('>f4'))\n",
      "RecoW_mass           | float[]                  | AsJagged(AsDtype('>f4'))\n",
      "RecoW_genPt          | float[]                  | AsJagged(AsDtype('>f4'))\n",
      "RecoW_genEta         | float[]                  | AsJagged(AsDtype('>f4'))\n",
      "RecoW_genPhi         | float[]                  | AsJagged(AsDtype('>f4'))\n",
      "RecoW_genMass        | float[]                  | AsJagged(AsDtype('>f4'))\n",
      "RecoW_qglSum         | float[]                  | AsJagged(AsDtype('>f4'))\n",
      "RecoW_qglProd        | float[]                  | AsJagged(AsDtype('>f4'))\n",
      "Muon_isVeto          | int32_t[]                | AsJagged(AsDtype('>i4'))\n",
      "Muon_isTight         | int32_t[]                | AsJagged(AsDtype('>i4'))\n",
      "Electron_isVeto      | int32_t[]                | AsJagged(AsDtype('>i4'))\n",
      "Electron_isTight     | int32_t[]                | AsJagged(AsDtype('>i4'))\n",
      "Jet_isGoodJet        | int32_t[]                | AsJagged(AsDtype('>i4'))\n",
      "Jet_isGoodJetAll     | int32_t[]                | AsJagged(AsDtype('>i4'))\n",
      "Jet_isGoodBJet       | int32_t[]                | AsJagged(AsDtype('>i4'))\n",
      "Jet_leptonClean      | int32_t[]                | AsJagged(AsDtype('>i4'))\n",
      "Jet_WIdx             | int32_t[]                | AsJagged(AsDtype('>i4'))\n",
      "nVetoLepton          | int32_t                  | AsDtype('>i4')\n",
      "nGoodJet             | int32_t                  | AsDtype('>i4')\n",
      "nGoodBTag            | int32_t                  | AsDtype('>i4')\n",
      "isSingleLep          | int32_t                  | AsDtype('>i4')\n",
      "isDiLep              | int32_t                  | AsDtype('>i4')\n",
      "isTriLep             | int32_t                  | AsDtype('>i4')\n",
      "isSS                 | int32_t                  | AsDtype('>i4')\n",
      "diWness              | float                    | AsDtype('>f4')\n",
      "MT                   | float                    | AsDtype('>f4')\n",
      "MT_puppi             | float                    | AsDtype('>f4')\n"
     ]
    }
   ],
   "source": [
    "tree.show()"
   ]
  },
  {
   "cell_type": "markdown",
   "metadata": {},
   "source": [
    "We can access the data by converting the branches into a numpy-like array. It's only numpy-like, because the dimension isn't fixed, so e.g. there can be a different number of Muons in each event. We called the array type *JaggedArray*.\n",
    "As an example let's look at `tree.array(\"Muon_pt\")`. You'll notice that it takes some time to load, so we can use a *lazy* version `tree.lazyarray(\"Muon_pt\")` which only loads parts of the data."
   ]
  },
  {
   "cell_type": "code",
   "execution_count": 5,
   "metadata": {},
   "outputs": [
    {
     "data": {
      "text/plain": [
       "<Array [{Muon_pt: [77.9, ... Muon_pt: []}] type='1391893 * {\"Muon_pt\": var * flo...'>"
      ]
     },
     "execution_count": 5,
     "metadata": {},
     "output_type": "execute_result"
    }
   ],
   "source": [
    "tree.arrays(\"Muon_pt\")"
   ]
  },
  {
   "cell_type": "code",
   "execution_count": 6,
   "metadata": {
    "scrolled": true
   },
   "outputs": [],
   "source": [
    "#tree.lazyarray(\"Muon_pt\") # this doesn't work anymore in uproot4"
   ]
  },
  {
   "cell_type": "markdown",
   "metadata": {},
   "source": [
    "For a more detailed tutorial on uproot and it's interface to root trees you can check out the tutorial [here](https://github.com/scikit-hep/uproot/blob/master/binder/tutorial.ipynb).\n",
    "\n",
    "Instead of looking at all the arrays individually we can convert the tree into a DataFrame, and we will again use the *lazy* version. Then, we can use coffea methods like *JaggedCandidateArray* to create objects that are resembling phyiscs objects, like jets, electrons, muons, taus or photons.\n",
    "\n",
    "Our two examples will be jets and muons.\n",
    "A *JaggedCandidateArray* will create a four-vector and therefora needs (as minimum) the transverse momentum pt, pseudorapidity eta, azimuthal angle phi and mass, as well as the total number of the object in each event. We can also load additional information, like a discriminator called *btagDeepB* for b-jets vs light quark flavor jets.\n",
    "\n",
    "Once we have the jets and muons, we can look at their properties with e.g. `jets.pt` or `muons.eta` which will return a JaggedArray."
   ]
  },
  {
   "cell_type": "code",
   "execution_count": 7,
   "metadata": {},
   "outputs": [],
   "source": [
    "df = LazyDataFrame(tree, flatten=True)\n",
    "\n",
    "jets = JaggedCandidateArray.candidatesfromcounts(\n",
    "    df['nJet'],\n",
    "    pt=df['Jet_pt'],\n",
    "    eta=df['Jet_eta'],\n",
    "    phi=df['Jet_phi'],\n",
    "    mass=df['Jet_mass'],\n",
    "    btagDeepB=df['Jet_btagDeepB'],\n",
    "    jetId=df['Jet_jetId'],\n",
    ")\n",
    "muons = JaggedCandidateArray.candidatesfromcounts(\n",
    "    df['nMuon'],\n",
    "    pt=df['Muon_pt'],\n",
    "    eta=df['Muon_eta'],\n",
    "    phi=df['Muon_phi'],\n",
    "    mass=df['Muon_mass'],\n",
    "    mediumId=df['Muon_mediumId'],\n",
    "    miniPFRelIso_all=df['Muon_miniPFRelIso_all'],\n",
    "    charge=df['Muon_charge'],\n",
    ")"
   ]
  },
  {
   "cell_type": "markdown",
   "metadata": {},
   "source": [
    "We can now filter these objects and e.g. only look at jets with pt>30 GeV and absolute eta less than 2.4. Let's check if that really worked by looking at `selected_jets.pt` and `selected_jets.eta`."
   ]
  },
  {
   "cell_type": "code",
   "execution_count": 8,
   "metadata": {},
   "outputs": [
    {
     "data": {
      "text/plain": [
       "<JaggedArray [[121.0 89.375 74.0 48.5] [232.25 191.875 134.375 ... 94.5 47.6875 47.09375] [135.375 43.25 35.65625] ... [165.0 90.4375 80.6875 ... 42.71875 37.21875 33.125] [61.03125 52.625 47.3125 41.09375 36.125] [160.125 137.125 48.40625 44.0]] at 0x7fedc59d6048>"
      ]
     },
     "execution_count": 8,
     "metadata": {},
     "output_type": "execute_result"
    }
   ],
   "source": [
    "selected_jets = jets[((jets.pt>30) & (abs(jets.eta)<2.4) & (jets.jetId>0))]\n",
    "selected_jets.pt"
   ]
  },
  {
   "cell_type": "markdown",
   "metadata": {},
   "source": [
    "## Interlude: Plotting\n",
    "\n",
    "We can use matplotlib for plotting different types of histograms. This is also useful to check whether one of the filters (or selections, as we usually call it in HEP) is really working as we intended.\n",
    "Let's first look at the pt distribution of all the unfiltered `jets` and the filtered `selected_jets`.\n"
   ]
  },
  {
   "cell_type": "code",
   "execution_count": 9,
   "metadata": {},
   "outputs": [
    {
     "data": {
      "image/png": "[encoded data removed]",
      "text/plain": [
       "<Figure size 432x288 with 1 Axes>"
      ]
     },
     "metadata": {},
     "output_type": "display_data"
    }
   ],
   "source": [
    "%matplotlib inline\n",
    "import matplotlib\n",
    "import matplotlib.pyplot as plt\n",
    "from matplotlib.colors import LogNorm\n",
    "\n",
    "figure=plt.figure(1)\n",
    "plt.hist([selected_jets.pt.flatten(), jets.pt.flatten()], bins=20, range=[0, 200], label=['filtered', 'unfiltered'], histtype='stepfilled', alpha=1.0)\n",
    "plt.xlabel(r'$p_{T}$ (GeV)')\n",
    "plt.ylabel('Number of jets')\n",
    "plt.title('Filtered jets')\n",
    "plt.legend()\n",
    "\n",
    "plt.show()\n"
   ]
  },
  {
   "cell_type": "markdown",
   "metadata": {},
   "source": [
    "Ok, this seems fine! You probably noticed that we don't use `jets.pt` to fill the histogram, but add `flatten()`. This has a rather simple reason: the histogram can't handle JaggendArrays, and we have to provide a flat array instead.\n",
    "\n",
    "Let us also look at a 2D histogram to see if both the eta and pt requirements worked. Notice that we use the `cmin=1` option in order to not color bins of the histogram that have a count of zero."
   ]
  },
  {
   "cell_type": "code",
   "execution_count": 10,
   "metadata": {
    "scrolled": true
   },
   "outputs": [
    {
     "data": {
      "image/png": "[encoded data removed]",
      "text/plain": [
       "<Figure size 432x288 with 1 Axes>"
      ]
     },
     "metadata": {},
     "output_type": "display_data"
    }
   ],
   "source": [
    "figure=plt.figure(1)\n",
    "plt.hist2d(selected_jets.pt.flatten(), selected_jets.eta.flatten(), bins=20, range=[[0, 200], [-5,5]], cmin = 1)\n",
    "plt.xlabel(r'$p_{T}$ (GeV)')\n",
    "plt.ylabel(r'$\\eta$')\n",
    "plt.title('Filtered jets')\n",
    "\n",
    "plt.show()"
   ]
  },
  {
   "cell_type": "markdown",
   "metadata": {},
   "source": [
    "As expected, we don't have any selected jets outside the required eta and pt range.\n",
    "\n",
    "Now let's implement a rather realistic selection of jets and muons.\n",
    "There can be some overlap between those two selections, so we will remove any jet object that is also a muon object. In order to do this we check if the seperation measured in $\\Delta R = \\sqrt{(\\phi_1-\\phi_2)^2+(\\eta_1-\\eta_2)^2}$ between the jets and muons is smaller than $\\Delta R < 0.4$. In case it is, we remove (\"clean\") the jet, and only keep the muon.\n",
    "\n",
    "We also define another category of jets which we call b-tagged, which are the jets that pass a certain threshold of the b-tagger."
   ]
  },
  {
   "cell_type": "code",
   "execution_count": 11,
   "metadata": {},
   "outputs": [],
   "source": [
    "good_muons = muons[((muons.pt>25) & (abs(muons.eta)<2.4) & (muons.mediumId==1) & (muons.miniPFRelIso_all<0.12))]\n",
    "\n",
    "cleaned_jets = selected_jets[~selected_jets.match(good_muons, deltaRCut=0.4)]\n",
    "btagged_jets = cleaned_jets[(cleaned_jets.btagDeepB>0.8484)]\n"
   ]
  },
  {
   "cell_type": "markdown",
   "metadata": {},
   "source": [
    "So far we have only dealt with objects and define collections like `good_muons` or `cleaned_jets`. Now let's look at events.\n",
    "\n",
    "We can get different final states in a ttZ event, mainly depending on the decays of the Z and W bosons, where the W boson comes from the $t \\to b W$ decay. For our little exercise let's only use events where the Z boson decays into two muons. We can therefore require at least two muons (we can have additional ones from the W boson decays).\n",
    "\n",
    "We also ask for at least one b-tagged jet (our b-tagger is only 60-70% efficient), and at least three jets."
   ]
  },
  {
   "cell_type": "code",
   "execution_count": 12,
   "metadata": {},
   "outputs": [],
   "source": [
    "event_selection = (good_muons.counts>=2) & (btagged_jets.counts>0) & (cleaned_jets.counts>2)"
   ]
  },
  {
   "cell_type": "markdown",
   "metadata": {},
   "source": [
    "Now this is all nice, but the two muons can basically come from either the W bosons or the Z boson.\n",
    "\n",
    "First, we get any pairing of two muons by using `choose(2)`, and then we require the muons to have opposite charge. Therefore, the product of the charges has to be smaller than 0, `dimuons.i0.charge * dimuons.i1.charge<0`. We often refer to leptons with opposite charge as opposite sign, or OS.\n",
    "\n",
    "Second, we require the invariant mass of the two muons to be close to the Z boson mass, $|m(\\mu\\mu)-91.2| < 10~\\textrm{GeV}$ (\"on-Z\")"
   ]
  },
  {
   "cell_type": "code",
   "execution_count": 13,
   "metadata": {},
   "outputs": [],
   "source": [
    "dimuons = good_muons.choose(2)\n",
    "\n",
    "OSmuons = dimuons[(dimuons.i0.charge * dimuons.i1.charge<0)]\n",
    "onZ = ((abs(OSmuons.mass-91.2)<10).any())\n",
    "\n",
    "event_selection = event_selection & onZ"
   ]
  },
  {
   "cell_type": "markdown",
   "metadata": {},
   "source": [
    "Let's also calculate the transverse mass between the b-tagged jets and the missing transverse momentum. We have a predifined function in our helpers. For events with more than one b-tagged jets this will calculate all the possible transverse masses, and we could then look at the MET_pt itself after requiring that at least one of the MT values calculated per event is larger than 150 GeV"
   ]
  },
  {
   "cell_type": "code",
   "execution_count": 14,
   "metadata": {},
   "outputs": [
    {
     "data": {
      "text/plain": [
       "array([ 75.88225 , 153.22568 ,  51.275753, ..., 210.58563 , 187.94276 ,\n",
       "       123.01743 ], dtype=float32)"
      ]
     },
     "execution_count": 14,
     "metadata": {},
     "output_type": "execute_result"
    }
   ],
   "source": [
    "from Tools.helpers import mt\n",
    "\n",
    "mt_met_b = mt(df['MET_pt'], df['MET_phi'], btagged_jets.pt, btagged_jets.phi)\n",
    "df['MET_pt'][event_selection & ((mt_met_b>150).any())]"
   ]
  },
  {
   "cell_type": "markdown",
   "metadata": {},
   "source": [
    "If we're not sure if what we coded up is actually doing what we hoped it would be doing we can just look at the mt values itself, after requiring `(mt_met_b>150).any()`. It seems to have worked :)"
   ]
  },
  {
   "cell_type": "code",
   "execution_count": 15,
   "metadata": {},
   "outputs": [
    {
     "data": {
      "text/plain": [
       "<JaggedArray [[185.61488] [258.84537] [171.5205] ... [175.06328 61.71579] [381.73288 99.4935] [229.08337 121.38798]] at 0x7fedad870ef0>"
      ]
     },
     "execution_count": 15,
     "metadata": {},
     "output_type": "execute_result"
    }
   ],
   "source": [
    "mt_met_b[event_selection & ((mt_met_b>150).any())]"
   ]
  },
  {
   "cell_type": "markdown",
   "metadata": {},
   "source": [
    "Now that we have defined an event_selection, we can plot any quantitiy for exactly those events. As an example, we can look at the minimum transverse mass we just calculated, or the jet pt of the jet with the highest/lowest eta."
   ]
  },
  {
   "cell_type": "code",
   "execution_count": 16,
   "metadata": {},
   "outputs": [
    {
     "data": {
      "image/png": "[encoded data removed]",
      "text/plain": [
       "<Figure size 432x288 with 1 Axes>"
      ]
     },
     "metadata": {},
     "output_type": "display_data"
    }
   ],
   "source": [
    "figure=plt.figure(1)\n",
    "plt.hist([mt_met_b[event_selection].min()], bins=20, range=[0, 200], histtype='stepfilled', alpha=1.0)\n",
    "plt.xlabel(r'$m_{T}$ (GeV)')\n",
    "plt.ylabel('Number of events')\n",
    "plt.title('Selected events')\n",
    "\n",
    "plt.show()"
   ]
  },
  {
   "cell_type": "code",
   "execution_count": 17,
   "metadata": {
    "scrolled": true
   },
   "outputs": [
    {
     "data": {
      "image/png": "[encoded data removed]",
      "text/plain": [
       "<Figure size 432x288 with 1 Axes>"
      ]
     },
     "metadata": {},
     "output_type": "display_data"
    }
   ],
   "source": [
    "\n",
    "figure=plt.figure(1)\n",
    "plt.hist([selected_jets[abs(selected_jets.eta).argmax()][event_selection].pt.flatten(), selected_jets[abs(selected_jets.eta).argmin()][event_selection].pt.flatten()], label=['highest eta', 'lowest eta'], bins=20, range=[0, 400], histtype='stepfilled', alpha=0.5)\n",
    "plt.xlabel(r'$p_{T}$(jet) (GeV)')\n",
    "plt.ylabel('Number of events')\n",
    "plt.title('Selected events')\n",
    "plt.legend()\n",
    "\n",
    "plt.show()"
   ]
  },
  {
   "cell_type": "markdown",
   "metadata": {},
   "source": [
    "As a short summary, we should have learned how to load a root file with uproot, look at its content, access the data, filter objects and events, and make histograms of quantities.\n",
    "\n",
    "Especially the *JaggedArray* class has a lot of nice features, like the *choose*, *match*, or *pair* functions. We will use those on several occasions, but now let's jump into an example of processing a bit larger amounts of data than just one file.\n",
    "\n",
    "\n",
    "## Getting closer to real life\n",
    "\n",
    "Before we start, let's look at how many events we actually loaded and processed in the example before. We can use a standard `len()` command, like  \n"
   ]
  },
  {
   "cell_type": "code",
   "execution_count": 18,
   "metadata": {},
   "outputs": [
    {
     "data": {
      "text/plain": [
       "1391893"
      ]
     },
     "execution_count": 18,
     "metadata": {},
     "output_type": "execute_result"
    }
   ],
   "source": [
    "len(df['MET_pt'])"
   ]
  },
  {
   "cell_type": "markdown",
   "metadata": {},
   "source": [
    "So we looked at 1.4 million events contained in one single root file. Not too bad, but also not as many as we usually do.\n",
    "\n",
    "To process larger amounts of data we can use coffea *processors*. The idea behind them is that we split the data into several chunks and process them in parallel. This can happen on several threads on one server (what we will do in the following), or distributed (not covered here). The processed data is accumulated, and we can define what kind of data we want to retrieve from there. Typically, we want to select certain objects, calculate some variables like invariant masses, fill histograms and get the number of events that pass a certain selection.\n",
    "\n",
    "The histograms and counts we want to store are defined on initialization of the processor. For our example, we will make histograms of MET, the invariant lepton mass, the number of jets, and some invariant masses that are discussed in the comments of the process function."
   ]
  },
  {
   "cell_type": "code",
   "execution_count": 22,
   "metadata": {},
   "outputs": [],
   "source": [
    "from tqdm.auto import tqdm\n",
    "import coffea.processor as processor\n",
    "from coffea.processor.accumulator import AccumulatorABC\n",
    "from coffea import hist\n",
    "\n",
    "from Tools.helpers import loadConfig, getCutFlowTable, mergeArray\n",
    "from Tools.objects import Collections\n",
    "from Tools.cutflow import Cutflow\n",
    "\n",
    "import copy\n",
    "\n",
    "class exampleProcessor(processor.ProcessorABC):\n",
    "    \"\"\"Dummy processor used to demonstrate the processor principle\"\"\"\n",
    "    def __init__(self):\n",
    "\n",
    "        # we can use a large number of bins and rebin later\n",
    "        dataset_axis        = hist.Cat(\"dataset\",   \"Primary dataset\")\n",
    "        pt_axis             = hist.Bin(\"pt\",        r\"$p_{T}$ (GeV)\", 1000, 0, 1000)\n",
    "        ht_axis             = hist.Bin(\"ht\",        r\"$H_{T}$ (GeV)\", 500, 0, 5000)\n",
    "        mass_axis           = hist.Bin(\"mass\",      r\"M (GeV)\", 1000, 0, 2000)\n",
    "        eta_axis            = hist.Bin(\"eta\",       r\"$\\eta$\", 60, -5.5, 5.5)\n",
    "        phi_axis            = hist.Bin(\"phi\",       r\"$\\phi$\", 100, -3.1416, 3.1416)\n",
    "        multiplicity_axis   = hist.Bin(\"multiplicity\",         r\"N\", 20, -0.5, 19.5)\n",
    "        norm_axis           = hist.Bin(\"norm\",         r\"N\", 25, 0, 1)\n",
    "\n",
    "        self._accumulator = processor.dict_accumulator({\n",
    "            \"MET_pt\" :          hist.Hist(\"Counts\", dataset_axis, pt_axis),\n",
    "            \"HT\" :              hist.Hist(\"Counts\", dataset_axis, ht_axis),\n",
    "            \"ST\" :              hist.Hist(\"Counts\", dataset_axis, ht_axis),\n",
    "            \"mbj_max\" :         hist.Hist(\"Counts\", dataset_axis, mass_axis),\n",
    "            \"mlb_min\" :         hist.Hist(\"Counts\", dataset_axis, mass_axis),\n",
    "            \"min_dphiJet1Met\":  hist.Hist(\"Counts\", dataset_axis, phi_axis),\n",
    "            \"min_dphiJet4Met\":  hist.Hist(\"Counts\", dataset_axis, phi_axis),\n",
    "            \"min_dphiJet15Met\": hist.Hist(\"Counts\", dataset_axis, phi_axis),\n",
    "            \"N_b\" :             hist.Hist(\"Counts\", dataset_axis, multiplicity_axis),\n",
    "            \"N_ele\" :           hist.Hist(\"Counts\", dataset_axis, multiplicity_axis),\n",
    "            \"N_mu\" :            hist.Hist(\"Counts\", dataset_axis, multiplicity_axis),\n",
    "            \"N_jet\" :           hist.Hist(\"Counts\", dataset_axis, multiplicity_axis),\n",
    "            'diboson':          processor.defaultdict_accumulator(int),\n",
    "            'ttbar':            processor.defaultdict_accumulator(int),\n",
    "            'TTW':              processor.defaultdict_accumulator(int),\n",
    "            'TTZ':              processor.defaultdict_accumulator(int),\n",
    "            'totalEvents':      processor.defaultdict_accumulator(int),\n",
    "        })\n",
    "        \n",
    "    @property\n",
    "    def accumulator(self):\n",
    "        return self._accumulator\n",
    "\n",
    "    def process(self, df):\n",
    "        \"\"\"\n",
    "        Processing function. This is where the actual analysis happens.\n",
    "        \"\"\"\n",
    "        output = self.accumulator.identity()\n",
    "        dataset = df[\"dataset\"]\n",
    "        cfg = loadConfig()\n",
    "\n",
    "        # load all the default candidates (jets, leptons, ...)\n",
    "        \n",
    "        ## Jets\n",
    "        jet = JaggedCandidateArray.candidatesfromcounts(\n",
    "            df['nJet'],\n",
    "            pt = df['Jet_pt'].content,\n",
    "            eta = df['Jet_eta'].content,\n",
    "            phi = df['Jet_phi'].content,\n",
    "            mass = df['Jet_mass'].content,\n",
    "            jetId = df['Jet_jetId'].content,\n",
    "            puId = df['Jet_puId'].content,\n",
    "            btagDeepB = df['Jet_btagDeepB'].content,\n",
    "            \n",
    "        )\n",
    "        jet       = jet[(jet.pt>30) & (abs(jet.eta)<2.4) & (jet.jetId>0)]\n",
    "        \n",
    "        ## Muons. We take a short-cut by using a class that loads the muon collection\n",
    "        muon = Collections(df, \"Muon\", \"tight\").get()\n",
    "        vetomuon = Collections(df, \"Muon\", \"veto\").get()\n",
    "        dimuon = muon.choose(2)\n",
    "        OSmuon = ( dimuon[(dimuon.i0.charge * dimuon.i1.charge)<0].counts>0 )\n",
    "        \n",
    "        \n",
    "        ## Electrons. We take a short-cut by using a class that loads the electron collection\n",
    "        electron = Collections(df, \"Electron\", \"tight\").get()\n",
    "        vetoelectron = Collections(df, \"Electron\", \"veto\").get()\n",
    "        dielectron = electron.choose(2)\n",
    "        OSelectron = ( dielectron[(dielectron.i0.charge * dielectron.i1.charge)<0].counts>0 )\n",
    "\n",
    "        # Remove jet/lepton overlap, and define b-tagged and light jets afterwards\n",
    "        jet       = jet[~jet.match(muon, deltaRCut=0.4)]\n",
    "        jet       = jet[~jet.match(electron, deltaRCut=0.4)]\n",
    "        btag      = jet[(jet.btagDeepB>0.8484)]\n",
    "        light     = jet[(jet.btagDeepB<0.8484)]        \n",
    "        \n",
    "        ## E/Mu pair - not used here\n",
    "        dilepton = electron.cross(muon)\n",
    "\n",
    "        ## MET\n",
    "        met_pt  = df[\"MET_pt\"]\n",
    "        met_phi = df[\"MET_phi\"]\n",
    "        \n",
    "        ## Event classifieres\n",
    "        # scalar sum of the jet pts\n",
    "        ht = jet.pt.sum()\n",
    "        # scalar sum of jets, leptons and MET\n",
    "        st = df[\"MET_pt\"] + jet.pt.sum() + muon.pt.sum() + electron.pt.sum()\n",
    "        \n",
    "        ## some minimum delta phi between leading jets and MET\n",
    "        # first, we need to make sure that jets are really pt sorted (they should be, but we never know)\n",
    "        jet = jet[jet.pt.argsort(ascending=False)]\n",
    "        # now, let's get the minimum delta phi between the leading jet and MET\n",
    "        min_dphiJetMet1 = np.arccos(np.cos(jet[jet.pt.argmax()].phi-met_phi)).min()\n",
    "        # now, lets look at the minimum delta phi between the four leading jets and MET. this does _not_ apply an\n",
    "        # implicit cut on the number of jets!\n",
    "        min_dphiJetMet4 = np.arccos(np.cos(jet[:,:4].phi-met_phi)).min()\n",
    "        # to make this last point, let's construct a rediculous variable. there shouldn't be a lot of events with 15 jets,\n",
    "        # but there could be, so let's just make a variable\n",
    "        min_dphiJetMet15 = np.arccos(np.cos(jet[:,:15].phi-met_phi)).min()\n",
    "        \n",
    "        # Pairs of b-tagged jets and other jets/leptons\n",
    "        bj = btag.cross(jet) # Use jet instead of light to not run into problems when all jets are b-tagged.\n",
    "        mub = muon.cross(btag)\n",
    "        elb = electron.cross(btag)\n",
    "        \n",
    "        mub_mass_min = mub[mub.mass.argmax()].mass\n",
    "        elb_mass_min = elb[elb.mass.argmax()].mass\n",
    "        lb_mass_min = mergeArray(mub_mass_min,elb_mass_min).min()\n",
    "        \n",
    "        ## define selections \n",
    "        dilep      = ((electron.counts + muon.counts)==2)\n",
    "        lepveto    = ((vetoelectron.counts + vetomuon.counts)==2)\n",
    "        OS         = (OSelectron | OSmuon)\n",
    "        onZ        = ((abs(dimuon.mass-91.2)<10).any() | (abs(dielectron.mass-91.2)<10).any() )\n",
    "\n",
    "\n",
    "        output['totalEvents']['all'] += len(df['weight'])\n",
    "        \n",
    "        ## Define a cutflow instance. Each row adds a cut on top of the previous one.\n",
    "        processes = ['TTW', 'TTZ', 'diboson']\n",
    "        cutflow = Cutflow(output, df, cfg, processes)\n",
    "        \n",
    "        cutflow.addRow( 'dilep',       dilep )\n",
    "        cutflow.addRow( 'lepveto',     lepveto )\n",
    "        cutflow.addRow( 'OS',          OS )\n",
    "        cutflow.addRow( 'on-Z',        onZ )\n",
    "        cutflow.addRow( 'njet2',       (jet.counts>=2) )\n",
    "        cutflow.addRow( 'btag1',       (btag.counts>=1) )\n",
    "        cutflow.addRow( 'met50',       (met_pt > 50) )\n",
    "\n",
    "\n",
    "        # preselection of events\n",
    "        dilep_onZ = ( dilep & lepveto & OS & onZ )\n",
    "        event_selection = cutflow.selection\n",
    "        \n",
    "        ## And fill the histograms\n",
    "        \n",
    "        # just the number of electrons and muons\n",
    "        output['N_ele'].fill(dataset=dataset, multiplicity=electron[event_selection].counts, weight=df['weight'][event_selection]*cfg['lumi'])\n",
    "        output['N_mu'].fill(dataset=dataset, multiplicity=muon[event_selection].counts, weight=df['weight'][event_selection]*cfg['lumi'])\n",
    "        \n",
    "        # N jet and N b without selections on those\n",
    "        output['N_jet'].fill(dataset=dataset, multiplicity=jet[dilep_onZ].counts, weight=df['weight'][dilep_onZ]*cfg['lumi'])\n",
    "        output['N_b'].fill(dataset=dataset, multiplicity=btag[dilep_onZ].counts, weight=df['weight'][dilep_onZ]*cfg['lumi'])\n",
    "                \n",
    "        output['MET_pt'].fill(dataset=dataset, pt=met_pt[event_selection].flatten(), weight=df['weight'][event_selection]*cfg['lumi'])\n",
    "        output['ST'].fill(dataset=dataset, ht=st[event_selection].flatten(), weight=df['weight'][event_selection]*cfg['lumi'])\n",
    "        output['HT'].fill(dataset=dataset, ht=ht[event_selection].flatten(), weight=df['weight'][event_selection]*cfg['lumi'])\n",
    "\n",
    "        output['mbj_max'].fill(dataset=dataset, mass=bj[bj.mass.argmax()][event_selection].mass.flatten(), weight=df['weight'][event_selection]*cfg['lumi'])\n",
    "        output['mlb_min'].fill(dataset=dataset, mass=lb_mass_min[event_selection].flatten(), weight=df['weight'][event_selection]*cfg['lumi'])\n",
    "\n",
    "        output['min_dphiJet1Met'].fill(dataset=dataset, phi=min_dphiJetMet1[event_selection].flatten(), weight=df['weight'][event_selection]*cfg['lumi'])\n",
    "        output['min_dphiJet4Met'].fill(dataset=dataset, phi=min_dphiJetMet4[event_selection].flatten(), weight=df['weight'][event_selection]*cfg['lumi'])\n",
    "        output['min_dphiJet15Met'].fill(dataset=dataset, phi=min_dphiJetMet15[event_selection].flatten(), weight=df['weight'][event_selection]*cfg['lumi'])\n",
    "        return output\n",
    "\n",
    "    def postprocess(self, accumulator):\n",
    "        return accumulator"
   ]
  },
  {
   "cell_type": "markdown",
   "metadata": {},
   "source": [
    "Now that we have defined the processor, we need to define the list of files we want to process. There is a separate file [processor/samples.py](https://github.com/danbarto/tW_scattering/blob/master/processor/samples.py) that has some pre-defined file sets. Since this is just an example, we will only select a subset of the samples in the `fileset_2lOS` block. We will use 4 threads to process the data (we could use more, but we share resources with other people and have to be responsible). This will take a few minutes..."
   ]
  },
  {
   "cell_type": "code",
   "execution_count": 23,
   "metadata": {},
   "outputs": [
    {
     "data": {
      "application/vnd.jupyter.widget-view+json": {
       "model_id": "9e93fb8b745748219d4358eaba24b3e4",
       "version_major": 2,
       "version_minor": 0
      },
      "text/html": [
       "<p>Failed to display Jupyter Widget of type <code>HBox</code>.</p>\n",
       "<p>\n",
       "  If you're reading this message in the Jupyter Notebook or JupyterLab Notebook, it may mean\n",
       "  that the widgets JavaScript is still loading. If this message persists, it\n",
       "  likely means that the widgets JavaScript library is either not installed or\n",
       "  not enabled. See the <a href=\"https://ipywidgets.readthedocs.io/en/stable/user_install.html\">Jupyter\n",
       "  Widgets Documentation</a> for setup instructions.\n",
       "</p>\n",
       "<p>\n",
       "  If you're reading this message in another frontend (for example, a static\n",
       "  rendering on GitHub or <a href=\"https://nbviewer.jupyter.org/\">NBViewer</a>),\n",
       "  it may mean that your frontend doesn't currently support widgets.\n",
       "</p>\n"
      ],
      "text/plain": [
       "HBox(children=(HTML(value='Processing'), FloatProgress(value=0.0, max=82.0), HTML(value='')))"
      ]
     },
     "metadata": {},
     "output_type": "display_data"
    },
    {
     "name": "stdout",
     "output_type": "stream",
     "text": [
      "\n"
     ]
    }
   ],
   "source": [
    "from processor.samples import fileset, fileset_small, fileset_2lOS\n",
    "\n",
    "# Run the processor\n",
    "fileset = fileset = {'TTW':fileset_2lOS['TTW'], 'TTZ':fileset_2lOS['TTZ'], 'diboson':fileset_2lOS['diboson']}\n",
    "workers = 12\n",
    "output = processor.run_uproot_job(fileset,\n",
    "                                      treename='Events',\n",
    "                                      processor_instance=exampleProcessor(),\n",
    "                                      executor=processor.futures_executor,\n",
    "                                      executor_args={'workers': workers, 'function_args': {'flatten': False}},\n",
    "                                      chunksize=500000,\n",
    "                                     )\n",
    "\n",
    "\n"
   ]
  },
  {
   "cell_type": "markdown",
   "metadata": {},
   "source": [
    "You can ignore the warnings (at least for now).\n",
    "\n",
    "Let's check how many events we actually processed now. They are stored in the output dictinory: `output['totalEvents']`."
   ]
  },
  {
   "cell_type": "code",
   "execution_count": 86,
   "metadata": {},
   "outputs": [
    {
     "data": {
      "text/plain": [
       "defaultdict_accumulator(int, {'all': 31294697})"
      ]
     },
     "execution_count": 86,
     "metadata": {},
     "output_type": "execute_result"
    }
   ],
   "source": [
    "output['totalEvents']"
   ]
  },
  {
   "cell_type": "markdown",
   "metadata": {},
   "source": [
    "So we processed approximately 25M events with the processor, and we used 12 threads to process around 70 chunks.\n",
    "\n",
    "Let's take another look at the processor: We do run over samples for different processes now, and if we want to obtain meaningful numbers and histograms when we combine them, we need to normalize each event according to its physical cross section and the total number of simulated events. This is what's done in `weight=df['weight'][event_selection]*cfg['lumi']` when filling the histograms. `df['weight']` is a per-event weight. `cfg['lumi']` is a factor to normalize the prediction to 137/fb, the total integrated luminosity from the LHC Run2.\n",
    "\n",
    "We also produce a cut-flow within the processor, and we can obtain the resulting table like this:"
   ]
  },
  {
   "cell_type": "code",
   "execution_count": 87,
   "metadata": {},
   "outputs": [
    {
     "data": {
      "text/html": [
       "<div>\n",
       "<style scoped>\n",
       "    .dataframe tbody tr th:only-of-type {\n",
       "        vertical-align: middle;\n",
       "    }\n",
       "\n",
       "    .dataframe tbody tr th {\n",
       "        vertical-align: top;\n",
       "    }\n",
       "\n",
       "    .dataframe thead th {\n",
       "        text-align: right;\n",
       "    }\n",
       "</style>\n",
       "<table border=\"1\" class=\"dataframe\">\n",
       "  <thead>\n",
       "    <tr style=\"text-align: right;\">\n",
       "      <th></th>\n",
       "      <th>TTW</th>\n",
       "      <th>TTZ</th>\n",
       "      <th>diboson</th>\n",
       "      <th>S/B</th>\n",
       "    </tr>\n",
       "  </thead>\n",
       "  <tbody>\n",
       "    <tr>\n",
       "      <th>entry</th>\n",
       "      <td>35520.0 +/- 70.0</td>\n",
       "      <td>17910.0 +/- 20.0</td>\n",
       "      <td>1212000.0 +/- 1000.0</td>\n",
       "      <td>0.0144</td>\n",
       "    </tr>\n",
       "    <tr>\n",
       "      <th>dilep</th>\n",
       "      <td>4797.0 +/- 19.0</td>\n",
       "      <td>4914.0 +/- 8.0</td>\n",
       "      <td>314800.0 +/- 200.0</td>\n",
       "      <td>0.0154</td>\n",
       "    </tr>\n",
       "    <tr>\n",
       "      <th>lepveto</th>\n",
       "      <td>3705.0 +/- 17.0</td>\n",
       "      <td>3230.0 +/- 6.0</td>\n",
       "      <td>276700.0 +/- 200.0</td>\n",
       "      <td>0.0115</td>\n",
       "    </tr>\n",
       "    <tr>\n",
       "      <th>OS</th>\n",
       "      <td>1260.0 +/- 11.0</td>\n",
       "      <td>2500.0 +/- 6.0</td>\n",
       "      <td>217600.0 +/- 200.0</td>\n",
       "      <td>0.0114</td>\n",
       "    </tr>\n",
       "    <tr>\n",
       "      <th>on-Z</th>\n",
       "      <td>155.6 +/- 4.1</td>\n",
       "      <td>1770.0 +/- 5.0</td>\n",
       "      <td>149600.0 +/- 100.0</td>\n",
       "      <td>0.0118</td>\n",
       "    </tr>\n",
       "    <tr>\n",
       "      <th>njet2</th>\n",
       "      <td>144.8 +/- 4.0</td>\n",
       "      <td>1730.0 +/- 5.0</td>\n",
       "      <td>74680.0 +/- 80.0</td>\n",
       "      <td>0.0231</td>\n",
       "    </tr>\n",
       "    <tr>\n",
       "      <th>btag1</th>\n",
       "      <td>88.54 +/- 3.11</td>\n",
       "      <td>1042.0 +/- 4.0</td>\n",
       "      <td>4386.0 +/- 15.0</td>\n",
       "      <td>0.2328</td>\n",
       "    </tr>\n",
       "    <tr>\n",
       "      <th>met50</th>\n",
       "      <td>69.66 +/- 2.74</td>\n",
       "      <td>479.2 +/- 2.5</td>\n",
       "      <td>937.4 +/- 7.8</td>\n",
       "      <td>0.4758</td>\n",
       "    </tr>\n",
       "  </tbody>\n",
       "</table>\n",
       "</div>"
      ],
      "text/plain": [
       "                      TTW               TTZ               diboson     S/B\n",
       "entry    35520.0 +/- 70.0  17910.0 +/- 20.0  1212000.0 +/- 1000.0  0.0144\n",
       "dilep     4797.0 +/- 19.0    4914.0 +/- 8.0    314800.0 +/- 200.0  0.0154\n",
       "lepveto   3705.0 +/- 17.0    3230.0 +/- 6.0    276700.0 +/- 200.0  0.0115\n",
       "OS        1260.0 +/- 11.0    2500.0 +/- 6.0    217600.0 +/- 200.0  0.0114\n",
       "on-Z        155.6 +/- 4.1    1770.0 +/- 5.0    149600.0 +/- 100.0  0.0118\n",
       "njet2       144.8 +/- 4.0    1730.0 +/- 5.0      74680.0 +/- 80.0  0.0231\n",
       "btag1      88.54 +/- 3.11    1042.0 +/- 4.0       4386.0 +/- 15.0  0.2328\n",
       "met50      69.66 +/- 2.74     479.2 +/- 2.5         937.4 +/- 7.8  0.4758"
      ]
     },
     "execution_count": 87,
     "metadata": {},
     "output_type": "execute_result"
    }
   ],
   "source": [
    "# Cutflow with absolute numbers\n",
    "processes = ['TTW', 'TTZ', 'diboson']\n",
    "lines = ['entry']\n",
    "lines += ['dilep', 'lepveto', 'OS', 'on-Z', 'njet2', 'btag1', 'met50' ]\n",
    "df = getCutFlowTable(output, processes=processes, lines=lines, significantFigures=4, signal='TTZ')\n",
    "df"
   ]
  },
  {
   "cell_type": "code",
   "execution_count": 88,
   "metadata": {},
   "outputs": [
    {
     "data": {
      "text/html": [
       "<div>\n",
       "<style scoped>\n",
       "    .dataframe tbody tr th:only-of-type {\n",
       "        vertical-align: middle;\n",
       "    }\n",
       "\n",
       "    .dataframe tbody tr th {\n",
       "        vertical-align: top;\n",
       "    }\n",
       "\n",
       "    .dataframe thead th {\n",
       "        text-align: right;\n",
       "    }\n",
       "</style>\n",
       "<table border=\"1\" class=\"dataframe\">\n",
       "  <thead>\n",
       "    <tr style=\"text-align: right;\">\n",
       "      <th></th>\n",
       "      <th>TTW</th>\n",
       "      <th>TTZ</th>\n",
       "      <th>diboson</th>\n",
       "    </tr>\n",
       "  </thead>\n",
       "  <tbody>\n",
       "    <tr>\n",
       "      <th>entry</th>\n",
       "      <td>1.0000</td>\n",
       "      <td>1.0000</td>\n",
       "      <td>1.0000</td>\n",
       "    </tr>\n",
       "    <tr>\n",
       "      <th>dilep</th>\n",
       "      <td>0.1351</td>\n",
       "      <td>0.2744</td>\n",
       "      <td>0.2597</td>\n",
       "    </tr>\n",
       "    <tr>\n",
       "      <th>lepveto</th>\n",
       "      <td>0.7723</td>\n",
       "      <td>0.6573</td>\n",
       "      <td>0.8789</td>\n",
       "    </tr>\n",
       "    <tr>\n",
       "      <th>OS</th>\n",
       "      <td>0.3402</td>\n",
       "      <td>0.7739</td>\n",
       "      <td>0.7863</td>\n",
       "    </tr>\n",
       "    <tr>\n",
       "      <th>on-Z</th>\n",
       "      <td>0.1234</td>\n",
       "      <td>0.7081</td>\n",
       "      <td>0.6877</td>\n",
       "    </tr>\n",
       "    <tr>\n",
       "      <th>njet2</th>\n",
       "      <td>0.9307</td>\n",
       "      <td>0.9770</td>\n",
       "      <td>0.4992</td>\n",
       "    </tr>\n",
       "    <tr>\n",
       "      <th>btag1</th>\n",
       "      <td>0.6114</td>\n",
       "      <td>0.6023</td>\n",
       "      <td>0.0587</td>\n",
       "    </tr>\n",
       "    <tr>\n",
       "      <th>met50</th>\n",
       "      <td>0.7868</td>\n",
       "      <td>0.4600</td>\n",
       "      <td>0.2137</td>\n",
       "    </tr>\n",
       "  </tbody>\n",
       "</table>\n",
       "</div>"
      ],
      "text/plain": [
       "            TTW     TTZ  diboson\n",
       "entry    1.0000  1.0000   1.0000\n",
       "dilep    0.1351  0.2744   0.2597\n",
       "lepveto  0.7723  0.6573   0.8789\n",
       "OS       0.3402  0.7739   0.7863\n",
       "on-Z     0.1234  0.7081   0.6877\n",
       "njet2    0.9307  0.9770   0.4992\n",
       "btag1    0.6114  0.6023   0.0587\n",
       "met50    0.7868  0.4600   0.2137"
      ]
     },
     "execution_count": 88,
     "metadata": {},
     "output_type": "execute_result"
    }
   ],
   "source": [
    "# Cutflow with efficiencies for each cut\n",
    "df = getCutFlowTable(output, processes=processes, lines=lines, significantFigures=4, absolute=False)\n",
    "df"
   ]
  },
  {
   "cell_type": "markdown",
   "metadata": {},
   "source": [
    "So what this tells us is that after applying the $N_{b-tag}\\geq1$ cut, we expect 893.5 ttZ events, 71.1 ttW events and 3576 diboson events. If ttZ is the process we are interested in (=signal) and the other processes are our background, this results in a signal-over-background ratio of ~0.2.\n",
    "\n",
    "This is of course a simplified example, and we neglected the overwhelming contribution from the Drell-Yan and tt+jets processes. It's not an easy task to isolate ttZ events in an OS dilepton selection, as we have tried here :)\n",
    "\n",
    "The second table shows the efficiency of each requirement w.r.t. the previous event selection. We use these tables to find optimal selections that have a high efficiency for the signal process, and a low efficiency for backgrounds.\n",
    "\n",
    "Now let's try to obtain the histograms we have filled with the processor. If we just want to have a quick look at them, all we need to do is the following:"
   ]
  },
  {
   "cell_type": "code",
   "execution_count": 24,
   "metadata": {},
   "outputs": [
    {
     "data": {
      "image/png": "[encoded data removed]",
      "text/plain": [
       "<Figure size 432x288 with 1 Axes>"
      ]
     },
     "metadata": {},
     "output_type": "display_data"
    }
   ],
   "source": [
    "histogram = output['min_dphiJet1Met']\n",
    "ax = hist.plot1d(histogram,overlay=\"dataset\", stack=True)"
   ]
  },
  {
   "cell_type": "code",
   "execution_count": 25,
   "metadata": {},
   "outputs": [
    {
     "data": {
      "image/png": "[encoded data removed]",
      "text/plain": [
       "<Figure size 432x288 with 1 Axes>"
      ]
     },
     "metadata": {},
     "output_type": "display_data"
    }
   ],
   "source": [
    "histogram = output['min_dphiJet15Met']\n",
    "ax = hist.plot1d(histogram,overlay=\"dataset\", stack=True)"
   ]
  },
  {
   "cell_type": "markdown",
   "metadata": {},
   "source": [
    "As we would expect, the lower plot has a much sharper peak at zero, but we did not only get events with at least 15 jets. Good!"
   ]
  },
  {
   "cell_type": "code",
   "execution_count": 89,
   "metadata": {},
   "outputs": [
    {
     "data": {
      "image/png": "[encoded data removed]",
      "text/plain": [
       "<Figure size 432x288 with 1 Axes>"
      ]
     },
     "metadata": {},
     "output_type": "display_data"
    }
   ],
   "source": [
    "histogram = output['N_mu']\n",
    "ax = hist.plot1d(histogram,overlay=\"dataset\", stack=True)"
   ]
  },
  {
   "cell_type": "markdown",
   "metadata": {},
   "source": [
    "This gives us the number of muons per event, after applying our event selection. Of course we can also decorate the histograms, and rebin them. Let's look at the mlb_min histogram.\n",
    "\n",
    "mlb_min is calculated in the processor as the minimum invariant mass of an electron or muon and a b-tagged jet. This variable is often used for roughly reconstructing leptonically decaying top quarks. Because we don't have top quarks in our diboson sample, and the top quarks of ttZ should decay hadronically (because of our selection), we don't see the expected endpoint around the top quark mass of ~175 GeV. Maybe we can see it for ttW? We can look at the shapes."
   ]
  },
  {
   "cell_type": "code",
   "execution_count": 92,
   "metadata": {},
   "outputs": [
    {
     "name": "stderr",
     "output_type": "stream",
     "text": [
      "/home/users/dspitzba/test/CMSSW_10_2_9/src/tW_scattering/coffeaEnv/lib/python3.6/site-packages/coffea/hist/plot.py:357: RuntimeWarning: invalid value encountered in true_divide\n",
      "  rsumw = sumw_num / sumw_denom\n",
      "/home/users/dspitzba/test/CMSSW_10_2_9/src/tW_scattering/coffeaEnv/lib/python3.6/site-packages/coffea/hist/plot.py:364: RuntimeWarning: invalid value encountered in true_divide\n",
      "  rsumw_err = np.abs(poisson_interval(rsumw, sumw2_num / sumw_denom**2) - rsumw)\n",
      "/home/users/dspitzba/test/CMSSW_10_2_9/src/tW_scattering/coffeaEnv/lib/python3.6/site-packages/coffea/hist/plot.py:378: RuntimeWarning: invalid value encountered in true_divide\n",
      "  denom_unc = poisson_interval(unity, sumw2_denom / sumw_denom**2)\n"
     ]
    },
    {
     "data": {
      "image/png": "[encoded data removed]",
      "text/plain": [
       "<Figure size 504x504 with 2 Axes>"
      ]
     },
     "metadata": {},
     "output_type": "display_data"
    }
   ],
   "source": [
    "# load the config and the cache\n",
    "cfg = loadConfig()\n",
    "\n",
    "from plots.helpers import *\n",
    "bins = {\\\n",
    "    'MET_pt':   {'axis': 'pt',            'overflow':'over',  'bins': hist.Bin('pt', r'$E_T^{miss} \\ (GeV)$', 20, 0, 200)},\n",
    "    'N_jet':    {'axis': 'multiplicity',  'overflow':'over',  'bins': hist.Bin('multiplicity', r'$N_{jet}$', 15, -0.5, 14.5)},\n",
    "    'N_ele':    {'axis': 'multiplicity',  'overflow':'over',  'bins': hist.Bin('multiplicity', r'$N_{e}$', 3, -0.5, 2.5)},\n",
    "    'N_mu':     {'axis': 'multiplicity',  'overflow':'over',  'bins': hist.Bin('multiplicity', r'$N_{\\mu}$', 3, -0.5, 2.5)},\n",
    "    'N_b':      {'axis': 'multiplicity',  'overflow':'over',  'bins': hist.Bin('multiplicity', r'$N_{b-jet}$', 5, -0.5, 4.5)},\n",
    "    'mbj_max':  {'axis': 'mass',          'overflow':'over',  'bins': hist.Bin('mass', r'$M(b, light), max \\ (GeV)$', 25, 0, 1500)},\n",
    "    'mlb_min':  {'axis': 'mass',          'overflow':'over',  'bins': hist.Bin('mass', r'$M(b, lepton), min \\ (GeV)$', 30, 0, 600)},\n",
    "    'HT':       {'axis': 'ht',            'overflow':'over',  'bins': hist.Bin('ht', r'$H_{T} \\ (GeV)$', 30, 0, 1500)},\n",
    "    'ST':       {'axis': 'ht',            'overflow':'over',  'bins': hist.Bin('ht', r'$S_{T} \\ (GeV)$', 30, 0, 1500)},\n",
    "    }\n",
    "\n",
    "plotDir = os.path.expandvars(cfg['meta']['plots']) + '/dump/'\n",
    "finalizePlotDir(plotDir)\n",
    "\n",
    "name = 'mlb_min'\n",
    "\n",
    "if True:  \n",
    "    histogram = output[name]\n",
    "\n",
    "    axis = bins[name]['axis']\n",
    "    histogram = histogram.rebin(axis, bins[name]['bins'])\n",
    "\n",
    "    y_max = histogram.sum(\"dataset\").values(overflow='over')[()].max()\n",
    "    y_over = histogram.sum(\"dataset\").values(overflow='over')[()][-1]\n",
    "\n",
    "    # get pseudo data\n",
    "    bin_values = histogram.axis(axis).centers(overflow=bins[name]['overflow'])\n",
    "    poisson_means = histogram.sum('dataset').values(overflow=bins[name]['overflow'])[()]\n",
    "    values = np.repeat(bin_values, np.random.poisson(np.maximum(np.zeros(len(poisson_means)), poisson_means)))\n",
    "    if axis == 'pt':\n",
    "        histogram.fill(dataset='pseudodata', pt=values)\n",
    "    elif axis == 'eta':\n",
    "        histogram.fill(dataset='pseudodata', eta=values)\n",
    "    elif axis == 'mass':\n",
    "        histogram.fill(dataset='pseudodata', mass=values)\n",
    "    elif axis == 'multiplicity':\n",
    "        histogram.fill(dataset='pseudodata', multiplicity=values)\n",
    "    elif axis == 'ht':\n",
    "        histogram.fill(dataset='pseudodata', ht=values)\n",
    "    elif axis == 'norm':\n",
    "        histogram.fill(dataset='pseudodata', norm=values)\n",
    "\n",
    "    \n",
    "    import re\n",
    "    notdata = re.compile('(?!pseudodata)')\n",
    "\n",
    "    fig, (ax, rax) = plt.subplots(2, 1, figsize=(7,7), gridspec_kw={\"height_ratios\": (3, 1)}, sharex=True)\n",
    "\n",
    "    # get axes\n",
    "    hist.plot1d(histogram[notdata],overlay=\"dataset\", ax=ax, stack=True, overflow=bins[name]['overflow'], clear=False, line_opts=None, fill_opts=fill_opts, error_opts=error_opts, order=['TTZ', 'TTW','diboson']) #error_opts??\n",
    "    hist.plot1d(histogram['pseudodata'], overlay=\"dataset\", ax=ax, overflow=bins[name]['overflow'], error_opts=data_err_opts, clear=False)\n",
    "\n",
    "    # build ratio\n",
    "    hist.plotratio(\n",
    "        num=histogram['pseudodata'].sum(\"dataset\"),\n",
    "        denom=histogram[notdata].sum(\"dataset\"),\n",
    "        ax=rax,\n",
    "        error_opts=data_err_opts,\n",
    "        denom_fill_opts={},\n",
    "        guide_opts={},\n",
    "        unc='num',\n",
    "        overflow=bins[name]['overflow']\n",
    "    )\n",
    "\n",
    "\n",
    "    for l in ['linear']:\n",
    "        saveFig(fig, ax, rax, plotDir, name, scale=l, shape=False, y_max=y_max)"
   ]
  },
  {
   "cell_type": "code",
   "execution_count": 93,
   "metadata": {
    "scrolled": false
   },
   "outputs": [
    {
     "data": {
      "image/png": "[encoded data removed]",
      "text/plain": [
       "<Figure size 504x504 with 1 Axes>"
      ]
     },
     "metadata": {},
     "output_type": "display_data"
    }
   ],
   "source": [
    "if True:\n",
    "    try:\n",
    "        fig, ax = plt.subplots(1,1,figsize=(7,7))\n",
    "        notdata = re.compile('(?!pseudodata|wjets)')\n",
    "        hist.plot1d(histogram[notdata],overlay=\"dataset\", density=True, stack=False, overflow=bins[name]['overflow'], ax=ax) # make density plots because we don't care about x-sec differences\n",
    "        for l in ['linear']:\n",
    "            saveFig(fig, ax, None, plotDir, name+'_shape', scale=l, shape=True)\n",
    "    except ValueError:\n",
    "        print (\"Can't make shape plot for a weird reason\")"
   ]
  },
  {
   "cell_type": "markdown",
   "metadata": {},
   "source": [
    "Indeed, the ttW shape has a much lower tail compared to ttZ and diboson!"
   ]
  },
  {
   "cell_type": "markdown",
   "metadata": {},
   "source": [
    "## Final remarks\n",
    "\n",
    "While we should use coffea to make meaningful histograms and cut flows in order to handle the large amount of data, most of the development of how to calculate variables should be done outside of coffea processors. They are really hard to debug, and usually it takes some time before the processor fails. It's much faster to just load a single root file and play with the methods and check whether the output is really what one expects.\n",
    "\n",
    "Most of the code in the repository is a work-in-progress and will change over time. It's not expected to be bug free at this stage, please report any issues or questions.\n",
    "\n",
    "I recommend that you look at the code and the functions that are imported, like the cutflow and object classes, and see what's happening there. Explaining every detail is a bit out of scope of this notebook."
   ]
  },
  {
   "cell_type": "code",
   "execution_count": null,
   "metadata": {},
   "outputs": [],
   "source": []
  }
 ],
 "metadata": {
  "kernelspec": {
   "display_name": "coffeaEnv",
   "language": "python",
   "name": "coffeaenv"
  },
  "language_info": {
   "codemirror_mode": {
    "name": "ipython",
    "version": 3
   },
   "file_extension": ".py",
   "mimetype": "text/x-python",
   "name": "python",
   "nbconvert_exporter": "python",
   "pygments_lexer": "ipython3",
   "version": "3.6.4"
  }
 },
 "nbformat": 4,
 "nbformat_minor": 2
}
