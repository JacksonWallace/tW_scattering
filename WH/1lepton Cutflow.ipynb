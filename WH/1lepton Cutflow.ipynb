{
 "cells": [
  {
   "cell_type": "code",
   "execution_count": 2,
   "metadata": {},
   "outputs": [],
   "source": [
    "#notebook heavily stolen from https://github.com/mirandabryson/WH-All-Hadronic-Coffea-Tools/blob/master/cutflownotebook.ipynb\n",
    "import os\n",
    "import time\n",
    "import glob\n",
    "import re\n",
    "from functools import reduce\n",
    "\n",
    "import numpy as np\n",
    "from tqdm.auto import tqdm\n",
    "import coffea.processor as processor\n",
    "from coffea.processor.accumulator import AccumulatorABC\n",
    "from coffea import hist\n",
    "from coffea.analysis_objects import JaggedCandidateArray\n",
    "import pandas as pd\n",
    "import uproot_methods\n",
    "import awkward\n",
    "\n",
    "\n",
    "import matplotlib\n",
    "import matplotlib.pyplot as plt\n",
    "from matplotlib.colors import LogNorm"
   ]
  },
  {
   "cell_type": "code",
   "execution_count": 4,
   "metadata": {},
   "outputs": [],
   "source": [
    "def addRowToCutFlow(output, df, name, selection):\n",
    "    '''\n",
    "    add one row with name and selection for each process to the cutflow accumulator\n",
    "    '''\n",
    "\n",
    "    if selection is not None:\n",
    "        output['cutflow'][name] += (sum(df['weight'][selection].flatten())*137)\n",
    "    else:\n",
    "        output['cutflow'][name] += (sum(df['weight'].flatten())*137)\n",
    "            \n",
    "def getCutFlowTable(output, outputname, lines = ['all']):\n",
    "    '''\n",
    "    Takes a cache and returns a formated cut-flow table of processes.\n",
    "    Lines and processes have to follow the naming of the coffea processor output.\n",
    "    '''\n",
    "    res = pd.DataFrame([])\n",
    "    for line in lines:\n",
    "        res = res.append(pd.DataFrame({outputname : output['cutflow'][line]}, index=[line]))\n",
    "    return res"
   ]
  },
  {
   "cell_type": "code",
   "execution_count": 41,
   "metadata": {},
   "outputs": [],
   "source": [
    "# This just tells matplotlib not to open any\n",
    "# interactive windows.\n",
    "matplotlib.use('Agg')\n",
    "\n",
    "class WHhadProcessor(processor.ProcessorABC):\n",
    "    \"\"\"Processor used to find the pt rations\"\"\"\n",
    "    def __init__(self):\n",
    "\n",
    "         # we can use a large number of bins and rebin later\n",
    "        dataset_axis        = hist.Cat(\"dataset\", \"Primary dataset\")\n",
    "        pt_axis             = hist.Bin(\"pt\", r\"$p_{T}$ (GeV)\", 40, 200, 1200)\n",
    "        mass_axis           = hist.Bin(\"mass\", r\" mass (GeV)\", 50, 0, 250)\n",
    "        eta_axis            = hist.Bin(\"eta\", r\"$\\eta$\", 60, -5.5, 5.5)\n",
    "        multiplicity_axis   = hist.Bin(\"multiplicity\", r\"N\", 20, 0, 20)\n",
    "        r_axis               = hist.Bin(\"r\", r\"$\\Delta R$\", 80, 0, 4)\n",
    "\n",
    "        self._accumulator = processor.dict_accumulator({\n",
    "            'cutflow':              processor.defaultdict_accumulator(int),\n",
    "            'number j':             hist.Hist(\"Counts\", dataset_axis, multiplicity_axis),\n",
    "            'number b':             hist.Hist(\"Counts\", dataset_axis, multiplicity_axis),\n",
    "            'number h':             hist.Hist(\"Counts\", dataset_axis, multiplicity_axis),\n",
    "            'number w':             hist.Hist(\"Counts\", dataset_axis, multiplicity_axis),\n",
    "            'number fj':            hist.Hist(\"Counts\", dataset_axis, multiplicity_axis),\n",
    "            'met':                  hist.Hist(\"Counts\", dataset_axis, pt_axis),\n",
    "            'h mass':               hist.Hist(\"Counts\", dataset_axis, mass_axis),\n",
    "            'ht':                   hist.Hist(\"Counts\", dataset_axis, pt_axis),\n",
    "            'met2':                  hist.Hist(\"Counts\", dataset_axis, pt_axis),            \n",
    "        })\n",
    "        \n",
    "    @property\n",
    "    def accumulator(self):\n",
    "        return self._accumulator\n",
    "\n",
    "    def process(self, df):\n",
    "        \"\"\"\n",
    "        Processing function. This is where the actual analysis happens.\n",
    "        \"\"\"\n",
    "        output = self.accumulator.identity()\n",
    "        \n",
    "        #Jagged Arrays\n",
    "        #MET\n",
    "        metphi = df[\"MET_phi\"]\n",
    "        metpt = df[\"MET_pt\"]\n",
    "        \n",
    "        #leptons\n",
    "        \n",
    "        electrons = JaggedCandidateArray.candidatesfromcounts(\n",
    "            df['nElectron'],\n",
    "            pt=df['Electron_pt'].content, \n",
    "            eta=df['Electron_eta'].content, \n",
    "            phi=df['Electron_phi'].content,\n",
    "            mass=df['Electron_mass'].content,\n",
    "            pdgid=df['Electron_pdgId'].content,\n",
    "            mini_iso=df['Electron_miniPFRelIso_all'].content,\n",
    "            cutbased = df['Electron_cutBased'].content,\n",
    "        )\n",
    "        \n",
    "        \n",
    "        muons = JaggedCandidateArray.candidatesfromcounts(\n",
    "            df['nMuon'],\n",
    "            pt=df['Muon_pt'].content, \n",
    "            eta=df['Muon_eta'].content, \n",
    "            phi=df['Muon_phi'].content,\n",
    "            mass=df['Muon_mass'].content,\n",
    "            pdgid=df['Muon_pdgId'].content,\n",
    "            mini_iso=df['Muon_miniPFRelIso_all'].content, \n",
    "            looseid =df['Muon_looseId'].content\n",
    "        )\n",
    "        \n",
    "        taus = JaggedCandidateArray.candidatesfromcounts(\n",
    "            df['nTau'],\n",
    "            pt=df['Tau_pt'].content, \n",
    "            eta=df['Tau_eta'].content, \n",
    "            phi=df['Tau_phi'].content,\n",
    "            mass=df['Tau_mass'].content,\n",
    "            decaymode=df['Tau_idDecayMode'].content,\n",
    "            newid=df['Tau_idMVAnewDM2017v2'].content,\n",
    "        )\n",
    "        \n",
    "        isotracks = awkward.JaggedArray.zip(\n",
    "            pt=df['IsoTrack_pt'], \n",
    "            eta=df['IsoTrack_eta'], \n",
    "            phi=df['IsoTrack_phi'], \n",
    "            rel_iso=df['IsoTrack_pfRelIso03_all'], \n",
    "        )\n",
    "        \n",
    "        #jets\n",
    "        jets = JaggedCandidateArray.candidatesfromcounts(\n",
    "            df['nJet'],\n",
    "            pt=df['Jet_pt'].content, \n",
    "            eta=df['Jet_eta'].content, \n",
    "            phi=df['Jet_phi'].content,\n",
    "            btag=df['Jet_btagDeepB'].content, \n",
    "            jetid=df['Jet_jetId'].content, \n",
    "            mass=df['Jet_mass'].content,\n",
    "        )\n",
    "        fatjets = JaggedCandidateArray.candidatesfromcounts(\n",
    "            df['nFatJet'],\n",
    "            pt=df['FatJet_pt'].content, \n",
    "            eta=df['FatJet_eta'].content, \n",
    "            phi=df['FatJet_phi'].content, \n",
    "            mass=df['FatJet_mass'].content, \n",
    "            softdrop=df[\"FatJet_msoftdrop\"].content,  \n",
    "            fromH = df['FatJet_deepTagMD_HbbvsQCD'].content, \n",
    "            fromW_MD = df['FatJet_deepTagMD_WvsQCD'].content, \n",
    "            fromW_MC = df['FatJet_deepTag_WvsQCD'].content\n",
    "            \n",
    "        )\n",
    "        \n",
    "         #ak4's\n",
    "        goodjcut = ((jets.pt>30) & (abs(jets.eta)<2.4) & (jets.jetid>0))\n",
    "        goodjets = jets[goodjcut]\n",
    "        njets = goodjets.counts\n",
    "        jetpt_sorted = goodjets.pt.argsort(ascending=False)\n",
    "        leadjet = goodjets[jetpt_sorted==0]\n",
    "        subleadjet = goodjets[jetpt_sorted==1]\n",
    "        leadjets = goodjets[jetpt_sorted <= 1]\n",
    "      \n",
    "        bjcut = ((jets.pt>30) & (abs(jets.eta)<2.4) & (jets.jetid>0) & (jets.btag>0.4184))\n",
    "        bjets = jets[bjcut]\n",
    "        numbjets = bjets.counts\n",
    "        bjetpt = bjets.pt\n",
    "        bjetpt_sorted = bjetpt.argsort(ascending=False)\n",
    "        leadbjet = bjets[bjetpt_sorted==0]\n",
    "        subleadbjet = bjets[bjetpt_sorted==1]\n",
    "        leadbjets = bjets[bjetpt_sorted <= 1]\n",
    "            \n",
    "        nonbjcut = ((jets.pt>30) & (abs(jets.eta)<2.4) & (jets.jetid>0) & (jets.btag<0.4184))\n",
    "        nbjets = jets[nonbjcut]\n",
    "        nbjetpt_sorted = nbjets.pt.argsort(ascending=False)\n",
    "        leadnbjet = nbjets[nbjetpt_sorted==0]\n",
    "        subleadnbjet = nbjets[nbjetpt_sorted==1]\n",
    "        leadnbjets = nbjets[nbjetpt_sorted <= 1]\n",
    "\n",
    "        \n",
    "        #ak8's\n",
    "        goodfjcut = (fatjets.pt > 200)\n",
    "        goodfatjets = fatjets[goodfjcut]\n",
    "        \n",
    "        htagcut = (fatjets.pt > 200) & (fatjets.fromH > 0.8365)\n",
    "        htagged = fatjets[htagcut]\n",
    "        htagpt_sorted = htagged.pt.argsort(ascending=False)\n",
    "        leadhtag = htagged[htagpt_sorted==0]\n",
    "        subleadhtag = htagged[htagpt_sorted==1]\n",
    "        leadhtags = htagged[htagpt_sorted <= 1]\n",
    "        \n",
    "        wtagcut_mc = ((fatjets.pt > 200) & (fatjets.fromW_MC > 0.918) & (fatjets.fromH < 0.8365))\n",
    "        wtagcut_md = ((fatjets.pt > 200) & (fatjets.fromW_MD > 0.704) & (fatjets.fromH < 0.8365))\n",
    "        wtagged_mc = fatjets[wtagcut_mc]\n",
    "        wtagged_md = fatjets[wtagcut_md]\n",
    "        wtagmcpt_sorted = wtagged_mc.pt.argsort(ascending=False)\n",
    "        leadwmctag = wtagged_mc[wtagmcpt_sorted==0]\n",
    "        subleadwmctag = wtagged_mc[wtagmcpt_sorted==1]\n",
    "        leadwmctags = wtagged_mc[wtagmcpt_sorted <= 1]\n",
    "        wtagmdpt_sorted = wtagged_md.pt.argsort(ascending=False)\n",
    "        leadwmdtag = wtagged_md[wtagmdpt_sorted==0]\n",
    "        subleadwmdtag = wtagged_md[wtagmdpt_sorted==1]\n",
    "        leadwmdtags = wtagged_md[wtagmdpt_sorted <= 1]\n",
    " \n",
    "        WmcH = leadwmctag.cross(leadhtag)\n",
    "        WmcHpt_sorted = WmcH.pt.argsort(ascending=False)\n",
    "        leadWmcleadH = WmcH[WmcHpt_sorted <=1]\n",
    "\n",
    "        WmdH = leadwmdtag.cross(leadhtag)\n",
    "        WmdHpt_sorted = WmdH.pt.argsort(ascending=False)\n",
    "        leadWmdleadH = WmdH[WmdHpt_sorted <=1]\n",
    "\n",
    "        #match jets\n",
    "        \n",
    "        leadjleadH = leadhtag.cross(leadjet)\n",
    "        leadbjleadH = leadhtag.cross(leadbjet)\n",
    "        leadnbjleadH = leadhtag.cross(leadnbjet)\n",
    "        \n",
    "        subleadjleadH = leadhtag.cross(subleadjet)\n",
    "        subleadbjleadH = leadhtag.cross(subleadbjet)\n",
    "        subleadnbjleadH = leadhtag.cross(subleadnbjet)\n",
    "        \n",
    "        leadjleadW = leadwmctag.cross(leadjet)\n",
    "        leadbjleadW = leadwmctag.cross(leadbjet)\n",
    "        leadnbjleadW = leadwmctag.cross(leadnbjet)\n",
    "        \n",
    "        subleadjleadW = leadwmctag.cross(leadjet)\n",
    "        subleadbjleadW = leadwmctag.cross(leadbjet)\n",
    "        subleadnbjleadW = leadwmctag.cross(leadnbjet)\n",
    "        \n",
    "        #angles\n",
    "        \n",
    "        leadjleadHDR = leadjleadH.i0.p4.delta_r(leadjleadH.i1.p4)\n",
    "        leadjleadHDPhi = abs(leadjleadH.i0.p4.delta_phi(leadjleadH.i1.p4))\n",
    "        leadbjleadHDR = leadbjleadH.i0.p4.delta_r(leadbjleadH.i1.p4)\n",
    "        leadbjleadHDPhi = abs(leadbjleadH.i0.p4.delta_phi(leadbjleadH.i1.p4))\n",
    "        leadnbjleadHDR = leadnbjleadH.i0.p4.delta_r(leadnbjleadH.i1.p4)\n",
    "        leadnbjleadHDPhi = abs(leadnbjleadH.i0.p4.delta_phi(leadnbjleadH.i1.p4))\n",
    "        \n",
    "        subleadjleadHDR = subleadjleadH.i0.p4.delta_r(subleadjleadH.i1.p4)\n",
    "        subleadjleadHDPhi = abs(subleadjleadH.i0.p4.delta_phi(subleadjleadH.i1.p4))\n",
    "        subleadbjleadHDR = subleadbjleadH.i0.p4.delta_r(subleadbjleadH.i1.p4)\n",
    "        subleadbjleadHDPhi = abs(subleadbjleadH.i0.p4.delta_phi(subleadbjleadH.i1.p4))\n",
    "        subleadnbjleadHDR = subleadnbjleadH.i0.p4.delta_r(subleadnbjleadH.i1.p4)\n",
    "        subleadnbjleadHDPhi = abs(subleadnbjleadH.i0.p4.delta_phi(subleadnbjleadH.i1.p4))\n",
    "        \n",
    "        leadjleadWDR = leadjleadW.i0.p4.delta_r(leadjleadW.i1.p4)\n",
    "        leadjleadWDPhi = abs(leadjleadW.i0.p4.delta_phi(leadjleadW.i1.p4))\n",
    "        leadbjleadWDR = leadbjleadW.i0.p4.delta_r(leadbjleadW.i1.p4)\n",
    "        leadbjleadWDPhi = abs(leadbjleadW.i0.p4.delta_phi(leadbjleadW.i1.p4))\n",
    "        leadnbjleadWDR = leadnbjleadW.i0.p4.delta_r(leadnbjleadW.i1.p4)\n",
    "        leadnbjleadWDPhi = abs(leadnbjleadW.i0.p4.delta_phi(leadnbjleadW.i1.p4))\n",
    "        \n",
    "        subleadjleadWDR = subleadjleadW.i0.p4.delta_r(subleadjleadW.i1.p4)\n",
    "        subleadjleadWDPhi = abs(subleadjleadW.i0.p4.delta_phi(subleadjleadW.i1.p4))\n",
    "        subleadbjleadWDR = subleadbjleadW.i0.p4.delta_r(subleadbjleadW.i1.p4)\n",
    "        subleadbjleadWDPhi = abs(subleadbjleadW.i0.p4.delta_phi(subleadbjleadW.i1.p4))\n",
    "        subleadnbjleadWDR = subleadnbjleadW.i0.p4.delta_r(subleadnbjleadW.i1.p4)\n",
    "        subleadnbjleadWDPhi = abs(subleadnbjleadW.i0.p4.delta_phi(subleadnbjleadW.i1.p4))\n",
    "        \n",
    "        \n",
    "        #match phi\n",
    "        dphi_leadj_met = abs((leadjet.phi - metphi + np.pi) % (2 * np.pi) - np.pi)\n",
    "        dphi_leadbj_met = abs((leadbjet.phi - metphi + np.pi) % (2 * np.pi) - np.pi)\n",
    "        dphi_leadnbj_met = abs((leadnbjet.phi - metphi + np.pi) % (2 * np.pi) - np.pi)\n",
    "        \n",
    "        dphi_subleadj_met = abs((subleadjet.phi - metphi + np.pi) % (2 * np.pi) - np.pi)\n",
    "        dphi_subleadbj_met = abs((subleadbjet.phi - metphi + np.pi) % (2 * np.pi) - np.pi)\n",
    "        dphi_subleadnbj_met = abs((subleadnbjet.phi - metphi + np.pi) % (2 * np.pi) - np.pi)\n",
    "        \n",
    "        dphi_h_met = abs((leadhtag.phi - metphi + np.pi) % (2 * np.pi) - np.pi)\n",
    "        dphi_w_met = abs((leadwmctag.phi - metphi + np.pi) % (2 * np.pi) - np.pi)\n",
    "        \n",
    "        \n",
    "        #MT      \n",
    "        \n",
    "        dphi_leadbs_met = abs((leadbjets.phi - metphi + np.pi) % (2 * np.pi) - np.pi)\n",
    "        mt_b_met = np.sqrt(2*leadbjets.pt*metpt*(1-np.cos(dphi_leadbs_met)))\n",
    "\n",
    "        \n",
    "        sorted_min_mt_b_met = mt_b_met.argsort(ascending=True)\n",
    "        sorted_max_mt_b_met = mt_b_met.argsort(ascending=False)\n",
    "        min_mt_b_met = mt_b_met[sorted_min_mt_b_met == 0]\n",
    "        max_mt_b_met = mt_b_met[sorted_max_mt_b_met == 0]\n",
    "\n",
    "        \n",
    "        #leptons\n",
    "        \n",
    "        one_e_cut = (electrons.pt > 10) & (abs(electrons.eta) < 2.4) & (electrons.mini_iso < 0.1) & (electrons.cutbased >= 1)\n",
    "        one_e = electrons[one_e_cut]\n",
    "        \n",
    "        one_m_cut = (muons.pt > 10) & (abs(muons.eta) < 2.4) & (muons.looseid) & (muons.mini_iso < 0.2)\n",
    "        one_m = muons[one_m_cut]\n",
    "        \n",
    "        one_t_cut = (taus.pt > 10) & (abs(taus.eta) < 2.4) & (taus.decaymode) & (taus.newid >= 8)\n",
    "        one_t = taus[one_t_cut]\n",
    "        \n",
    "        veto_it_cut = (isotracks.pt > 10) & (abs(isotracks.eta) < 2.4) & ((isotracks.rel_iso < (0.1*isotracks.pt)) | (isotracks.rel_iso < 6))\n",
    "        veto_it = isotracks[veto_it_cut]\n",
    "\n",
    "        \n",
    "        #softdrop mass\n",
    "        hsd_cut = (htagged.softdrop > 1)\n",
    "        hsd = htagged[hsd_cut]\n",
    "        \n",
    "        #PRESELECTION\n",
    "        ht = goodjets.pt.sum()\n",
    "        \n",
    "        met_ps = (df['MET_pt']>250)\n",
    "        njet_ps = (goodjets.counts >= 2)\n",
    "        bjet_ps = (bjets.counts >= 1)\n",
    "        fatjet1_ps = (goodfatjets.counts >= 1)\n",
    "        fatjet2_ps = (goodfatjets.counts >= 2)\n",
    "        ht_ps = (ht > 300)\n",
    "        \n",
    "        presel = met_ps & njet_ps & bjet_ps  & ht_ps\n",
    "        h_sel =(htagged.counts > 0) \n",
    "        wmc_sel = (wtagged_mc.counts > 0) \n",
    "        l_sel = (one_e.counts + one_m.counts + one_t.counts == 1)\n",
    "        it_sel = (veto_it.counts == 0)\n",
    "        mt_sel = (min_mt_b_met > 200).any()\n",
    "        sd_sel = (hsd.count == 1)\n",
    "        \n",
    "        #cumulative preselection\n",
    "        \n",
    "        sel1 = l_sel\n",
    "        sel3 = l_sel & met_ps\n",
    "        sel4 = l_sel & met_ps & ht_ps\n",
    "        sel5 = l_sel & met_ps & ht_ps & njet_ps \n",
    "        sel6 = l_sel & met_ps & ht_ps & njet_ps & bjet_ps\n",
    "        sel7 = l_sel & met_ps & ht_ps & njet_ps & bjet_ps & mt_sel\n",
    "        sel8 = l_sel & met_ps & ht_ps & njet_ps & bjet_ps & mt_sel & fatjet1_ps\n",
    "        sel9 = l_sel & met_ps & ht_ps & njet_ps & bjet_ps & mt_sel  & fatjet2_ps\n",
    "        sel10 = l_sel & met_ps & ht_ps & njet_ps & bjet_ps & mt_sel & fatjet2_ps & h_sel \n",
    "        sel11 = l_sel & met_ps & ht_ps & njet_ps & bjet_ps & mt_sel & h_sel & wmc_sel & fatjet2_ps\n",
    "        sel12 = l_sel & met_ps & ht_ps & njet_ps & bjet_ps & mt_sel & h_sel & wmc_sel & fatjet2_ps & sd_sel\n",
    "\n",
    "        #DEFINE VARIABLES \n",
    "        wght = df['weight'][sel9] * 60\n",
    "        wght_htag = df['weight'][sel9 & h_sel] * 60\n",
    "\n",
    "        #FILL OUTPUTS\n",
    "        \n",
    "        dataset = df[\"dataset\"]\n",
    "        output['number j'].fill(dataset=dataset, multiplicity = njets[sel9].flatten(), weight = wght)\n",
    "        output['number b'].fill(dataset=dataset, multiplicity = numbjets[sel9].flatten(), weight = wght)\n",
    "        output['number fj'].fill(dataset=dataset, multiplicity = (fatjets.counts)[sel9].flatten(), weight = wght)\n",
    "        output['number h'].fill(dataset=dataset, multiplicity = (htagged.counts)[sel9].flatten(), weight = wght)\n",
    "        output['number w'].fill(dataset=dataset, multiplicity = (wtagged_mc.counts)[sel9].flatten(), weight = wght)\n",
    "        output['met'].fill(dataset=dataset, pt = metpt[sel9].flatten(), weight = wght)\n",
    "        output['h mass'].fill(dataset=dataset, mass = leadhtag.mass[sel9 & h_sel].flatten(), weight = wght_htag)\n",
    "        #output['ht'].fill(dataset=dataset, pt = ht.flatten(), weight = wght0)\n",
    "        #output['met2'].fill(dataset=dataset, pt = metpt.flatten(), weight=wght0)\n",
    "\n",
    "        #raw cutflow\n",
    "        \n",
    "        addRowToCutFlow(output, df, 'all', None)\n",
    "        addRowToCutFlow(output, df, '+ one lepton', sel1)\n",
    "        addRowToCutFlow(output, df, '+ met', sel3)\n",
    "        addRowToCutFlow(output, df, '+ ht', sel4)\n",
    "        addRowToCutFlow(output, df, '+ njet', sel5)\n",
    "        addRowToCutFlow(output, df, '+ bjet', sel6)\n",
    "        addRowToCutFlow(output, df, '+ min(mt(bs,met))', sel7)\n",
    "        addRowToCutFlow(output, df, '+ fatjet >=1 ', sel8)\n",
    "        addRowToCutFlow(output, df, '+ fatjet >=2 ', sel9)\n",
    "        #addRowToCutFlow(output, df, '+ h > 0', sel10)\n",
    "        #addRowToCutFlow(output, df, '+ w(MC) > 0', sel11)\n",
    "\n",
    "        return output\n",
    "    \n",
    "    def postprocess(self, accumulator):\n",
    "        return accumulator"
   ]
  },
  {
   "cell_type": "code",
   "execution_count": 53,
   "metadata": {},
   "outputs": [],
   "source": [
    "# This just tells matplotlib not to open any\n",
    "# interactive windows.\n",
    "matplotlib.use('Agg')\n",
    "\n",
    "class WHhadProcessor2(processor.ProcessorABC):\n",
    "    \"\"\"Processor used to find the pt rations\"\"\"\n",
    "    def __init__(self):\n",
    "\n",
    "         # we can use a large number of bins and rebin later\n",
    "        dataset_axis        = hist.Cat(\"dataset\", \"Primary dataset\")\n",
    "        pt_axis             = hist.Bin(\"pt\", r\"$p_{T}$ (GeV)\", 40, 200, 1200)\n",
    "        mass_axis           = hist.Bin(\"mass\", r\" mass (GeV)\", 50, 0, 250)\n",
    "        eta_axis            = hist.Bin(\"eta\", r\"$\\eta$\", 60, -5.5, 5.5)\n",
    "        multiplicity_axis   = hist.Bin(\"multiplicity\", r\"N\", 20, 0, 20)\n",
    "        r_axis               = hist.Bin(\"r\", r\"$\\Delta R$\", 80, 0, 4)\n",
    "\n",
    "        self._accumulator = processor.dict_accumulator({\n",
    "            'number j':             hist.Hist(\"Counts\", dataset_axis, multiplicity_axis),\n",
    "            'number b':             hist.Hist(\"Counts\", dataset_axis, multiplicity_axis),\n",
    "            'number h':             hist.Hist(\"Counts\", dataset_axis, multiplicity_axis),\n",
    "            'number w':             hist.Hist(\"Counts\", dataset_axis, multiplicity_axis),\n",
    "            'number fj':            hist.Hist(\"Counts\", dataset_axis, multiplicity_axis),\n",
    "            'met':                  hist.Hist(\"Counts\", dataset_axis, pt_axis),\n",
    "            'h mass':               hist.Hist(\"Counts\", dataset_axis, mass_axis),\n",
    "        })\n",
    "        \n",
    "    @property\n",
    "    def accumulator(self):\n",
    "        return self._accumulator\n",
    "\n",
    "    def process(self, df):\n",
    "        \"\"\"\n",
    "        Processing function. This is where the actual analysis happens.\n",
    "        \"\"\"\n",
    "        output = self.accumulator.identity()\n",
    "        \n",
    "        #Jagged Arrays\n",
    "        #MET\n",
    "        metphi = df[\"MET_phi\"]\n",
    "        metpt = df[\"MET_pt\"]\n",
    "        \n",
    "        #leptons\n",
    "        \n",
    "        electrons = JaggedCandidateArray.candidatesfromcounts(\n",
    "            df['nElectron'],\n",
    "            pt=df['Electron_pt'].content, \n",
    "            eta=df['Electron_eta'].content, \n",
    "            phi=df['Electron_phi'].content,\n",
    "            mass=df['Electron_mass'].content,\n",
    "            pdgid=df['Electron_pdgId'].content,\n",
    "            mini_iso=df['Electron_miniPFRelIso_all'].content,\n",
    "            cutbased = df['Electron_cutBased'].content,\n",
    "        )\n",
    "        \n",
    "        \n",
    "        muons = JaggedCandidateArray.candidatesfromcounts(\n",
    "            df['nMuon'],\n",
    "            pt=df['Muon_pt'].content, \n",
    "            eta=df['Muon_eta'].content, \n",
    "            phi=df['Muon_phi'].content,\n",
    "            mass=df['Muon_mass'].content,\n",
    "            pdgid=df['Muon_pdgId'].content,\n",
    "            mini_iso=df['Muon_miniPFRelIso_all'].content, \n",
    "            looseid =df['Muon_looseId'].content\n",
    "        )\n",
    "        \n",
    "        taus = JaggedCandidateArray.candidatesfromcounts(\n",
    "            df['nTau'],\n",
    "            pt=df['Tau_pt'].content, \n",
    "            eta=df['Tau_eta'].content, \n",
    "            phi=df['Tau_phi'].content,\n",
    "            mass=df['Tau_mass'].content,\n",
    "            decaymode=df['Tau_idDecayMode'].content,\n",
    "            newid=df['Tau_idMVAnewDM2017v2'].content,\n",
    "        )\n",
    "        \n",
    "        isotracks = awkward.JaggedArray.zip(\n",
    "            pt=df['IsoTrack_pt'], \n",
    "            eta=df['IsoTrack_eta'], \n",
    "            phi=df['IsoTrack_phi'], \n",
    "            rel_iso=df['IsoTrack_pfRelIso03_all'], \n",
    "        )\n",
    "        \n",
    "        #jets\n",
    "        jets = JaggedCandidateArray.candidatesfromcounts(\n",
    "            df['nJet'],\n",
    "            pt=df['Jet_pt'].content, \n",
    "            eta=df['Jet_eta'].content, \n",
    "            phi=df['Jet_phi'].content,\n",
    "            btag=df['Jet_btagDeepB'].content, \n",
    "            jetid=df['Jet_jetId'].content, \n",
    "            mass=df['Jet_mass'].content,\n",
    "        )\n",
    "        fatjets = JaggedCandidateArray.candidatesfromcounts(\n",
    "            df['nFatJet'],\n",
    "            pt=df['FatJet_pt'].content, \n",
    "            eta=df['FatJet_eta'].content, \n",
    "            phi=df['FatJet_phi'].content, \n",
    "            mass=df['FatJet_mass'].content, \n",
    "            softdrop=df[\"FatJet_msoftdrop\"].content,  \n",
    "            fromH = df['FatJet_deepTagMD_HbbvsQCD'].content, \n",
    "            fromW_MD = df['FatJet_deepTagMD_WvsQCD'].content, \n",
    "            fromW_MC = df['FatJet_deepTag_WvsQCD'].content\n",
    "            \n",
    "        )\n",
    "        \n",
    "         #ak4's\n",
    "        goodjcut = ((jets.pt>30) & (abs(jets.eta)<2.4) & (jets.jetid>0))\n",
    "        goodjets = jets[goodjcut]\n",
    "        njets = goodjets.counts\n",
    "        jetpt_sorted = goodjets.pt.argsort(ascending=False)\n",
    "        leadjet = goodjets[jetpt_sorted==0]\n",
    "        subleadjet = goodjets[jetpt_sorted==1]\n",
    "        leadjets = goodjets[jetpt_sorted <= 1]\n",
    "      \n",
    "        bjcut = ((jets.pt>30) & (abs(jets.eta)<2.4) & (jets.jetid>0) & (jets.btag>0.4184))\n",
    "        bjets = jets[bjcut]\n",
    "        numbjets = bjets.counts\n",
    "        bjetpt = bjets.pt\n",
    "        bjetpt_sorted = bjetpt.argsort(ascending=False)\n",
    "        leadbjet = bjets[bjetpt_sorted==0]\n",
    "        subleadbjet = bjets[bjetpt_sorted==1]\n",
    "        leadbjets = bjets[bjetpt_sorted <= 1]\n",
    "            \n",
    "        nonbjcut = ((jets.pt>30) & (abs(jets.eta)<2.4) & (jets.jetid>0) & (jets.btag<0.4184))\n",
    "        nbjets = jets[nonbjcut]\n",
    "        nbjetpt_sorted = nbjets.pt.argsort(ascending=False)\n",
    "        leadnbjet = nbjets[nbjetpt_sorted==0]\n",
    "        subleadnbjet = nbjets[nbjetpt_sorted==1]\n",
    "        leadnbjets = nbjets[nbjetpt_sorted <= 1]\n",
    "\n",
    "        \n",
    "        #ak8's\n",
    "        goodfjcut = (fatjets.pt > 200)\n",
    "        goodfatjets = fatjets[goodfjcut]\n",
    "        \n",
    "        htagcut = (fatjets.pt > 200) & (fatjets.fromH > 0.8365)\n",
    "        htagged = fatjets[htagcut]\n",
    "        htagpt_sorted = htagged.pt.argsort(ascending=False)\n",
    "        leadhtag = htagged[htagpt_sorted==0]\n",
    "        subleadhtag = htagged[htagpt_sorted==1]\n",
    "        leadhtags = htagged[htagpt_sorted <= 1]\n",
    "        \n",
    "        wtagcut_mc = ((fatjets.pt > 200) & (fatjets.fromW_MC > 0.918) & (fatjets.fromH < 0.8365))\n",
    "        wtagcut_md = ((fatjets.pt > 200) & (fatjets.fromW_MD > 0.704) & (fatjets.fromH < 0.8365))\n",
    "        wtagged_mc = fatjets[wtagcut_mc]\n",
    "        wtagged_md = fatjets[wtagcut_md]\n",
    "        wtagmcpt_sorted = wtagged_mc.pt.argsort(ascending=False)\n",
    "        leadwmctag = wtagged_mc[wtagmcpt_sorted==0]\n",
    "        subleadwmctag = wtagged_mc[wtagmcpt_sorted==1]\n",
    "        leadwmctags = wtagged_mc[wtagmcpt_sorted <= 1]\n",
    "        wtagmdpt_sorted = wtagged_md.pt.argsort(ascending=False)\n",
    "        leadwmdtag = wtagged_md[wtagmdpt_sorted==0]\n",
    "        subleadwmdtag = wtagged_md[wtagmdpt_sorted==1]\n",
    "        leadwmdtags = wtagged_md[wtagmdpt_sorted <= 1]\n",
    " \n",
    "        WmcH = leadwmctag.cross(leadhtag)\n",
    "        WmcHpt_sorted = WmcH.pt.argsort(ascending=False)\n",
    "        leadWmcleadH = WmcH[WmcHpt_sorted <=1]\n",
    "\n",
    "        WmdH = leadwmdtag.cross(leadhtag)\n",
    "        WmdHpt_sorted = WmdH.pt.argsort(ascending=False)\n",
    "        leadWmdleadH = WmdH[WmdHpt_sorted <=1]\n",
    "\n",
    "        #match jets\n",
    "        \n",
    "        leadjleadH = leadhtag.cross(leadjet)\n",
    "        leadbjleadH = leadhtag.cross(leadbjet)\n",
    "        leadnbjleadH = leadhtag.cross(leadnbjet)\n",
    "        \n",
    "        subleadjleadH = leadhtag.cross(subleadjet)\n",
    "        subleadbjleadH = leadhtag.cross(subleadbjet)\n",
    "        subleadnbjleadH = leadhtag.cross(subleadnbjet)\n",
    "        \n",
    "        leadjleadW = leadwmctag.cross(leadjet)\n",
    "        leadbjleadW = leadwmctag.cross(leadbjet)\n",
    "        leadnbjleadW = leadwmctag.cross(leadnbjet)\n",
    "        \n",
    "        subleadjleadW = leadwmctag.cross(leadjet)\n",
    "        subleadbjleadW = leadwmctag.cross(leadbjet)\n",
    "        subleadnbjleadW = leadwmctag.cross(leadnbjet)\n",
    "        \n",
    "        #angles\n",
    "        \n",
    "        leadjleadHDR = leadjleadH.i0.p4.delta_r(leadjleadH.i1.p4)\n",
    "        leadjleadHDPhi = abs(leadjleadH.i0.p4.delta_phi(leadjleadH.i1.p4))\n",
    "        leadbjleadHDR = leadbjleadH.i0.p4.delta_r(leadbjleadH.i1.p4)\n",
    "        leadbjleadHDPhi = abs(leadbjleadH.i0.p4.delta_phi(leadbjleadH.i1.p4))\n",
    "        leadnbjleadHDR = leadnbjleadH.i0.p4.delta_r(leadnbjleadH.i1.p4)\n",
    "        leadnbjleadHDPhi = abs(leadnbjleadH.i0.p4.delta_phi(leadnbjleadH.i1.p4))\n",
    "        \n",
    "        subleadjleadHDR = subleadjleadH.i0.p4.delta_r(subleadjleadH.i1.p4)\n",
    "        subleadjleadHDPhi = abs(subleadjleadH.i0.p4.delta_phi(subleadjleadH.i1.p4))\n",
    "        subleadbjleadHDR = subleadbjleadH.i0.p4.delta_r(subleadbjleadH.i1.p4)\n",
    "        subleadbjleadHDPhi = abs(subleadbjleadH.i0.p4.delta_phi(subleadbjleadH.i1.p4))\n",
    "        subleadnbjleadHDR = subleadnbjleadH.i0.p4.delta_r(subleadnbjleadH.i1.p4)\n",
    "        subleadnbjleadHDPhi = abs(subleadnbjleadH.i0.p4.delta_phi(subleadnbjleadH.i1.p4))\n",
    "        \n",
    "        leadjleadWDR = leadjleadW.i0.p4.delta_r(leadjleadW.i1.p4)\n",
    "        leadjleadWDPhi = abs(leadjleadW.i0.p4.delta_phi(leadjleadW.i1.p4))\n",
    "        leadbjleadWDR = leadbjleadW.i0.p4.delta_r(leadbjleadW.i1.p4)\n",
    "        leadbjleadWDPhi = abs(leadbjleadW.i0.p4.delta_phi(leadbjleadW.i1.p4))\n",
    "        leadnbjleadWDR = leadnbjleadW.i0.p4.delta_r(leadnbjleadW.i1.p4)\n",
    "        leadnbjleadWDPhi = abs(leadnbjleadW.i0.p4.delta_phi(leadnbjleadW.i1.p4))\n",
    "        \n",
    "        subleadjleadWDR = subleadjleadW.i0.p4.delta_r(subleadjleadW.i1.p4)\n",
    "        subleadjleadWDPhi = abs(subleadjleadW.i0.p4.delta_phi(subleadjleadW.i1.p4))\n",
    "        subleadbjleadWDR = subleadbjleadW.i0.p4.delta_r(subleadbjleadW.i1.p4)\n",
    "        subleadbjleadWDPhi = abs(subleadbjleadW.i0.p4.delta_phi(subleadbjleadW.i1.p4))\n",
    "        subleadnbjleadWDR = subleadnbjleadW.i0.p4.delta_r(subleadnbjleadW.i1.p4)\n",
    "        subleadnbjleadWDPhi = abs(subleadnbjleadW.i0.p4.delta_phi(subleadnbjleadW.i1.p4))\n",
    "        \n",
    "        \n",
    "        #match phi\n",
    "        dphi_leadj_met = abs((leadjet.phi - metphi + np.pi) % (2 * np.pi) - np.pi)\n",
    "        dphi_leadbj_met = abs((leadbjet.phi - metphi + np.pi) % (2 * np.pi) - np.pi)\n",
    "        dphi_leadnbj_met = abs((leadnbjet.phi - metphi + np.pi) % (2 * np.pi) - np.pi)\n",
    "        \n",
    "        dphi_subleadj_met = abs((subleadjet.phi - metphi + np.pi) % (2 * np.pi) - np.pi)\n",
    "        dphi_subleadbj_met = abs((subleadbjet.phi - metphi + np.pi) % (2 * np.pi) - np.pi)\n",
    "        dphi_subleadnbj_met = abs((subleadnbjet.phi - metphi + np.pi) % (2 * np.pi) - np.pi)\n",
    "        \n",
    "        dphi_h_met = abs((leadhtag.phi - metphi + np.pi) % (2 * np.pi) - np.pi)\n",
    "        dphi_w_met = abs((leadwmctag.phi - metphi + np.pi) % (2 * np.pi) - np.pi)\n",
    "        \n",
    "        \n",
    "        #MT      \n",
    "        \n",
    "        dphi_leadbs_met = abs((leadbjets.phi - metphi + np.pi) % (2 * np.pi) - np.pi)\n",
    "        mt_b_met = np.sqrt(2*leadbjets.pt*metpt*(1-np.cos(dphi_leadbs_met)))\n",
    "\n",
    "        \n",
    "        sorted_min_mt_b_met = mt_b_met.argsort(ascending=True)\n",
    "        sorted_max_mt_b_met = mt_b_met.argsort(ascending=False)\n",
    "        min_mt_b_met = mt_b_met[sorted_min_mt_b_met == 0]\n",
    "        max_mt_b_met = mt_b_met[sorted_max_mt_b_met == 0]\n",
    "\n",
    "        \n",
    "        #leptons\n",
    "        \n",
    "        one_e_cut = (electrons.pt > 10) & (abs(electrons.eta) < 2.4) & (electrons.mini_iso < 0.1) & (electrons.cutbased >= 1)\n",
    "        one_e = electrons[one_e_cut]\n",
    "        \n",
    "        one_m_cut = (muons.pt > 10) & (abs(muons.eta) < 2.4) & (muons.looseid) & (muons.mini_iso < 0.2)\n",
    "        one_m = muons[one_m_cut]\n",
    "        \n",
    "        one_t_cut = (taus.pt > 10) & (abs(taus.eta) < 2.4) & (taus.decaymode) & (taus.newid >= 8)\n",
    "        one_t = taus[one_t_cut]\n",
    "        \n",
    "        veto_it_cut = (isotracks.pt > 10) & (abs(isotracks.eta) < 2.4) & ((isotracks.rel_iso < (0.1*isotracks.pt)) | (isotracks.rel_iso < 6))\n",
    "        veto_it = isotracks[veto_it_cut]\n",
    "\n",
    "        \n",
    "        #softdrop mass\n",
    "        hsd_cut = (htagged.softdrop > 1)\n",
    "        hsd = htagged[hsd_cut]\n",
    "\n",
    "       #filters\n",
    "        good_vertices = df[\"Flag_goodVertices\"]\n",
    "        tighthalo = df[\"Flag_globalSuperTightHalo2016Filter\"]\n",
    "        noise_filter = df[\"Flag_HBHENoiseFilter\"]\n",
    "        noise_isofilter = df[\"Flag_HBHENoiseIsoFilter\"]\n",
    "        ecal_deadcell = df[\"Flag_EcalDeadCellTriggerPrimitiveFilter\"]\n",
    "        bad_pfmuon = df[\"Flag_BadPFMuonFilter\"]\n",
    "        ee_badsc = df[\"Flag_eeBadScFilter\"]\n",
    "       \n",
    "        #trigger\n",
    "        hlt_pfmet_250 = df[\"HLT_PFMET250_HBHECleaned\"]\n",
    "        hlt_pfmet_300 = df[\"HLT_PFMET300_HBHECleaned\"]\n",
    "        hlt_pfmet1_200 = df[\"HLT_PFMETTypeOne200_HBHE_BeamHaloCleaned\"]\n",
    "\n",
    "        \n",
    "        #PRESELECTION\n",
    "        ht = goodjets.pt.sum()\n",
    "        \n",
    "        met_ps = (df['MET_pt']>250)\n",
    "        njet_ps = (goodjets.counts >= 2)\n",
    "        bjet_ps = (bjets.counts >= 1)\n",
    "        fatjet1_ps = (goodfatjets.counts >= 1)\n",
    "        fatjet2_ps = (goodfatjets.counts >= 2)\n",
    "        ht_ps = (ht > 300)\n",
    "        \n",
    "        presel = met_ps & njet_ps & bjet_ps  & ht_ps\n",
    "        h_sel =(htagged.counts > 0) \n",
    "        wmc_sel = (wtagged_mc.counts > 0) \n",
    "        l_sel = (one_e.counts + one_m.counts + one_t.counts == 1)\n",
    "        it_sel = (veto_it.counts == 0)\n",
    "        mt_sel = (min_mt_b_met > 200).any()\n",
    "        sd_sel = (hsd.count == 1)\n",
    "        \n",
    "        met_fsel = (good_vertices == 1) & (tighthalo == 1) & (noise_filter == 1) & (noise_isofilter == 1) & (ecal_deadcell == 1) & (bad_pfmuon == 1) & (ee_badsc == 1) \n",
    "        met_tsel = (hlt_pfmet_250 == 1).any() or (hlt_pfmet_300 == 1).any() or (hlt_pfmet1_200 == 1).any()\n",
    "        #cumulative preselection\n",
    "        \n",
    "        sel1 = l_sel\n",
    "        sel3 = l_sel & met_ps\n",
    "        sel4 = l_sel & met_ps & ht_ps\n",
    "        sel5 = l_sel & met_ps & ht_ps & njet_ps \n",
    "        sel6 = l_sel & met_ps & ht_ps & njet_ps & bjet_ps\n",
    "        sel7 = l_sel & met_ps & ht_ps & njet_ps & bjet_ps & mt_sel\n",
    "        sel8 = l_sel & met_ps & ht_ps & njet_ps & bjet_ps & mt_sel & fatjet1_ps\n",
    "        sel9 = l_sel & met_ps & ht_ps & njet_ps & bjet_ps & mt_sel  & fatjet2_ps\n",
    "        sel9_data = sel9 & met_fsel &met_tsel\n",
    "        sel10 = l_sel & met_ps & ht_ps & njet_ps & bjet_ps & mt_sel & fatjet2_ps & h_sel \n",
    "        sel11 = l_sel & met_ps & ht_ps & njet_ps & bjet_ps & mt_sel & h_sel & wmc_sel & fatjet2_ps\n",
    "        sel12 = l_sel & met_ps & ht_ps & njet_ps & bjet_ps & mt_sel & h_sel & wmc_sel & fatjet2_ps & sd_sel\n",
    "\n",
    "        #DEFINE VARIABLES \n",
    "        wght = df['weight'][sel9] * 60\n",
    "        wght_htag = df['weight'][sel9 & h_sel] * 60\n",
    "\n",
    "        #FILL OUTPUTS\n",
    "        \n",
    "        dataset = df[\"dataset\"]\n",
    "        output['number j'].fill(dataset=dataset, multiplicity = njets[sel9_data].flatten())\n",
    "        output['number b'].fill(dataset=dataset, multiplicity = numbjets[sel9_data].flatten())\n",
    "        output['number fj'].fill(dataset=dataset, multiplicity = (fatjets.counts)[sel9_data].flatten())\n",
    "        output['number h'].fill(dataset=dataset, multiplicity = (htagged.counts)[sel9_data].flatten())\n",
    "        output['number w'].fill(dataset=dataset, multiplicity = (wtagged_mc.counts)[sel9_data].flatten())\n",
    "        output['met'].fill(dataset=dataset, pt = metpt[sel9_data].flatten())\n",
    "        output['h mass'].fill(dataset=dataset, mass = leadhtag.mass[sel9_data & h_sel].flatten())\n",
    "\n",
    "        return output\n",
    "    \n",
    "    def postprocess(self, accumulator):\n",
    "        return accumulator"
   ]
  },
  {
   "cell_type": "code",
   "execution_count": 54,
   "metadata": {},
   "outputs": [
    {
     "data": {
      "application/vnd.jupyter.widget-view+json": {
       "model_id": "b5094aea2ae14fc8bab98abfe1e7d426",
       "version_major": 2,
       "version_minor": 0
      },
      "text/html": [
       "<p>Failed to display Jupyter Widget of type <code>HBox</code>.</p>\n",
       "<p>\n",
       "  If you're reading this message in the Jupyter Notebook or JupyterLab Notebook, it may mean\n",
       "  that the widgets JavaScript is still loading. If this message persists, it\n",
       "  likely means that the widgets JavaScript library is either not installed or\n",
       "  not enabled. See the <a href=\"https://ipywidgets.readthedocs.io/en/stable/user_install.html\">Jupyter\n",
       "  Widgets Documentation</a> for setup instructions.\n",
       "</p>\n",
       "<p>\n",
       "  If you're reading this message in another frontend (for example, a static\n",
       "  rendering on GitHub or <a href=\"https://nbviewer.jupyter.org/\">NBViewer</a>),\n",
       "  it may mean that your frontend doesn't currently support widgets.\n",
       "</p>\n"
      ],
      "text/plain": [
       "HBox(children=(HTML(value='Processing'), FloatProgress(value=0.0, max=40.0), HTML(value='')))"
      ]
     },
     "metadata": {},
     "output_type": "display_data"
    },
    {
     "name": "stdout",
     "output_type": "stream",
     "text": [
      "\n"
     ]
    },
    {
     "data": {
      "application/vnd.jupyter.widget-view+json": {
       "model_id": "68c0530f0efb45ebb57056c2b28e5e4e",
       "version_major": 2,
       "version_minor": 0
      },
      "text/html": [
       "<p>Failed to display Jupyter Widget of type <code>HBox</code>.</p>\n",
       "<p>\n",
       "  If you're reading this message in the Jupyter Notebook or JupyterLab Notebook, it may mean\n",
       "  that the widgets JavaScript is still loading. If this message persists, it\n",
       "  likely means that the widgets JavaScript library is either not installed or\n",
       "  not enabled. See the <a href=\"https://ipywidgets.readthedocs.io/en/stable/user_install.html\">Jupyter\n",
       "  Widgets Documentation</a> for setup instructions.\n",
       "</p>\n",
       "<p>\n",
       "  If you're reading this message in another frontend (for example, a static\n",
       "  rendering on GitHub or <a href=\"https://nbviewer.jupyter.org/\">NBViewer</a>),\n",
       "  it may mean that your frontend doesn't currently support widgets.\n",
       "</p>\n"
      ],
      "text/plain": [
       "HBox(children=(HTML(value='Processing'), FloatProgress(value=0.0, max=87.0), HTML(value='')))"
      ]
     },
     "metadata": {},
     "output_type": "display_data"
    },
    {
     "name": "stdout",
     "output_type": "stream",
     "text": [
      "\n"
     ]
    },
    {
     "data": {
      "application/vnd.jupyter.widget-view+json": {
       "model_id": "74597606b7c745a88fd1cc7260183123",
       "version_major": 2,
       "version_minor": 0
      },
      "text/html": [
       "<p>Failed to display Jupyter Widget of type <code>HBox</code>.</p>\n",
       "<p>\n",
       "  If you're reading this message in the Jupyter Notebook or JupyterLab Notebook, it may mean\n",
       "  that the widgets JavaScript is still loading. If this message persists, it\n",
       "  likely means that the widgets JavaScript library is either not installed or\n",
       "  not enabled. See the <a href=\"https://ipywidgets.readthedocs.io/en/stable/user_install.html\">Jupyter\n",
       "  Widgets Documentation</a> for setup instructions.\n",
       "</p>\n",
       "<p>\n",
       "  If you're reading this message in another frontend (for example, a static\n",
       "  rendering on GitHub or <a href=\"https://nbviewer.jupyter.org/\">NBViewer</a>),\n",
       "  it may mean that your frontend doesn't currently support widgets.\n",
       "</p>\n"
      ],
      "text/plain": [
       "HBox(children=(HTML(value='Processing'), FloatProgress(value=0.0, max=68.0), HTML(value='')))"
      ]
     },
     "metadata": {},
     "output_type": "display_data"
    },
    {
     "name": "stdout",
     "output_type": "stream",
     "text": [
      "\n"
     ]
    },
    {
     "data": {
      "application/vnd.jupyter.widget-view+json": {
       "model_id": "cd5e17acb7244c4c850b8ba99f9446e0",
       "version_major": 2,
       "version_minor": 0
      },
      "text/html": [
       "<p>Failed to display Jupyter Widget of type <code>HBox</code>.</p>\n",
       "<p>\n",
       "  If you're reading this message in the Jupyter Notebook or JupyterLab Notebook, it may mean\n",
       "  that the widgets JavaScript is still loading. If this message persists, it\n",
       "  likely means that the widgets JavaScript library is either not installed or\n",
       "  not enabled. See the <a href=\"https://ipywidgets.readthedocs.io/en/stable/user_install.html\">Jupyter\n",
       "  Widgets Documentation</a> for setup instructions.\n",
       "</p>\n",
       "<p>\n",
       "  If you're reading this message in another frontend (for example, a static\n",
       "  rendering on GitHub or <a href=\"https://nbviewer.jupyter.org/\">NBViewer</a>),\n",
       "  it may mean that your frontend doesn't currently support widgets.\n",
       "</p>\n"
      ],
      "text/plain": [
       "HBox(children=(HTML(value='Processing'), FloatProgress(value=0.0, max=72.0), HTML(value='')))"
      ]
     },
     "metadata": {},
     "output_type": "display_data"
    },
    {
     "name": "stdout",
     "output_type": "stream",
     "text": [
      "\n"
     ]
    },
    {
     "data": {
      "application/vnd.jupyter.widget-view+json": {
       "model_id": "f0d3b21f816a4379b132b33deb3bd585",
       "version_major": 2,
       "version_minor": 0
      },
      "text/html": [
       "<p>Failed to display Jupyter Widget of type <code>HBox</code>.</p>\n",
       "<p>\n",
       "  If you're reading this message in the Jupyter Notebook or JupyterLab Notebook, it may mean\n",
       "  that the widgets JavaScript is still loading. If this message persists, it\n",
       "  likely means that the widgets JavaScript library is either not installed or\n",
       "  not enabled. See the <a href=\"https://ipywidgets.readthedocs.io/en/stable/user_install.html\">Jupyter\n",
       "  Widgets Documentation</a> for setup instructions.\n",
       "</p>\n",
       "<p>\n",
       "  If you're reading this message in another frontend (for example, a static\n",
       "  rendering on GitHub or <a href=\"https://nbviewer.jupyter.org/\">NBViewer</a>),\n",
       "  it may mean that your frontend doesn't currently support widgets.\n",
       "</p>\n"
      ],
      "text/plain": [
       "HBox(children=(HTML(value='Processing'), FloatProgress(value=0.0, max=54.0), HTML(value='')))"
      ]
     },
     "metadata": {},
     "output_type": "display_data"
    },
    {
     "name": "stdout",
     "output_type": "stream",
     "text": [
      "\n"
     ]
    },
    {
     "data": {
      "application/vnd.jupyter.widget-view+json": {
       "model_id": "ed7a0b4e55f743a3888d8342679cf261",
       "version_major": 2,
       "version_minor": 0
      },
      "text/html": [
       "<p>Failed to display Jupyter Widget of type <code>HBox</code>.</p>\n",
       "<p>\n",
       "  If you're reading this message in the Jupyter Notebook or JupyterLab Notebook, it may mean\n",
       "  that the widgets JavaScript is still loading. If this message persists, it\n",
       "  likely means that the widgets JavaScript library is either not installed or\n",
       "  not enabled. See the <a href=\"https://ipywidgets.readthedocs.io/en/stable/user_install.html\">Jupyter\n",
       "  Widgets Documentation</a> for setup instructions.\n",
       "</p>\n",
       "<p>\n",
       "  If you're reading this message in another frontend (for example, a static\n",
       "  rendering on GitHub or <a href=\"https://nbviewer.jupyter.org/\">NBViewer</a>),\n",
       "  it may mean that your frontend doesn't currently support widgets.\n",
       "</p>\n"
      ],
      "text/plain": [
       "HBox(children=(HTML(value='Processing'), FloatProgress(value=0.0, max=30.0), HTML(value='')))"
      ]
     },
     "metadata": {},
     "output_type": "display_data"
    },
    {
     "name": "stdout",
     "output_type": "stream",
     "text": [
      "\n"
     ]
    },
    {
     "data": {
      "application/vnd.jupyter.widget-view+json": {
       "model_id": "57082fae9d544d1cab0ede0458214ff6",
       "version_major": 2,
       "version_minor": 0
      },
      "text/html": [
       "<p>Failed to display Jupyter Widget of type <code>HBox</code>.</p>\n",
       "<p>\n",
       "  If you're reading this message in the Jupyter Notebook or JupyterLab Notebook, it may mean\n",
       "  that the widgets JavaScript is still loading. If this message persists, it\n",
       "  likely means that the widgets JavaScript library is either not installed or\n",
       "  not enabled. See the <a href=\"https://ipywidgets.readthedocs.io/en/stable/user_install.html\">Jupyter\n",
       "  Widgets Documentation</a> for setup instructions.\n",
       "</p>\n",
       "<p>\n",
       "  If you're reading this message in another frontend (for example, a static\n",
       "  rendering on GitHub or <a href=\"https://nbviewer.jupyter.org/\">NBViewer</a>),\n",
       "  it may mean that your frontend doesn't currently support widgets.\n",
       "</p>\n"
      ],
      "text/plain": [
       "HBox(children=(HTML(value='Preprocessing'), FloatProgress(value=0.0, max=82.0), HTML(value='')))"
      ]
     },
     "metadata": {},
     "output_type": "display_data"
    },
    {
     "name": "stdout",
     "output_type": "stream",
     "text": [
      "\n"
     ]
    },
    {
     "data": {
      "application/vnd.jupyter.widget-view+json": {
       "model_id": "11648bca2cba4b02bd9880b65f524e7f",
       "version_major": 2,
       "version_minor": 0
      },
      "text/html": [
       "<p>Failed to display Jupyter Widget of type <code>HBox</code>.</p>\n",
       "<p>\n",
       "  If you're reading this message in the Jupyter Notebook or JupyterLab Notebook, it may mean\n",
       "  that the widgets JavaScript is still loading. If this message persists, it\n",
       "  likely means that the widgets JavaScript library is either not installed or\n",
       "  not enabled. See the <a href=\"https://ipywidgets.readthedocs.io/en/stable/user_install.html\">Jupyter\n",
       "  Widgets Documentation</a> for setup instructions.\n",
       "</p>\n",
       "<p>\n",
       "  If you're reading this message in another frontend (for example, a static\n",
       "  rendering on GitHub or <a href=\"https://nbviewer.jupyter.org/\">NBViewer</a>),\n",
       "  it may mean that your frontend doesn't currently support widgets.\n",
       "</p>\n"
      ],
      "text/plain": [
       "HBox(children=(HTML(value='Processing'), FloatProgress(value=0.0, max=82.0), HTML(value='')))"
      ]
     },
     "metadata": {},
     "output_type": "display_data"
    },
    {
     "name": "stdout",
     "output_type": "stream",
     "text": [
      "\n"
     ]
    },
    {
     "data": {
      "application/vnd.jupyter.widget-view+json": {
       "model_id": "87ab74cdf30c480eacde61be2e21ecb4",
       "version_major": 2,
       "version_minor": 0
      },
      "text/html": [
       "<p>Failed to display Jupyter Widget of type <code>HBox</code>.</p>\n",
       "<p>\n",
       "  If you're reading this message in the Jupyter Notebook or JupyterLab Notebook, it may mean\n",
       "  that the widgets JavaScript is still loading. If this message persists, it\n",
       "  likely means that the widgets JavaScript library is either not installed or\n",
       "  not enabled. See the <a href=\"https://ipywidgets.readthedocs.io/en/stable/user_install.html\">Jupyter\n",
       "  Widgets Documentation</a> for setup instructions.\n",
       "</p>\n",
       "<p>\n",
       "  If you're reading this message in another frontend (for example, a static\n",
       "  rendering on GitHub or <a href=\"https://nbviewer.jupyter.org/\">NBViewer</a>),\n",
       "  it may mean that your frontend doesn't currently support widgets.\n",
       "</p>\n"
      ],
      "text/plain": [
       "HBox(children=(HTML(value='Preprocessing'), FloatProgress(value=0.0, max=16.0), HTML(value='')))"
      ]
     },
     "metadata": {},
     "output_type": "display_data"
    },
    {
     "name": "stdout",
     "output_type": "stream",
     "text": [
      "\n"
     ]
    },
    {
     "data": {
      "application/vnd.jupyter.widget-view+json": {
       "model_id": "373fe64e256a449395c19723a7a0cdbf",
       "version_major": 2,
       "version_minor": 0
      },
      "text/html": [
       "<p>Failed to display Jupyter Widget of type <code>HBox</code>.</p>\n",
       "<p>\n",
       "  If you're reading this message in the Jupyter Notebook or JupyterLab Notebook, it may mean\n",
       "  that the widgets JavaScript is still loading. If this message persists, it\n",
       "  likely means that the widgets JavaScript library is either not installed or\n",
       "  not enabled. See the <a href=\"https://ipywidgets.readthedocs.io/en/stable/user_install.html\">Jupyter\n",
       "  Widgets Documentation</a> for setup instructions.\n",
       "</p>\n",
       "<p>\n",
       "  If you're reading this message in another frontend (for example, a static\n",
       "  rendering on GitHub or <a href=\"https://nbviewer.jupyter.org/\">NBViewer</a>),\n",
       "  it may mean that your frontend doesn't currently support widgets.\n",
       "</p>\n"
      ],
      "text/plain": [
       "HBox(children=(HTML(value='Processing'), FloatProgress(value=0.0, max=16.0), HTML(value='')))"
      ]
     },
     "metadata": {},
     "output_type": "display_data"
    },
    {
     "name": "stdout",
     "output_type": "stream",
     "text": [
      "\n"
     ]
    },
    {
     "data": {
      "application/vnd.jupyter.widget-view+json": {
       "model_id": "1d01a607ab4a4a8f83827f83127a3b55",
       "version_major": 2,
       "version_minor": 0
      },
      "text/html": [
       "<p>Failed to display Jupyter Widget of type <code>HBox</code>.</p>\n",
       "<p>\n",
       "  If you're reading this message in the Jupyter Notebook or JupyterLab Notebook, it may mean\n",
       "  that the widgets JavaScript is still loading. If this message persists, it\n",
       "  likely means that the widgets JavaScript library is either not installed or\n",
       "  not enabled. See the <a href=\"https://ipywidgets.readthedocs.io/en/stable/user_install.html\">Jupyter\n",
       "  Widgets Documentation</a> for setup instructions.\n",
       "</p>\n",
       "<p>\n",
       "  If you're reading this message in another frontend (for example, a static\n",
       "  rendering on GitHub or <a href=\"https://nbviewer.jupyter.org/\">NBViewer</a>),\n",
       "  it may mean that your frontend doesn't currently support widgets.\n",
       "</p>\n"
      ],
      "text/plain": [
       "HBox(children=(HTML(value='Preprocessing'), FloatProgress(value=0.0, max=32.0), HTML(value='')))"
      ]
     },
     "metadata": {},
     "output_type": "display_data"
    },
    {
     "name": "stdout",
     "output_type": "stream",
     "text": [
      "\n"
     ]
    },
    {
     "data": {
      "application/vnd.jupyter.widget-view+json": {
       "model_id": "d2a2ddb430b744d7b432e21b2a037c19",
       "version_major": 2,
       "version_minor": 0
      },
      "text/html": [
       "<p>Failed to display Jupyter Widget of type <code>HBox</code>.</p>\n",
       "<p>\n",
       "  If you're reading this message in the Jupyter Notebook or JupyterLab Notebook, it may mean\n",
       "  that the widgets JavaScript is still loading. If this message persists, it\n",
       "  likely means that the widgets JavaScript library is either not installed or\n",
       "  not enabled. See the <a href=\"https://ipywidgets.readthedocs.io/en/stable/user_install.html\">Jupyter\n",
       "  Widgets Documentation</a> for setup instructions.\n",
       "</p>\n",
       "<p>\n",
       "  If you're reading this message in another frontend (for example, a static\n",
       "  rendering on GitHub or <a href=\"https://nbviewer.jupyter.org/\">NBViewer</a>),\n",
       "  it may mean that your frontend doesn't currently support widgets.\n",
       "</p>\n"
      ],
      "text/plain": [
       "HBox(children=(HTML(value='Processing'), FloatProgress(value=0.0, max=32.0), HTML(value='')))"
      ]
     },
     "metadata": {},
     "output_type": "display_data"
    },
    {
     "name": "stdout",
     "output_type": "stream",
     "text": [
      "\n"
     ]
    }
   ],
   "source": [
    "fileset_sig = {'mC750_had': glob.glob('/hadoop/cms/store/user/ksalyer/allHadTest/0p1p20/WH_had_750_1_nanoAOD/*.root')}\n",
    "fileset_wjets = {'WJets': glob.glob('/hadoop/cms/store/user/ksalyer/allHadTest/0p1p20/WJetsToLNu*/*.root')}\n",
    "fileset_qcd = {'QCD': glob.glob('/hadoop/cms/store/user/ksalyer/allHadTest/0p1p20/QCD_HT*/*.root')}\n",
    "fileset_ttjets = {'TTJets': glob.glob('/hadoop/cms/store/user/ksalyer/allHadTest/0p1p20/TTJets*/*.root')}\n",
    "fileset_znunu = {'ZNuNu': glob.glob('/hadoop/cms/store/user/ksalyer/allHadTest/0p1p20/ZJetsToNuNu*/*.root')}\n",
    "fileset_st = {'ST':glob.glob('/hadoop/cms/store/user/ksalyer/allHadTest/0p1p20/ST*/*.root')}\n",
    "fileset_ttwz = {'ttW/ttZ':glob.glob('/hadoop/cms/store/user/ksalyer/allHadTest/0p1p20/ttWJets*/*.root')\n",
    "                +glob.glob('/hadoop/cms/store/user/ksalyer/allHadTest/0p1p20/ttZJets*/*.root')}\n",
    "fileset_2b = {'2bosons':glob.glob('/hadoop/cms/store/user/ksalyer/allHadTest/0p1p20/WW*/*.root')\n",
    "                +glob.glob('/hadoop/cms/store/user/ksalyer/allHadTest/0p1p20/WZ*/*.root')\n",
    "                +glob.glob('/hadoop/cms/store/user/ksalyer/allHadTest/0p1p20/ZZTo2L2Nu*/*.root')\n",
    "                +glob.glob('/hadoop/cms/store/user/ksalyer/allHadTest/0p1p20/ZZTo2Q2Nu*/*.root')}\n",
    "fileset_data = {'MET_Run': glob.glob('/hadoop/cms/store/user/ksalyer/allHadTest/0p1p24/*/*.root')}\n",
    "\n",
    "output_sig = processor.run_uproot_job(fileset_sig,\n",
    "                                    treename='Events',\n",
    "                                    processor_instance=WHhadProcessor(),\n",
    "                                    executor=processor.futures_executor,\n",
    "                                    executor_args={'workers': 24, 'function_args': {'flatten': False}},\n",
    "                                    chunksize=500000,\n",
    "                                 )\n",
    "output_data = processor.run_uproot_job(fileset_data,\n",
    "                                    treename='Events',\n",
    "                                    processor_instance=WHhadProcessor2(),\n",
    "                                    executor=processor.futures_executor,\n",
    "                                    executor_args={'workers': 24, 'function_args': {'flatten': False}},\n",
    "                                    chunksize=500000,\n",
    "                                 )\n",
    "output_wjets = processor.run_uproot_job(fileset_wjets,\n",
    "                                    treename='Events',\n",
    "                                    processor_instance=WHhadProcessor(),\n",
    "                                    executor=processor.futures_executor,\n",
    "                                    executor_args={'workers': 24, 'function_args': {'flatten': False}},\n",
    "                                    chunksize=500000,\n",
    "                                 ) \n",
    "output_qcd = processor.run_uproot_job(fileset_qcd,\n",
    "                                    treename='Events',\n",
    "                                    processor_instance=WHhadProcessor(),\n",
    "                                    executor=processor.futures_executor,\n",
    "                                    executor_args={'workers': 24, 'function_args': {'flatten': False}},\n",
    "                                    chunksize=500000,\n",
    "                                 )\n",
    "output_ttjets = processor.run_uproot_job(fileset_ttjets,\n",
    "                                    treename='Events',\n",
    "                                    processor_instance=WHhadProcessor(),\n",
    "                                    executor=processor.futures_executor,\n",
    "                                    executor_args={'workers': 24, 'function_args': {'flatten': False}},\n",
    "                                    chunksize=500000,\n",
    "                                 )\n",
    "output_znunu = processor.run_uproot_job(fileset_znunu,\n",
    "                                    treename='Events',\n",
    "                                    processor_instance=WHhadProcessor(),\n",
    "                                    executor=processor.futures_executor,\n",
    "                                    executor_args={'workers': 24, 'function_args': {'flatten': False}},\n",
    "                                    chunksize=500000,\n",
    "                                 )\n",
    "output_st = processor.run_uproot_job(fileset_st,\n",
    "                                    treename='Events',\n",
    "                                    processor_instance=WHhadProcessor(),\n",
    "                                    executor=processor.futures_executor,\n",
    "                                    executor_args={'workers': 24, 'function_args': {'flatten': False}},\n",
    "                                    chunksize=500000,\n",
    "                                 )\n",
    "output_ttwz = processor.run_uproot_job(fileset_ttwz,\n",
    "                                    treename='Events',\n",
    "                                    processor_instance=WHhadProcessor(),\n",
    "                                    executor=processor.futures_executor,\n",
    "                                    executor_args={'workers': 24, 'function_args': {'flatten': False}},\n",
    "                                    chunksize=500000,\n",
    "                                 )\n",
    "output_2b = processor.run_uproot_job(fileset_2b,\n",
    "                                    treename='Events',\n",
    "                                    processor_instance=WHhadProcessor(),\n",
    "                                    executor=processor.futures_executor,\n",
    "                                    executor_args={'workers': 24, 'function_args': {'flatten': False}},\n",
    "                                    chunksize=500000,\n",
    "                                 )"
   ]
  },
  {
   "cell_type": "code",
   "execution_count": 78,
   "metadata": {},
   "outputs": [
    {
     "data": {
      "text/html": [
       "<div>\n",
       "<style scoped>\n",
       "    .dataframe tbody tr th:only-of-type {\n",
       "        vertical-align: middle;\n",
       "    }\n",
       "\n",
       "    .dataframe tbody tr th {\n",
       "        vertical-align: top;\n",
       "    }\n",
       "\n",
       "    .dataframe thead th {\n",
       "        text-align: right;\n",
       "    }\n",
       "</style>\n",
       "<table border=\"1\" class=\"dataframe\">\n",
       "  <thead>\n",
       "    <tr style=\"text-align: right;\">\n",
       "      <th></th>\n",
       "      <th>mC750_had</th>\n",
       "    </tr>\n",
       "  </thead>\n",
       "  <tbody>\n",
       "    <tr>\n",
       "      <th>all</th>\n",
       "      <td>297.956555</td>\n",
       "    </tr>\n",
       "    <tr>\n",
       "      <th>+ one lepton</th>\n",
       "      <td>9.069124</td>\n",
       "    </tr>\n",
       "    <tr>\n",
       "      <th>+ met</th>\n",
       "      <td>8.210869</td>\n",
       "    </tr>\n",
       "    <tr>\n",
       "      <th>+ ht</th>\n",
       "      <td>8.116258</td>\n",
       "    </tr>\n",
       "    <tr>\n",
       "      <th>+ njet</th>\n",
       "      <td>8.109500</td>\n",
       "    </tr>\n",
       "    <tr>\n",
       "      <th>+ bjet</th>\n",
       "      <td>6.818738</td>\n",
       "    </tr>\n",
       "    <tr>\n",
       "      <th>+ min(mt(bs,met))</th>\n",
       "      <td>5.690166</td>\n",
       "    </tr>\n",
       "    <tr>\n",
       "      <th>+ fatjet &gt;=1</th>\n",
       "      <td>5.548250</td>\n",
       "    </tr>\n",
       "    <tr>\n",
       "      <th>+ fatjet &gt;=2</th>\n",
       "      <td>2.831567</td>\n",
       "    </tr>\n",
       "  </tbody>\n",
       "</table>\n",
       "</div>"
      ],
      "text/plain": [
       "                    mC750_had\n",
       "all                297.956555\n",
       "+ one lepton         9.069124\n",
       "+ met                8.210869\n",
       "+ ht                 8.116258\n",
       "+ njet               8.109500\n",
       "+ bjet               6.818738\n",
       "+ min(mt(bs,met))    5.690166\n",
       "+ fatjet >=1         5.548250\n",
       "+ fatjet >=2         2.831567"
      ]
     },
     "execution_count": 78,
     "metadata": {},
     "output_type": "execute_result"
    }
   ],
   "source": [
    "getCutFlowTable(output_sig, 'mC750_had', lines = ['all', '+ one lepton', '+ met', \n",
    "                                                '+ ht','+ njet', '+ bjet', '+ min(mt(bs,met))',\n",
    "                                                '+ fatjet >=1 ', '+ fatjet >=2 '])"
   ]
  },
  {
   "cell_type": "code",
   "execution_count": 79,
   "metadata": {},
   "outputs": [
    {
     "data": {
      "text/html": [
       "<div>\n",
       "<style scoped>\n",
       "    .dataframe tbody tr th:only-of-type {\n",
       "        vertical-align: middle;\n",
       "    }\n",
       "\n",
       "    .dataframe tbody tr th {\n",
       "        vertical-align: top;\n",
       "    }\n",
       "\n",
       "    .dataframe thead th {\n",
       "        text-align: right;\n",
       "    }\n",
       "</style>\n",
       "<table border=\"1\" class=\"dataframe\">\n",
       "  <thead>\n",
       "    <tr style=\"text-align: right;\">\n",
       "      <th></th>\n",
       "      <th>WJets</th>\n",
       "    </tr>\n",
       "  </thead>\n",
       "  <tbody>\n",
       "    <tr>\n",
       "      <th>all</th>\n",
       "      <td>6.478594e+06</td>\n",
       "    </tr>\n",
       "    <tr>\n",
       "      <th>+ one lepton</th>\n",
       "      <td>1.575861e+06</td>\n",
       "    </tr>\n",
       "    <tr>\n",
       "      <th>+ met</th>\n",
       "      <td>6.767045e+05</td>\n",
       "    </tr>\n",
       "    <tr>\n",
       "      <th>+ ht</th>\n",
       "      <td>6.026043e+05</td>\n",
       "    </tr>\n",
       "    <tr>\n",
       "      <th>+ njet</th>\n",
       "      <td>5.937973e+05</td>\n",
       "    </tr>\n",
       "    <tr>\n",
       "      <th>+ bjet</th>\n",
       "      <td>7.636847e+04</td>\n",
       "    </tr>\n",
       "    <tr>\n",
       "      <th>+ min(mt(bs,met))</th>\n",
       "      <td>3.586351e+04</td>\n",
       "    </tr>\n",
       "    <tr>\n",
       "      <th>+ fatjet &gt;=1</th>\n",
       "      <td>3.316947e+04</td>\n",
       "    </tr>\n",
       "    <tr>\n",
       "      <th>+ fatjet &gt;=2</th>\n",
       "      <td>1.020146e+04</td>\n",
       "    </tr>\n",
       "  </tbody>\n",
       "</table>\n",
       "</div>"
      ],
      "text/plain": [
       "                          WJets\n",
       "all                6.478594e+06\n",
       "+ one lepton       1.575861e+06\n",
       "+ met              6.767045e+05\n",
       "+ ht               6.026043e+05\n",
       "+ njet             5.937973e+05\n",
       "+ bjet             7.636847e+04\n",
       "+ min(mt(bs,met))  3.586351e+04\n",
       "+ fatjet >=1       3.316947e+04\n",
       "+ fatjet >=2       1.020146e+04"
      ]
     },
     "execution_count": 79,
     "metadata": {},
     "output_type": "execute_result"
    }
   ],
   "source": [
    "getCutFlowTable(output_wjets, 'WJets', lines = ['all', '+ one lepton', '+ met', \n",
    "                                                '+ ht','+ njet', '+ bjet', '+ min(mt(bs,met))',\n",
    "                                                '+ fatjet >=1 ', '+ fatjet >=2 '])"
   ]
  },
  {
   "cell_type": "code",
   "execution_count": 80,
   "metadata": {},
   "outputs": [
    {
     "data": {
      "text/html": [
       "<div>\n",
       "<style scoped>\n",
       "    .dataframe tbody tr th:only-of-type {\n",
       "        vertical-align: middle;\n",
       "    }\n",
       "\n",
       "    .dataframe tbody tr th {\n",
       "        vertical-align: top;\n",
       "    }\n",
       "\n",
       "    .dataframe thead th {\n",
       "        text-align: right;\n",
       "    }\n",
       "</style>\n",
       "<table border=\"1\" class=\"dataframe\">\n",
       "  <thead>\n",
       "    <tr style=\"text-align: right;\">\n",
       "      <th></th>\n",
       "      <th>QCD</th>\n",
       "    </tr>\n",
       "  </thead>\n",
       "  <tbody>\n",
       "    <tr>\n",
       "      <th>all</th>\n",
       "      <td>3.910187e+06</td>\n",
       "    </tr>\n",
       "    <tr>\n",
       "      <th>+ one lepton</th>\n",
       "      <td>7.616778e+05</td>\n",
       "    </tr>\n",
       "    <tr>\n",
       "      <th>+ met</th>\n",
       "      <td>4.373407e+05</td>\n",
       "    </tr>\n",
       "    <tr>\n",
       "      <th>+ ht</th>\n",
       "      <td>4.344081e+05</td>\n",
       "    </tr>\n",
       "    <tr>\n",
       "      <th>+ njet</th>\n",
       "      <td>4.325723e+05</td>\n",
       "    </tr>\n",
       "    <tr>\n",
       "      <th>+ bjet</th>\n",
       "      <td>7.823923e+04</td>\n",
       "    </tr>\n",
       "    <tr>\n",
       "      <th>+ min(mt(bs,met))</th>\n",
       "      <td>4.426485e+04</td>\n",
       "    </tr>\n",
       "    <tr>\n",
       "      <th>+ fatjet &gt;=1</th>\n",
       "      <td>1.580526e+04</td>\n",
       "    </tr>\n",
       "    <tr>\n",
       "      <th>+ fatjet &gt;=2</th>\n",
       "      <td>6.461280e+03</td>\n",
       "    </tr>\n",
       "  </tbody>\n",
       "</table>\n",
       "</div>"
      ],
      "text/plain": [
       "                            QCD\n",
       "all                3.910187e+06\n",
       "+ one lepton       7.616778e+05\n",
       "+ met              4.373407e+05\n",
       "+ ht               4.344081e+05\n",
       "+ njet             4.325723e+05\n",
       "+ bjet             7.823923e+04\n",
       "+ min(mt(bs,met))  4.426485e+04\n",
       "+ fatjet >=1       1.580526e+04\n",
       "+ fatjet >=2       6.461280e+03"
      ]
     },
     "execution_count": 80,
     "metadata": {},
     "output_type": "execute_result"
    }
   ],
   "source": [
    "\n",
    "getCutFlowTable(output_qcd, 'QCD', lines = ['all', '+ one lepton', '+ met', \n",
    "                                                '+ ht','+ njet', '+ bjet', '+ min(mt(bs,met))',\n",
    "                                                '+ fatjet >=1 ', '+ fatjet >=2 '])"
   ]
  },
  {
   "cell_type": "code",
   "execution_count": 81,
   "metadata": {},
   "outputs": [
    {
     "data": {
      "text/html": [
       "<div>\n",
       "<style scoped>\n",
       "    .dataframe tbody tr th:only-of-type {\n",
       "        vertical-align: middle;\n",
       "    }\n",
       "\n",
       "    .dataframe tbody tr th {\n",
       "        vertical-align: top;\n",
       "    }\n",
       "\n",
       "    .dataframe thead th {\n",
       "        text-align: right;\n",
       "    }\n",
       "</style>\n",
       "<table border=\"1\" class=\"dataframe\">\n",
       "  <thead>\n",
       "    <tr style=\"text-align: right;\">\n",
       "      <th></th>\n",
       "      <th>TTJets</th>\n",
       "    </tr>\n",
       "  </thead>\n",
       "  <tbody>\n",
       "    <tr>\n",
       "      <th>all</th>\n",
       "      <td>928788.070357</td>\n",
       "    </tr>\n",
       "    <tr>\n",
       "      <th>+ one lepton</th>\n",
       "      <td>251308.514307</td>\n",
       "    </tr>\n",
       "    <tr>\n",
       "      <th>+ met</th>\n",
       "      <td>98043.388882</td>\n",
       "    </tr>\n",
       "    <tr>\n",
       "      <th>+ ht</th>\n",
       "      <td>92882.823327</td>\n",
       "    </tr>\n",
       "    <tr>\n",
       "      <th>+ njet</th>\n",
       "      <td>92854.555957</td>\n",
       "    </tr>\n",
       "    <tr>\n",
       "      <th>+ bjet</th>\n",
       "      <td>77255.504893</td>\n",
       "    </tr>\n",
       "    <tr>\n",
       "      <th>+ min(mt(bs,met))</th>\n",
       "      <td>24556.266963</td>\n",
       "    </tr>\n",
       "    <tr>\n",
       "      <th>+ fatjet &gt;=1</th>\n",
       "      <td>21858.505230</td>\n",
       "    </tr>\n",
       "    <tr>\n",
       "      <th>+ fatjet &gt;=2</th>\n",
       "      <td>6917.535078</td>\n",
       "    </tr>\n",
       "  </tbody>\n",
       "</table>\n",
       "</div>"
      ],
      "text/plain": [
       "                          TTJets\n",
       "all                928788.070357\n",
       "+ one lepton       251308.514307\n",
       "+ met               98043.388882\n",
       "+ ht                92882.823327\n",
       "+ njet              92854.555957\n",
       "+ bjet              77255.504893\n",
       "+ min(mt(bs,met))   24556.266963\n",
       "+ fatjet >=1        21858.505230\n",
       "+ fatjet >=2         6917.535078"
      ]
     },
     "execution_count": 81,
     "metadata": {},
     "output_type": "execute_result"
    }
   ],
   "source": [
    "getCutFlowTable(output_ttjets, 'TTJets', lines = ['all', '+ one lepton', '+ met', \n",
    "                                                '+ ht','+ njet', '+ bjet', '+ min(mt(bs,met))',\n",
    "                                                '+ fatjet >=1 ', '+ fatjet >=2 '])"
   ]
  },
  {
   "cell_type": "code",
   "execution_count": 82,
   "metadata": {},
   "outputs": [
    {
     "data": {
      "text/html": [
       "<div>\n",
       "<style scoped>\n",
       "    .dataframe tbody tr th:only-of-type {\n",
       "        vertical-align: middle;\n",
       "    }\n",
       "\n",
       "    .dataframe tbody tr th {\n",
       "        vertical-align: top;\n",
       "    }\n",
       "\n",
       "    .dataframe thead th {\n",
       "        text-align: right;\n",
       "    }\n",
       "</style>\n",
       "<table border=\"1\" class=\"dataframe\">\n",
       "  <thead>\n",
       "    <tr style=\"text-align: right;\">\n",
       "      <th></th>\n",
       "      <th>ZNuNu</th>\n",
       "    </tr>\n",
       "  </thead>\n",
       "  <tbody>\n",
       "    <tr>\n",
       "      <th>all</th>\n",
       "      <td>1.749745e+06</td>\n",
       "    </tr>\n",
       "    <tr>\n",
       "      <th>+ one lepton</th>\n",
       "      <td>3.626214e+04</td>\n",
       "    </tr>\n",
       "    <tr>\n",
       "      <th>+ met</th>\n",
       "      <td>1.585760e+04</td>\n",
       "    </tr>\n",
       "    <tr>\n",
       "      <th>+ ht</th>\n",
       "      <td>1.200839e+04</td>\n",
       "    </tr>\n",
       "    <tr>\n",
       "      <th>+ njet</th>\n",
       "      <td>1.181001e+04</td>\n",
       "    </tr>\n",
       "    <tr>\n",
       "      <th>+ bjet</th>\n",
       "      <td>1.826519e+03</td>\n",
       "    </tr>\n",
       "    <tr>\n",
       "      <th>+ min(mt(bs,met))</th>\n",
       "      <td>1.185361e+03</td>\n",
       "    </tr>\n",
       "    <tr>\n",
       "      <th>+ fatjet &gt;=1</th>\n",
       "      <td>1.031829e+03</td>\n",
       "    </tr>\n",
       "    <tr>\n",
       "      <th>+ fatjet &gt;=2</th>\n",
       "      <td>1.791570e+02</td>\n",
       "    </tr>\n",
       "  </tbody>\n",
       "</table>\n",
       "</div>"
      ],
      "text/plain": [
       "                          ZNuNu\n",
       "all                1.749745e+06\n",
       "+ one lepton       3.626214e+04\n",
       "+ met              1.585760e+04\n",
       "+ ht               1.200839e+04\n",
       "+ njet             1.181001e+04\n",
       "+ bjet             1.826519e+03\n",
       "+ min(mt(bs,met))  1.185361e+03\n",
       "+ fatjet >=1       1.031829e+03\n",
       "+ fatjet >=2       1.791570e+02"
      ]
     },
     "execution_count": 82,
     "metadata": {},
     "output_type": "execute_result"
    }
   ],
   "source": [
    "getCutFlowTable(output_znunu, 'ZNuNu', lines = ['all', '+ one lepton', '+ met', \n",
    "                                                '+ ht','+ njet', '+ bjet', '+ min(mt(bs,met))',\n",
    "                                                '+ fatjet >=1 ', '+ fatjet >=2 '])"
   ]
  },
  {
   "cell_type": "code",
   "execution_count": 83,
   "metadata": {},
   "outputs": [
    {
     "data": {
      "text/html": [
       "<div>\n",
       "<style scoped>\n",
       "    .dataframe tbody tr th:only-of-type {\n",
       "        vertical-align: middle;\n",
       "    }\n",
       "\n",
       "    .dataframe tbody tr th {\n",
       "        vertical-align: top;\n",
       "    }\n",
       "\n",
       "    .dataframe thead th {\n",
       "        text-align: right;\n",
       "    }\n",
       "</style>\n",
       "<table border=\"1\" class=\"dataframe\">\n",
       "  <thead>\n",
       "    <tr style=\"text-align: right;\">\n",
       "      <th></th>\n",
       "      <th>ST</th>\n",
       "    </tr>\n",
       "  </thead>\n",
       "  <tbody>\n",
       "    <tr>\n",
       "      <th>all</th>\n",
       "      <td>291963.198720</td>\n",
       "    </tr>\n",
       "    <tr>\n",
       "      <th>+ one lepton</th>\n",
       "      <td>75310.193798</td>\n",
       "    </tr>\n",
       "    <tr>\n",
       "      <th>+ met</th>\n",
       "      <td>30976.294080</td>\n",
       "    </tr>\n",
       "    <tr>\n",
       "      <th>+ ht</th>\n",
       "      <td>28565.365916</td>\n",
       "    </tr>\n",
       "    <tr>\n",
       "      <th>+ njet</th>\n",
       "      <td>28505.991843</td>\n",
       "    </tr>\n",
       "    <tr>\n",
       "      <th>+ bjet</th>\n",
       "      <td>21492.661165</td>\n",
       "    </tr>\n",
       "    <tr>\n",
       "      <th>+ min(mt(bs,met))</th>\n",
       "      <td>10341.139196</td>\n",
       "    </tr>\n",
       "    <tr>\n",
       "      <th>+ fatjet &gt;=1</th>\n",
       "      <td>9267.767530</td>\n",
       "    </tr>\n",
       "    <tr>\n",
       "      <th>+ fatjet &gt;=2</th>\n",
       "      <td>3285.450708</td>\n",
       "    </tr>\n",
       "  </tbody>\n",
       "</table>\n",
       "</div>"
      ],
      "text/plain": [
       "                              ST\n",
       "all                291963.198720\n",
       "+ one lepton        75310.193798\n",
       "+ met               30976.294080\n",
       "+ ht                28565.365916\n",
       "+ njet              28505.991843\n",
       "+ bjet              21492.661165\n",
       "+ min(mt(bs,met))   10341.139196\n",
       "+ fatjet >=1         9267.767530\n",
       "+ fatjet >=2         3285.450708"
      ]
     },
     "execution_count": 83,
     "metadata": {},
     "output_type": "execute_result"
    }
   ],
   "source": [
    "getCutFlowTable(output_st, 'ST', lines = ['all', '+ one lepton', '+ met', \n",
    "                                                '+ ht','+ njet', '+ bjet', '+ min(mt(bs,met))',\n",
    "                                                '+ fatjet >=1 ', '+ fatjet >=2 '])"
   ]
  },
  {
   "cell_type": "code",
   "execution_count": 84,
   "metadata": {
    "scrolled": true
   },
   "outputs": [
    {
     "data": {
      "text/html": [
       "<div>\n",
       "<style scoped>\n",
       "    .dataframe tbody tr th:only-of-type {\n",
       "        vertical-align: middle;\n",
       "    }\n",
       "\n",
       "    .dataframe tbody tr th {\n",
       "        vertical-align: top;\n",
       "    }\n",
       "\n",
       "    .dataframe thead th {\n",
       "        text-align: right;\n",
       "    }\n",
       "</style>\n",
       "<table border=\"1\" class=\"dataframe\">\n",
       "  <thead>\n",
       "    <tr style=\"text-align: right;\">\n",
       "      <th></th>\n",
       "      <th>ttW/ttZ</th>\n",
       "    </tr>\n",
       "  </thead>\n",
       "  <tbody>\n",
       "    <tr>\n",
       "      <th>all</th>\n",
       "      <td>11906.833334</td>\n",
       "    </tr>\n",
       "    <tr>\n",
       "      <th>+ one lepton</th>\n",
       "      <td>2712.634823</td>\n",
       "    </tr>\n",
       "    <tr>\n",
       "      <th>+ met</th>\n",
       "      <td>1400.691956</td>\n",
       "    </tr>\n",
       "    <tr>\n",
       "      <th>+ ht</th>\n",
       "      <td>1359.930241</td>\n",
       "    </tr>\n",
       "    <tr>\n",
       "      <th>+ njet</th>\n",
       "      <td>1359.699826</td>\n",
       "    </tr>\n",
       "    <tr>\n",
       "      <th>+ bjet</th>\n",
       "      <td>1161.630190</td>\n",
       "    </tr>\n",
       "    <tr>\n",
       "      <th>+ min(mt(bs,met))</th>\n",
       "      <td>513.688804</td>\n",
       "    </tr>\n",
       "    <tr>\n",
       "      <th>+ fatjet &gt;=1</th>\n",
       "      <td>448.561552</td>\n",
       "    </tr>\n",
       "    <tr>\n",
       "      <th>+ fatjet &gt;=2</th>\n",
       "      <td>187.129796</td>\n",
       "    </tr>\n",
       "  </tbody>\n",
       "</table>\n",
       "</div>"
      ],
      "text/plain": [
       "                        ttW/ttZ\n",
       "all                11906.833334\n",
       "+ one lepton        2712.634823\n",
       "+ met               1400.691956\n",
       "+ ht                1359.930241\n",
       "+ njet              1359.699826\n",
       "+ bjet              1161.630190\n",
       "+ min(mt(bs,met))    513.688804\n",
       "+ fatjet >=1         448.561552\n",
       "+ fatjet >=2         187.129796"
      ]
     },
     "execution_count": 84,
     "metadata": {},
     "output_type": "execute_result"
    }
   ],
   "source": [
    "getCutFlowTable(output_ttwz, 'ttW/ttZ', lines = ['all', '+ one lepton', '+ met', \n",
    "                                                '+ ht','+ njet', '+ bjet', '+ min(mt(bs,met))',\n",
    "                                                '+ fatjet >=1 ', '+ fatjet >=2 '])"
   ]
  },
  {
   "cell_type": "code",
   "execution_count": 85,
   "metadata": {},
   "outputs": [
    {
     "data": {
      "text/html": [
       "<div>\n",
       "<style scoped>\n",
       "    .dataframe tbody tr th:only-of-type {\n",
       "        vertical-align: middle;\n",
       "    }\n",
       "\n",
       "    .dataframe tbody tr th {\n",
       "        vertical-align: top;\n",
       "    }\n",
       "\n",
       "    .dataframe thead th {\n",
       "        text-align: right;\n",
       "    }\n",
       "</style>\n",
       "<table border=\"1\" class=\"dataframe\">\n",
       "  <thead>\n",
       "    <tr style=\"text-align: right;\">\n",
       "      <th></th>\n",
       "      <th>2bosons</th>\n",
       "    </tr>\n",
       "  </thead>\n",
       "  <tbody>\n",
       "    <tr>\n",
       "      <th>all</th>\n",
       "      <td>90495.015945</td>\n",
       "    </tr>\n",
       "    <tr>\n",
       "      <th>+ one lepton</th>\n",
       "      <td>16178.551133</td>\n",
       "    </tr>\n",
       "    <tr>\n",
       "      <th>+ met</th>\n",
       "      <td>7862.997351</td>\n",
       "    </tr>\n",
       "    <tr>\n",
       "      <th>+ ht</th>\n",
       "      <td>6795.169621</td>\n",
       "    </tr>\n",
       "    <tr>\n",
       "      <th>+ njet</th>\n",
       "      <td>6728.440992</td>\n",
       "    </tr>\n",
       "    <tr>\n",
       "      <th>+ bjet</th>\n",
       "      <td>1032.212619</td>\n",
       "    </tr>\n",
       "    <tr>\n",
       "      <th>+ min(mt(bs,met))</th>\n",
       "      <td>550.179432</td>\n",
       "    </tr>\n",
       "    <tr>\n",
       "      <th>+ fatjet &gt;=1</th>\n",
       "      <td>520.213968</td>\n",
       "    </tr>\n",
       "    <tr>\n",
       "      <th>+ fatjet &gt;=2</th>\n",
       "      <td>112.553614</td>\n",
       "    </tr>\n",
       "  </tbody>\n",
       "</table>\n",
       "</div>"
      ],
      "text/plain": [
       "                        2bosons\n",
       "all                90495.015945\n",
       "+ one lepton       16178.551133\n",
       "+ met               7862.997351\n",
       "+ ht                6795.169621\n",
       "+ njet              6728.440992\n",
       "+ bjet              1032.212619\n",
       "+ min(mt(bs,met))    550.179432\n",
       "+ fatjet >=1         520.213968\n",
       "+ fatjet >=2         112.553614"
      ]
     },
     "execution_count": 85,
     "metadata": {},
     "output_type": "execute_result"
    }
   ],
   "source": [
    "\n",
    "getCutFlowTable(output_2b, '2bosons', lines = ['all', '+ one lepton', '+ met', \n",
    "                                                '+ ht','+ njet', '+ bjet', '+ min(mt(bs,met))',\n",
    "                                                '+ fatjet >=1 ', '+ fatjet >=2 '])"
   ]
  },
  {
   "cell_type": "code",
   "execution_count": 60,
   "metadata": {},
   "outputs": [
    {
     "name": "stderr",
     "output_type": "stream",
     "text": [
      "/home/users/ewallace/CMSSW_10_2_9/src/tW_scattering2/coffeaEnv/lib/python3.6/site-packages/coffea/hist/plot.py:357: RuntimeWarning: invalid value encountered in true_divide\n",
      "  rsumw = sumw_num / sumw_denom\n"
     ]
    },
    {
     "data": {
      "text/plain": [
       "<AxesSubplot:xlabel='N', ylabel='Data/MC'>"
      ]
     },
     "execution_count": 60,
     "metadata": {},
     "output_type": "execute_result"
    },
    {
     "data": {
      "image/png": "[encoded data removed]",
      "text/plain": [
       "<Figure size 432x288 with 1 Axes>"
      ]
     },
     "metadata": {},
     "output_type": "display_data"
    },
    {
     "data": {
      "image/png": "[encoded data removed]",
      "text/plain": [
       "<Figure size 432x288 with 1 Axes>"
      ]
     },
     "metadata": {},
     "output_type": "display_data"
    }
   ],
   "source": [
    "%matplotlib inline\n",
    "output_data[\"number j\"].label = 'Data/MC'\n",
    "ax = hist.plot1d(output_sig[\"number j\"], density=False, stack=False)\n",
    "hist.plot1d(output_wjets[\"number j\"], density=False, stack=True)\n",
    "hist.plot1d(output_ttjets[\"number j\"], density=False, stack=True)\n",
    "hist.plot1d(output_znunu[\"number j\"], density=False, stack=True)\n",
    "hist.plot1d(output_st[\"number j\"], density=False, stack=True)\n",
    "hist.plot1d(output_ttwz[\"number j\"], density=False, stack=True)\n",
    "hist.plot1d(output_2b[\"number j\"], density=False, stack=True)\n",
    "hist.plot1d(output_qcd[\"number j\"], density=False, stack=True)\n",
    "ax=hist.plot1d(output_data[\"number j\"], density=False, stack=False, error_opts = {'linestyle' : 'None', 'color' : 'black'})\n",
    "ax.set_yscale('log')\n",
    "ax.set_ylim(0.001,10000)\n",
    "hist.plotratio(\n",
    "num = output_data[\"number j\"].sum(\"dataset\"),\n",
    "denom = (output_sig[\"number j\"].sum(\"dataset\")+output_wjets[\"number j\"].sum(\"dataset\")+output_ttjets[\"number j\"].sum(\"dataset\")+\n",
    "      output_znunu[\"number j\"].sum(\"dataset\") + output_st[\"number j\"].sum(\"dataset\") + output_ttwz[\"number j\"].sum(\"dataset\")+\n",
    "      output_2b[\"number j\"].sum(\"dataset\") + output_qcd[\"number j\"].sum(\"dataset\")),\n",
    "error_opts={\n",
    "    'linestyle': 'none',\n",
    "    'marker': '.',\n",
    "    'markersize': 10.,\n",
    "    'color': 'k',\n",
    "    'elinewidth': 1,},\n",
    "unc='poisson-ratio')\n"
   ]
  },
  {
   "cell_type": "code",
   "execution_count": 63,
   "metadata": {},
   "outputs": [
    {
     "name": "stderr",
     "output_type": "stream",
     "text": [
      "/home/users/ewallace/CMSSW_10_2_9/src/tW_scattering2/coffeaEnv/lib/python3.6/site-packages/coffea/hist/plot.py:357: RuntimeWarning: invalid value encountered in true_divide\n",
      "  rsumw = sumw_num / sumw_denom\n"
     ]
    },
    {
     "data": {
      "text/plain": [
       "<AxesSubplot:xlabel='N', ylabel='Counts'>"
      ]
     },
     "execution_count": 63,
     "metadata": {},
     "output_type": "execute_result"
    },
    {
     "data": {
      "image/png": "[encoded data removed]",
      "text/plain": [
       "<Figure size 432x288 with 1 Axes>"
      ]
     },
     "metadata": {},
     "output_type": "display_data"
    },
    {
     "data": {
      "image/png": "[encoded data removed]",
      "text/plain": [
       "<Figure size 432x288 with 1 Axes>"
      ]
     },
     "metadata": {},
     "output_type": "display_data"
    }
   ],
   "source": [
    "ax = hist.plot1d(output_sig[\"number b\"], density=False)\n",
    "hist.plot1d(output_wjets[\"number b\"], density=False, stack=True)\n",
    "hist.plot1d(output_ttjets[\"number b\"], density=False, stack=True)\n",
    "hist.plot1d(output_znunu[\"number b\"], density=False, stack=True)\n",
    "hist.plot1d(output_st[\"number b\"], density=False, stack=True)\n",
    "hist.plot1d(output_ttwz[\"number b\"], density=False, stack=True)\n",
    "hist.plot1d(output_2b[\"number b\"], density=False, stack=True)\n",
    "hist.plot1d(output_qcd[\"number b\"], density=False, stack=True)\n",
    "hist.plot1d(output_data[\"number b\"], density=False, stack=False, error_opts = {'linestyle' : 'None', 'color':'black'})\n",
    "ax.set_yscale('log')\n",
    "ax.set_ylim(0.001,100000)\n",
    "hist.plotratio(\n",
    "num = output_data[\"number b\"].sum(\"dataset\"),\n",
    "denom = (output_sig[\"number b\"].sum(\"dataset\")+output_wjets[\"number b\"].sum(\"dataset\")+output_ttjets[\"number b\"].sum(\"dataset\")+\n",
    "      output_znunu[\"number b\"].sum(\"dataset\") + output_st[\"number b\"].sum(\"dataset\") + output_ttwz[\"number b\"].sum(\"dataset\")+\n",
    "      output_2b[\"number b\"].sum(\"dataset\") + output_qcd[\"number b\"].sum(\"dataset\")),\n",
    "error_opts={\n",
    "    'linestyle': 'none',\n",
    "    'marker': '.',\n",
    "    'markersize': 10.,\n",
    "    'color': 'k',\n",
    "    'elinewidth': 1,},\n",
    "unc='poisson-ratio')"
   ]
  },
  {
   "cell_type": "code",
   "execution_count": 64,
   "metadata": {},
   "outputs": [
    {
     "name": "stderr",
     "output_type": "stream",
     "text": [
      "/home/users/ewallace/CMSSW_10_2_9/src/tW_scattering2/coffeaEnv/lib/python3.6/site-packages/coffea/hist/plot.py:357: RuntimeWarning: invalid value encountered in true_divide\n",
      "  rsumw = sumw_num / sumw_denom\n"
     ]
    },
    {
     "data": {
      "text/plain": [
       "<AxesSubplot:xlabel='N', ylabel='Counts'>"
      ]
     },
     "execution_count": 64,
     "metadata": {},
     "output_type": "execute_result"
    },
    {
     "data": {
      "image/png": "[encoded data removed]",
      "text/plain": [
       "<Figure size 432x288 with 1 Axes>"
      ]
     },
     "metadata": {},
     "output_type": "display_data"
    },
    {
     "data": {
      "image/png": "[encoded data removed]",
      "text/plain": [
       "<Figure size 432x288 with 1 Axes>"
      ]
     },
     "metadata": {},
     "output_type": "display_data"
    }
   ],
   "source": [
    "ax = hist.plot1d(output_sig[\"number fj\"], density=False)\n",
    "hist.plot1d(output_wjets[\"number fj\"], density=False, stack=True)\n",
    "hist.plot1d(output_ttjets[\"number fj\"], density=False, stack=True)\n",
    "hist.plot1d(output_znunu[\"number fj\"], density=False, stack=True)\n",
    "hist.plot1d(output_st[\"number fj\"], density=False, stack=True)\n",
    "hist.plot1d(output_ttwz[\"number fj\"], density=False, stack=True)\n",
    "hist.plot1d(output_2b[\"number fj\"], density=False, stack=True)\n",
    "hist.plot1d(output_qcd[\"number fj\"], density=False, stack=True)\n",
    "hist.plot1d(output_data[\"number fj\"], density=False, stack=False, error_opts = {'linestyle' : 'None', 'color' : 'black'})\n",
    "ax.set_yscale('log')\n",
    "ax.set_ylim(0.001,100000)\n",
    "hist.plotratio(\n",
    "num = output_data[\"number fj\"].sum(\"dataset\"),\n",
    "denom = (output_sig[\"number fj\"].sum(\"dataset\")+output_wjets[\"number fj\"].sum(\"dataset\")+output_ttjets[\"number fj\"].sum(\"dataset\")+\n",
    "      output_znunu[\"number fj\"].sum(\"dataset\") + output_st[\"number fj\"].sum(\"dataset\") + output_ttwz[\"number fj\"].sum(\"dataset\")+\n",
    "      output_2b[\"number fj\"].sum(\"dataset\") + output_qcd[\"number fj\"].sum(\"dataset\")),\n",
    "error_opts={\n",
    "    'linestyle': 'none',\n",
    "    'marker': '.',\n",
    "    'markersize': 10.,\n",
    "    'color': 'k',\n",
    "    'elinewidth': 1,},\n",
    "unc='poisson-ratio')"
   ]
  },
  {
   "cell_type": "code",
   "execution_count": 66,
   "metadata": {},
   "outputs": [
    {
     "name": "stderr",
     "output_type": "stream",
     "text": [
      "/home/users/ewallace/CMSSW_10_2_9/src/tW_scattering2/coffeaEnv/lib/python3.6/site-packages/coffea/hist/plot.py:357: RuntimeWarning: invalid value encountered in true_divide\n",
      "  rsumw = sumw_num / sumw_denom\n"
     ]
    },
    {
     "data": {
      "text/plain": [
       "<AxesSubplot:xlabel='N', ylabel='Counts'>"
      ]
     },
     "execution_count": 66,
     "metadata": {},
     "output_type": "execute_result"
    },
    {
     "data": {
      "image/png": "[encoded data removed]",
      "text/plain": [
       "<Figure size 432x288 with 1 Axes>"
      ]
     },
     "metadata": {},
     "output_type": "display_data"
    },
    {
     "data": {
      "image/png": "[encoded data removed]",
      "text/plain": [
       "<Figure size 432x288 with 1 Axes>"
      ]
     },
     "metadata": {},
     "output_type": "display_data"
    }
   ],
   "source": [
    "ax = hist.plot1d(output_sig[\"number h\"], density=False)\n",
    "hist.plot1d(output_wjets[\"number h\"], density=False, stack=True)\n",
    "hist.plot1d(output_ttjets[\"number h\"], density=False, stack=True)\n",
    "hist.plot1d(output_znunu[\"number h\"], density=False, stack=True)\n",
    "hist.plot1d(output_st[\"number h\"], density=False, stack=True)\n",
    "hist.plot1d(output_ttwz[\"number h\"], density=False, stack=True)\n",
    "hist.plot1d(output_2b[\"number h\"], density=False, stack=True)\n",
    "hist.plot1d(output_qcd[\"number h\"], density=False, stack=True)\n",
    "hist.plot1d(output_data[\"number h\"], density=False, stack=False, error_opts = {'linestyle' : 'None', 'color' : 'black'})\n",
    "ax.set_yscale('log')\n",
    "ax.set_ylim(0.001,100000)\n",
    "hist.plotratio(\n",
    "num = output_data[\"number h\"].sum(\"dataset\"),\n",
    "denom = (output_sig[\"number h\"].sum(\"dataset\")+output_wjets[\"number h\"].sum(\"dataset\")+output_ttjets[\"number h\"].sum(\"dataset\")+\n",
    "      output_znunu[\"number h\"].sum(\"dataset\") + output_st[\"number h\"].sum(\"dataset\") + output_ttwz[\"number h\"].sum(\"dataset\")+\n",
    "      output_2b[\"number h\"].sum(\"dataset\") + output_qcd[\"number h\"].sum(\"dataset\")),\n",
    "error_opts={\n",
    "    'linestyle': 'none',\n",
    "    'marker': '.',\n",
    "    'markersize': 10.,\n",
    "    'color': 'k',\n",
    "    'elinewidth': 1,},\n",
    "unc='poisson-ratio')"
   ]
  },
  {
   "cell_type": "code",
   "execution_count": 90,
   "metadata": {},
   "outputs": [
    {
     "data": {
      "text/plain": [
       "(0.001, 100000)"
      ]
     },
     "execution_count": 90,
     "metadata": {},
     "output_type": "execute_result"
    },
    {
     "data": {
      "image/png": "[encoded data removed]",
      "text/plain": [
       "<Figure size 432x288 with 1 Axes>"
      ]
     },
     "metadata": {},
     "output_type": "display_data"
    }
   ],
   "source": [
    "ax = hist.plot1d(output_sig[\"number w\"], density=False)\n",
    "hist.plot1d(output_wjets[\"number w\"], density=False, stack=True)\n",
    "hist.plot1d(output_ttjets[\"number w\"], density=False, stack=True)\n",
    "hist.plot1d(output_znunu[\"number w\"], density=False, stack=True)\n",
    "hist.plot1d(output_st[\"number w\"], density=False, stack=True)\n",
    "hist.plot1d(output_ttwz[\"number w\"], density=False, stack=True)\n",
    "hist.plot1d(output_2b[\"number w\"], density=False, stack=True)\n",
    "hist.plot1d(output_qcd[\"number w\"], density=False, stack=True)\n",
    "hist.plot1d(output_data[\"number w\"], density=False, stack=False, error_opts = {'linestyle' : 'None', 'color' : 'black'})\n",
    "ax.set_yscale('log')\n",
    "ax.set_ylim(0.001,100000)\n",
    "hist.plotratio(\n",
    "num = output_data[\"number w\"].sum(\"dataset\"),\n",
    "denom = (output_sig[\"number w\"].sum(\"dataset\")+output_wjets[\"number w\"].sum(\"dataset\")+output_ttjets[\"number w\"].sum(\"dataset\")+\n",
    "      output_znunu[\"number w\"].sum(\"dataset\") + output_st[\"number w\"].sum(\"dataset\") + output_ttwz[\"number w\"].sum(\"dataset\")+\n",
    "      output_2b[\"number w\"].sum(\"dataset\") + output_qcd[\"number w\"].sum(\"dataset\")),\n",
    "error_opts={\n",
    "    'linestyle': 'none',\n",
    "    'marker': '.',\n",
    "    'markersize': 10.,\n",
    "    'color': 'k',\n",
    "    'elinewidth': 1,},\n",
    "unc='poisson-ratio')"
   ]
  },
  {
   "cell_type": "code",
   "execution_count": 91,
   "metadata": {},
   "outputs": [
    {
     "data": {
      "text/plain": [
       "(0.001, 100000)"
      ]
     },
     "execution_count": 91,
     "metadata": {},
     "output_type": "execute_result"
    },
    {
     "data": {
      "image/png": "[encoded data removed]",
      "text/plain": [
       "<Figure size 432x288 with 1 Axes>"
      ]
     },
     "metadata": {},
     "output_type": "display_data"
    }
   ],
   "source": [
    "ax = hist.plot1d(output_qcd[\"met\"], density=False, stack=True)\n",
    "hist.plot1d(output_sig[\"met\"], density=False)\n",
    "hist.plot1d(output_wjets[\"met\"], density=False, stack=True)\n",
    "hist.plot1d(output_ttjets[\"met\"], density=False, stack=True)\n",
    "hist.plot1d(output_znunu[\"met\"], density=False, stack=True)\n",
    "hist.plot1d(output_st[\"met\"], density=False, stack=True)\n",
    "hist.plot1d(output_ttwz[\"met\"], density=False, stack=True)\n",
    "hist.plot1d(output_2b[\"met\"], density=False, stack=True)\n",
    "hist.plot1d(output_data[\"met data\"], density=False, stack=False, error_opts = {'linestyle' : 'None'})\n",
    "ax.set_yscale('log')\n",
    "ax.set_ylim(0.001,100000)"
   ]
  },
  {
   "cell_type": "code",
   "execution_count": 92,
   "metadata": {},
   "outputs": [
    {
     "data": {
      "text/plain": [
       "(0.001, 10000)"
      ]
     },
     "execution_count": 92,
     "metadata": {},
     "output_type": "execute_result"
    },
    {
     "data": {
      "image/png": "[encoded data removed]",
      "text/plain": [
       "<Figure size 432x288 with 1 Axes>"
      ]
     },
     "metadata": {},
     "output_type": "display_data"
    }
   ],
   "source": [
    "ax = hist.plot1d(output_sig[\"h mass\"], density=False)\n",
    "hist.plot1d(output_wjets[\"h mass\"], density=False, stack=True)\n",
    "hist.plot1d(output_ttjets[\"h mass\"], density=False, stack=True)\n",
    "hist.plot1d(output_znunu[\"h mass\"], density=False, stack=True)\n",
    "hist.plot1d(output_st[\"h mass\"], density=False, stack=True)\n",
    "hist.plot1d(output_ttwz[\"h mass\"], density=False, stack=True)\n",
    "hist.plot1d(output_2b[\"h mass\"], density=False, stack=True)\n",
    "hist.plot1d(output_qcd[\"h mass\"], density=False, stack=True)\n",
    "hist.plot1d(output_data[\"h mass data\"], density=False, stack=False, error_opts = {'linestyle' : 'None'})\n",
    "ax.set_yscale('log')\n",
    "ax.set_ylim(0.001,10000)"
   ]
  },
  {
   "cell_type": "code",
   "execution_count": 93,
   "metadata": {},
   "outputs": [
    {
     "data": {
      "text/plain": [
       "(0.001, 1000000)"
      ]
     },
     "execution_count": 93,
     "metadata": {},
     "output_type": "execute_result"
    },
    {
     "data": {
      "image/png": "[encoded data removed]",
      "text/plain": [
       "<Figure size 432x288 with 1 Axes>"
      ]
     },
     "metadata": {},
     "output_type": "display_data"
    }
   ],
   "source": [
    "ax = hist.plot1d(output_qcd[\"ht\"], density=False, stack=True)\n",
    "ax.set_yscale('log')\n",
    "ax.set_ylim(0.001,1000000)"
   ]
  },
  {
   "cell_type": "code",
   "execution_count": 94,
   "metadata": {},
   "outputs": [
    {
     "data": {
      "text/plain": [
       "(0.001, 10000000)"
      ]
     },
     "execution_count": 94,
     "metadata": {},
     "output_type": "execute_result"
    },
    {
     "data": {
      "image/png": "[encoded data removed]",
      "text/plain": [
       "<Figure size 432x288 with 1 Axes>"
      ]
     },
     "metadata": {},
     "output_type": "display_data"
    }
   ],
   "source": [
    "ax = hist.plot1d(output_qcd[\"met2\"], density=False, stack=True)\n",
    "ax.set_yscale('log')\n",
    "ax.set_ylim(0.001,10000000)"
   ]
  },
  {
   "cell_type": "code",
   "execution_count": null,
   "metadata": {},
   "outputs": [],
   "source": []
  }
 ],
 "metadata": {
  "kernelspec": {
   "display_name": "coffeaEnv",
   "language": "python",
   "name": "coffeaenv"
  },
  "language_info": {
   "codemirror_mode": {
    "name": "ipython",
    "version": 3
   },
   "file_extension": ".py",
   "mimetype": "text/x-python",
   "name": "python",
   "nbconvert_exporter": "python",
   "pygments_lexer": "ipython3",
   "version": "3.6.4"
  }
 },
 "nbformat": 4,
 "nbformat_minor": 2
}
