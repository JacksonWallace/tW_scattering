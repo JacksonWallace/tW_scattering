{
 "cells": [
  {
   "cell_type": "code",
   "execution_count": 1,
   "metadata": {},
   "outputs": [],
   "source": [
    "#notebook heavily stolen from https://github.com/mirandabryson/WH-All-Hadronic-Coffea-Tools/blob/master/cutflownotebook.ipynb\n",
    "import os\n",
    "import time\n",
    "import glob\n",
    "import re\n",
    "from functools import reduce\n",
    "\n",
    "import numpy as np\n",
    "from tqdm.auto import tqdm\n",
    "import coffea.processor as processor\n",
    "from coffea.processor.accumulator import AccumulatorABC\n",
    "from coffea import hist\n",
    "from coffea.analysis_objects import JaggedCandidateArray\n",
    "import pandas as pd\n",
    "import uproot_methods\n",
    "import awkward\n",
    "\n",
    "\n",
    "import matplotlib\n",
    "import matplotlib.pyplot as plt\n",
    "from matplotlib.colors import LogNorm"
   ]
  },
  {
   "cell_type": "code",
   "execution_count": 2,
   "metadata": {},
   "outputs": [],
   "source": [
    "def addRowToCutFlow(output, df, name, selection):\n",
    "    '''\n",
    "    add one row with name and selection for each process to the cutflow accumulator\n",
    "    '''\n",
    "\n",
    "    if selection is not None:\n",
    "        output['cutflow'][name] += (sum(df['weight'][selection].flatten())*137)\n",
    "    else:\n",
    "        output['cutflow'][name] += (sum(df['weight'].flatten())*137)\n",
    "            \n",
    "def getCutFlowTable(output, outputname, lines = ['all']):\n",
    "    '''\n",
    "    Takes a cache and returns a formated cut-flow table of processes.\n",
    "    Lines and processes have to follow the naming of the coffea processor output.\n",
    "    '''\n",
    "    res = pd.DataFrame([])\n",
    "    for line in lines:\n",
    "        res = res.append(pd.DataFrame({outputname : output['cutflow'][line]}, index=[line]))\n",
    "    return res"
   ]
  },
  {
   "cell_type": "code",
   "execution_count": 40,
   "metadata": {},
   "outputs": [],
   "source": [
    "# This just tells matplotlib not to open any\n",
    "# interactive windows.\n",
    "matplotlib.use('Agg')\n",
    "\n",
    "class WHhadProcessor(processor.ProcessorABC):\n",
    "    \"\"\"Processor used to find the pt rations\"\"\"\n",
    "    def __init__(self):\n",
    "\n",
    "         # we can use a large number of bins and rebin later\n",
    "        dataset_axis        = hist.Cat(\"dataset\", \"Primary dataset\")\n",
    "        pt_axis             = hist.Bin(\"pt\", r\"$p_{T}$ (GeV)\", 40, 200, 1200)\n",
    "        mass_axis           = hist.Bin(\"mass\", r\" mass (GeV)\", 50, 0, 250)\n",
    "        eta_axis            = hist.Bin(\"eta\", r\"$\\eta$\", 60, -5.5, 5.5)\n",
    "        multiplicity_axis   = hist.Bin(\"multiplicity\", r\"N\", 20, 0, 20)\n",
    "        r_axis               = hist.Bin(\"r\", r\"$\\Delta R$\", 80, 0, 4)\n",
    "\n",
    "        self._accumulator = processor.dict_accumulator({\n",
    "            'cutflow':              processor.defaultdict_accumulator(int),\n",
    "            'number j':             hist.Hist(\"Counts\", dataset_axis, multiplicity_axis),\n",
    "            'number b':             hist.Hist(\"Counts\", dataset_axis, multiplicity_axis),\n",
    "            'number h':             hist.Hist(\"Counts\", dataset_axis, multiplicity_axis),\n",
    "            'number w':             hist.Hist(\"Counts\", dataset_axis, multiplicity_axis),\n",
    "            'number fj':            hist.Hist(\"Counts\", dataset_axis, multiplicity_axis),\n",
    "            'met':                  hist.Hist(\"Counts\", dataset_axis, pt_axis),\n",
    "            'h mass':               hist.Hist(\"Counts\", dataset_axis, mass_axis),\n",
    "            'ht':                   hist.Hist(\"Counts\", dataset_axis, pt_axis),\n",
    "            'met2':                  hist.Hist(\"Counts\", dataset_axis, pt_axis),\n",
    "            'number j data':             hist.Hist(\"Counts\", dataset_axis, multiplicity_axis),\n",
    "            'number b data':             hist.Hist(\"Counts\", dataset_axis, multiplicity_axis),\n",
    "            'number h data':             hist.Hist(\"Counts\", dataset_axis, multiplicity_axis),\n",
    "            'number w data':             hist.Hist(\"Counts\", dataset_axis, multiplicity_axis),\n",
    "            'number fj data':            hist.Hist(\"Counts\", dataset_axis, multiplicity_axis),\n",
    "            'met data':                  hist.Hist(\"Counts\", dataset_axis, pt_axis),\n",
    "            'h mass data':               hist.Hist(\"Counts\", dataset_axis, mass_axis),\n",
    "            \n",
    "        })\n",
    "        \n",
    "    @property\n",
    "    def accumulator(self):\n",
    "        return self._accumulator\n",
    "\n",
    "    def process(self, df):\n",
    "        \"\"\"\n",
    "        Processing function. This is where the actual analysis happens.\n",
    "        \"\"\"\n",
    "        output = self.accumulator.identity()\n",
    "        \n",
    "        #Jagged Arrays\n",
    "        #MET\n",
    "        metphi = df[\"MET_phi\"]\n",
    "        metpt = df[\"MET_pt\"]\n",
    "        \n",
    "        #leptons\n",
    "        \n",
    "        electrons = JaggedCandidateArray.candidatesfromcounts(\n",
    "            df['nElectron'],\n",
    "            pt=df['Electron_pt'].content, \n",
    "            eta=df['Electron_eta'].content, \n",
    "            phi=df['Electron_phi'].content,\n",
    "            mass=df['Electron_mass'].content,\n",
    "            pdgid=df['Electron_pdgId'].content,\n",
    "            mini_iso=df['Electron_miniPFRelIso_all'].content\n",
    "        )\n",
    "        \n",
    "        \n",
    "        muons = JaggedCandidateArray.candidatesfromcounts(\n",
    "            df['nMuon'],\n",
    "            pt=df['Muon_pt'].content, \n",
    "            eta=df['Muon_eta'].content, \n",
    "            phi=df['Muon_phi'].content,\n",
    "            mass=df['Muon_mass'].content,\n",
    "            pdgid=df['Muon_pdgId'].content,\n",
    "            mini_iso=df['Muon_miniPFRelIso_all'].content, \n",
    "            looseid =df['Muon_looseId'].content\n",
    "        )\n",
    "        \n",
    "        taus = JaggedCandidateArray.candidatesfromcounts(\n",
    "            df['nTau'],\n",
    "            pt=df['Tau_pt'].content, \n",
    "            eta=df['Tau_eta'].content, \n",
    "            phi=df['Tau_phi'].content,\n",
    "            mass=df['Tau_mass'].content,\n",
    "            decaymode=df['Tau_idDecayMode'].content,\n",
    "            newid=df['Tau_idMVAnewDM2017v2'].content,\n",
    "        )\n",
    "        \n",
    "        isotracks = awkward.JaggedArray.zip(\n",
    "            pt=df['IsoTrack_pt'], \n",
    "            eta=df['IsoTrack_eta'], \n",
    "            phi=df['IsoTrack_phi'], \n",
    "            rel_iso=df['IsoTrack_pfRelIso03_all'], \n",
    "        )\n",
    "        \n",
    "        #jets\n",
    "        jets = JaggedCandidateArray.candidatesfromcounts(\n",
    "            df['nJet'],\n",
    "            pt=df['Jet_pt'].content, \n",
    "            eta=df['Jet_eta'].content, \n",
    "            phi=df['Jet_phi'].content,\n",
    "            btag=df['Jet_btagDeepB'].content, \n",
    "            jetid=df['Jet_jetId'].content, \n",
    "            mass=df['Jet_mass'].content,\n",
    "        )\n",
    "        fatjets = JaggedCandidateArray.candidatesfromcounts(\n",
    "            df['nFatJet'],\n",
    "            pt=df['FatJet_pt'].content, \n",
    "            eta=df['FatJet_eta'].content, \n",
    "            phi=df['FatJet_phi'].content, \n",
    "            mass=df['FatJet_mass'].content, \n",
    "            softdrop=df[\"FatJet_msoftdrop\"].content,  \n",
    "            fromH = df['FatJet_deepTagMD_HbbvsQCD'].content, \n",
    "            fromW_MD = df['FatJet_deepTagMD_WvsQCD'].content, \n",
    "            fromW_MC = df['FatJet_deepTag_WvsQCD'].content\n",
    "            \n",
    "        )\n",
    "        \n",
    "         #ak4's\n",
    "        goodjcut = ((jets.pt>30) & (abs(jets.eta)<2.4) & (jets.jetid>0))\n",
    "        goodjets = jets[goodjcut]\n",
    "        njets = goodjets.counts\n",
    "        jetpt_sorted = goodjets.pt.argsort(ascending=False)\n",
    "        leadjet = goodjets[jetpt_sorted==0]\n",
    "        subleadjet = goodjets[jetpt_sorted==1]\n",
    "        leadjets = goodjets[jetpt_sorted <= 1]\n",
    "      \n",
    "        bjcut = ((jets.pt>30) & (abs(jets.eta)<2.4) & (jets.jetid>0) & (jets.btag>0.4184))\n",
    "        bjets = jets[bjcut]\n",
    "        numbjets = bjets.counts\n",
    "        bjetpt = bjets.pt\n",
    "        bjetpt_sorted = bjetpt.argsort(ascending=False)\n",
    "        leadbjet = bjets[bjetpt_sorted==0]\n",
    "        subleadbjet = bjets[bjetpt_sorted==1]\n",
    "        leadbjets = bjets[bjetpt_sorted <= 1]\n",
    "            \n",
    "        nonbjcut = ((jets.pt>30) & (abs(jets.eta)<2.4) & (jets.jetid>0) & (jets.btag<0.4184))\n",
    "        nbjets = jets[nonbjcut]\n",
    "        nbjetpt_sorted = nbjets.pt.argsort(ascending=False)\n",
    "        leadnbjet = nbjets[nbjetpt_sorted==0]\n",
    "        subleadnbjet = nbjets[nbjetpt_sorted==1]\n",
    "        leadnbjets = nbjets[nbjetpt_sorted <= 1]\n",
    "\n",
    "        \n",
    "        #ak8's\n",
    "        goodfjcut = ((fatjets.pt > 200))\n",
    "        goodfatjets = fatjets[goodfjcut]\n",
    "        \n",
    "        htagcut = ((fatjets.pt > 200) & (fatjets.fromH > 0.8365))\n",
    "        htagged = fatjets[htagcut]\n",
    "        htagpt_sorted = htagged.pt.argsort(ascending=False)\n",
    "        leadhtag = htagged[htagpt_sorted==0]\n",
    "        subleadhtag = htagged[htagpt_sorted==1]\n",
    "        leadhtags = htagged[htagpt_sorted <= 1]\n",
    "        \n",
    "        wtagcut_mc = ((fatjets.pt > 200) & (fatjets.fromW_MC > 0.918) & (fatjets.fromH < 0.8365))\n",
    "        wtagcut_md = ((fatjets.pt > 200) & (fatjets.fromW_MD > 0.704) & (fatjets.fromH < 0.8365))\n",
    "        wtagged_mc = fatjets[wtagcut_mc]\n",
    "        wtagged_md = fatjets[wtagcut_md]\n",
    "        wtagmcpt_sorted = wtagged_mc.pt.argsort(ascending=False)\n",
    "        leadwmctag = wtagged_mc[wtagmcpt_sorted==0]\n",
    "        subleadwmctag = wtagged_mc[wtagmcpt_sorted==1]\n",
    "        leadwmctags = wtagged_mc[wtagmcpt_sorted <= 1]\n",
    "        wtagmdpt_sorted = wtagged_md.pt.argsort(ascending=False)\n",
    "        leadwmdtag = wtagged_md[wtagmdpt_sorted==0]\n",
    "        subleadwmdtag = wtagged_md[wtagmdpt_sorted==1]\n",
    "        leadwmdtags = wtagged_md[wtagmdpt_sorted <= 1]\n",
    " \n",
    "        WmcH = leadwmctag.cross(leadhtag)\n",
    "        WmcHpt_sorted = WmcH.pt.argsort(ascending=False)\n",
    "        leadWmcleadH = WmcH[WmcHpt_sorted <=1]\n",
    "\n",
    "        WmdH = leadwmdtag.cross(leadhtag)\n",
    "        WmdHpt_sorted = WmdH.pt.argsort(ascending=False)\n",
    "        leadWmdleadH = WmdH[WmdHpt_sorted <=1]\n",
    "\n",
    "        #match jets\n",
    "        \n",
    "        leadjleadH = leadhtag.cross(leadjet)\n",
    "        leadbjleadH = leadhtag.cross(leadbjet)\n",
    "        leadnbjleadH = leadhtag.cross(leadnbjet)\n",
    "        \n",
    "        subleadjleadH = leadhtag.cross(subleadjet)\n",
    "        subleadbjleadH = leadhtag.cross(subleadbjet)\n",
    "        subleadnbjleadH = leadhtag.cross(subleadnbjet)\n",
    "        \n",
    "        leadjleadW = leadwmctag.cross(leadjet)\n",
    "        leadbjleadW = leadwmctag.cross(leadbjet)\n",
    "        leadnbjleadW = leadwmctag.cross(leadnbjet)\n",
    "        \n",
    "        subleadjleadW = leadwmctag.cross(leadjet)\n",
    "        subleadbjleadW = leadwmctag.cross(leadbjet)\n",
    "        subleadnbjleadW = leadwmctag.cross(leadnbjet)\n",
    "        \n",
    "        #angles\n",
    "        \n",
    "        leadjleadHDR = leadjleadH.i0.p4.delta_r(leadjleadH.i1.p4)\n",
    "        leadjleadHDPhi = abs(leadjleadH.i0.p4.delta_phi(leadjleadH.i1.p4))\n",
    "        leadbjleadHDR = leadbjleadH.i0.p4.delta_r(leadbjleadH.i1.p4)\n",
    "        leadbjleadHDPhi = abs(leadbjleadH.i0.p4.delta_phi(leadbjleadH.i1.p4))\n",
    "        leadnbjleadHDR = leadnbjleadH.i0.p4.delta_r(leadnbjleadH.i1.p4)\n",
    "        leadnbjleadHDPhi = abs(leadnbjleadH.i0.p4.delta_phi(leadnbjleadH.i1.p4))\n",
    "        \n",
    "        subleadjleadHDR = subleadjleadH.i0.p4.delta_r(subleadjleadH.i1.p4)\n",
    "        subleadjleadHDPhi = abs(subleadjleadH.i0.p4.delta_phi(subleadjleadH.i1.p4))\n",
    "        subleadbjleadHDR = subleadbjleadH.i0.p4.delta_r(subleadbjleadH.i1.p4)\n",
    "        subleadbjleadHDPhi = abs(subleadbjleadH.i0.p4.delta_phi(subleadbjleadH.i1.p4))\n",
    "        subleadnbjleadHDR = subleadnbjleadH.i0.p4.delta_r(subleadnbjleadH.i1.p4)\n",
    "        subleadnbjleadHDPhi = abs(subleadnbjleadH.i0.p4.delta_phi(subleadnbjleadH.i1.p4))\n",
    "        \n",
    "        leadjleadWDR = leadjleadW.i0.p4.delta_r(leadjleadW.i1.p4)\n",
    "        leadjleadWDPhi = abs(leadjleadW.i0.p4.delta_phi(leadjleadW.i1.p4))\n",
    "        leadbjleadWDR = leadbjleadW.i0.p4.delta_r(leadbjleadW.i1.p4)\n",
    "        leadbjleadWDPhi = abs(leadbjleadW.i0.p4.delta_phi(leadbjleadW.i1.p4))\n",
    "        leadnbjleadWDR = leadnbjleadW.i0.p4.delta_r(leadnbjleadW.i1.p4)\n",
    "        leadnbjleadWDPhi = abs(leadnbjleadW.i0.p4.delta_phi(leadnbjleadW.i1.p4))\n",
    "        \n",
    "        subleadjleadWDR = subleadjleadW.i0.p4.delta_r(subleadjleadW.i1.p4)\n",
    "        subleadjleadWDPhi = abs(subleadjleadW.i0.p4.delta_phi(subleadjleadW.i1.p4))\n",
    "        subleadbjleadWDR = subleadbjleadW.i0.p4.delta_r(subleadbjleadW.i1.p4)\n",
    "        subleadbjleadWDPhi = abs(subleadbjleadW.i0.p4.delta_phi(subleadbjleadW.i1.p4))\n",
    "        subleadnbjleadWDR = subleadnbjleadW.i0.p4.delta_r(subleadnbjleadW.i1.p4)\n",
    "        subleadnbjleadWDPhi = abs(subleadnbjleadW.i0.p4.delta_phi(subleadnbjleadW.i1.p4))\n",
    "        \n",
    "        \n",
    "        #match phi\n",
    "        dphi_leadj_met = abs((leadjet.phi - metphi + np.pi) % (2 * np.pi) - np.pi)\n",
    "        dphi_leadbj_met = abs((leadbjet.phi - metphi + np.pi) % (2 * np.pi) - np.pi)\n",
    "        dphi_leadnbj_met = abs((leadnbjet.phi - metphi + np.pi) % (2 * np.pi) - np.pi)\n",
    "        \n",
    "        dphi_subleadj_met = abs((subleadjet.phi - metphi + np.pi) % (2 * np.pi) - np.pi)\n",
    "        dphi_subleadbj_met = abs((subleadbjet.phi - metphi + np.pi) % (2 * np.pi) - np.pi)\n",
    "        dphi_subleadnbj_met = abs((subleadnbjet.phi - metphi + np.pi) % (2 * np.pi) - np.pi)\n",
    "        \n",
    "        dphi_h_met = abs((leadhtag.phi - metphi + np.pi) % (2 * np.pi) - np.pi)\n",
    "        dphi_w_met = abs((leadwmctag.phi - metphi + np.pi) % (2 * np.pi) - np.pi)\n",
    "        \n",
    "        \n",
    "        #MT      \n",
    "        \n",
    "        dphi_leadbs_met = abs((leadbjets.phi - metphi + np.pi) % (2 * np.pi) - np.pi)\n",
    "        mt_b_met = np.sqrt(2*leadbjets.pt*metpt*(1-np.cos(dphi_leadbs_met)))\n",
    "\n",
    "        \n",
    "        sorted_min_mt_b_met = mt_b_met.argsort(ascending=True)\n",
    "        sorted_max_mt_b_met = mt_b_met.argsort(ascending=False)\n",
    "        min_mt_b_met = mt_b_met[sorted_min_mt_b_met == 0]\n",
    "        max_mt_b_met = mt_b_met[sorted_max_mt_b_met == 0]\n",
    "\n",
    "        \n",
    "        #leptons\n",
    "        \n",
    "        one_e_cut = (electrons.pt > 20) & (abs(electrons.eta) < 2.4) & (electrons.mini_iso < 0.2)\n",
    "        one_e = electrons[one_e_cut]\n",
    "        \n",
    "        one_m_cut = (muons.pt > 20) & (abs(muons.eta) < 2.4) & (muons.looseid) & (muons.mini_iso < 0.2)\n",
    "        one_m = muons[one_m_cut]\n",
    "        \n",
    "        one_t_cut = (taus.pt > 20) & (abs(taus.eta) < 2.4) & (taus.decaymode) & (taus.newid >= 8)\n",
    "        one_t = taus[one_t_cut]\n",
    "        \n",
    "        veto_it_cut = (isotracks.pt > 10) & (abs(isotracks.eta) < 2.4) & ((isotracks.rel_iso < (0.1*isotracks.pt)) | (isotracks.rel_iso < 6))\n",
    "        veto_it = isotracks[veto_it_cut]\n",
    "        \n",
    "    \n",
    "        #DPHI\n",
    "        dphi_met_leadjs = abs((leadjets.phi - metphi + np.pi) % (2 * np.pi) - np.pi)\n",
    "        sorted_dphi_met_leadjs = dphi_met_leadjs.argsort(ascending=True)\n",
    "        min_dphi_met_leadjs = dphi_met_leadjs[sorted_dphi_met_leadjs==0]\n",
    "        abs_min_dphi_met_leadjs = abs(min_dphi_met_leadjs)\n",
    "        \n",
    "        dphi_met_wmch = abs((leadWmcleadH.phi - metphi + np.pi) % (2 * np.pi) - np.pi)\n",
    "        sorted_dphi_met_wmch = dphi_met_wmch.argsort(ascending=True)\n",
    "        min_dphi_met_wmch = dphi_met_wmch[sorted_dphi_met_wmch==0]\n",
    "        abs_min_dphi_met_wmch = abs(min_dphi_met_wmch)\n",
    "        \n",
    "        dphi_met_wmdh = abs((leadWmdleadH.phi - metphi + np.pi) % (2 * np.pi) - np.pi)\n",
    "        sorted_dphi_met_wmdh = dphi_met_wmdh.argsort(ascending=True)\n",
    "        min_dphi_met_wmdh = dphi_met_wmdh[sorted_dphi_met_wmdh==0]\n",
    "        abs_min_dphi_met_wmdh = abs(min_dphi_met_wmdh)\n",
    "        \n",
    "        #softdrop mass\n",
    "        hsd_cut = (htagged.softdrop > 1)\n",
    "        hsd = htagged[hsd_cut]\n",
    "\n",
    "        #PRESELECTION\n",
    "        ht = goodjets.pt.sum()\n",
    "        \n",
    "        met_ps = (df['MET_pt']>250)\n",
    "        njet_ps = (goodjets.counts >= 2)\n",
    "        bjet_ps = (bjets.counts >= 2)\n",
    "        fatjet1_ps = (goodfatjets.counts >= 1)\n",
    "        fatjet2_ps = (goodfatjets.counts >= 2)\n",
    "        ht_ps = (ht > 300)\n",
    "        \n",
    "        presel = met_ps & njet_ps & bjet_ps  & ht_ps\n",
    "        h_sel =(htagged.counts > 0) \n",
    "        wmc_sel = (wtagged_mc.counts > 0) \n",
    "        l_sel = (one_e.counts + one_m.counts + one_t.counts == 1)\n",
    "        it_sel = (veto_it.counts == 0)\n",
    "        mt_sel = (min_mt_b_met > 200).any()\n",
    "        sd_sel = (hsd.count == 1)\n",
    "\n",
    "        \n",
    "        #cumulative preselection\n",
    "        \n",
    "        sel1 = l_sel\n",
    "        sel3 = l_sel & met_ps\n",
    "        sel4 = l_sel & met_ps & ht_ps\n",
    "        sel5 = l_sel & met_ps & ht_ps & njet_ps \n",
    "        sel6 = l_sel & met_ps & ht_ps & njet_ps & bjet_ps\n",
    "        sel7 = l_sel & met_ps & ht_ps & njet_ps & bjet_ps & mt_sel\n",
    "        sel8 = l_sel & met_ps & ht_ps & njet_ps & bjet_ps & mt_sel & fatjet1_ps\n",
    "        sel9 = l_sel & met_ps & ht_ps & njet_ps & bjet_ps & mt_sel  & fatjet2_ps\n",
    "        sel10 = l_sel & met_ps & ht_ps & njet_ps & bjet_ps & mt_sel & fatjet2_ps & h_sel \n",
    "        sel11 = l_sel & met_ps & ht_ps & njet_ps & bjet_ps & mt_sel & h_sel & wmc_sel & fatjet2_ps\n",
    "        sel12 = l_sel & met_ps & ht_ps & njet_ps & bjet_ps & mt_sel & h_sel & wmc_sel & fatjet2_ps & sd_sel\n",
    "\n",
    "        #DEFINE VARIABLES \n",
    "    \n",
    "    \n",
    "        wght = df['weight'][0] * 60\n",
    "\n",
    "        #FILL OUTPUTS\n",
    "        \n",
    "        dataset = df[\"dataset\"]\n",
    "        output['number j'].fill(dataset=dataset, multiplicity = njets[sel9].flatten(), weight = wght)\n",
    "        output['number b'].fill(dataset=dataset, multiplicity = numbjets[sel9].flatten(), weight = wght)\n",
    "        output['number fj'].fill(dataset=dataset, multiplicity = (fatjets.counts)[sel9].flatten(), weight = wght)\n",
    "        output['number h'].fill(dataset=dataset, multiplicity = (htagged.counts)[sel9].flatten(), weight = wght)\n",
    "        output['number w'].fill(dataset=dataset, multiplicity = (wtagged_mc.counts)[sel9].flatten(), weight = wght)\n",
    "        output['met'].fill(dataset=dataset, pt = metpt[sel9].flatten(), weight = wght)\n",
    "        output['h mass'].fill(dataset=dataset, mass = htagged.mass[sel9].flatten(), weight = wght)\n",
    "        output['number j data'].fill(dataset=dataset, multiplicity = njets[sel9].flatten(), weight = 1)\n",
    "        output['number b data'].fill(dataset=dataset, multiplicity = numbjets[sel9].flatten(), weight = 1)\n",
    "        output['number fj data'].fill(dataset=dataset, multiplicity = (fatjets.counts)[sel9].flatten(), weight = 1)\n",
    "        output['number h data'].fill(dataset=dataset, multiplicity = (htagged.counts)[sel9].flatten(), weight = 1)\n",
    "        output['number w data'].fill(dataset=dataset, multiplicity = (wtagged_mc.counts)[sel9].flatten(), weight = 1)\n",
    "        output['met data'].fill(dataset=dataset, pt = metpt[sel9].flatten(), weight = 1)\n",
    "        output['h mass data'].fill(dataset=dataset, mass = htagged.mass[sel9].flatten(), weight = 1)\n",
    "\n",
    "        #raw cutflow\n",
    "        \n",
    "        addRowToCutFlow(output, df, 'all', None)\n",
    "        addRowToCutFlow(output, df, '+ one lepton', sel1)\n",
    "        addRowToCutFlow(output, df, '+ met', sel3)\n",
    "        addRowToCutFlow(output, df, '+ ht', sel4)\n",
    "        addRowToCutFlow(output, df, '+ njet', sel5)\n",
    "        addRowToCutFlow(output, df, '+ bjet', sel6)\n",
    "        addRowToCutFlow(output, df, '+ min(mt(bs,met))', sel7)\n",
    "        addRowToCutFlow(output, df, '+ fatjet >=1 ', sel8)\n",
    "        addRowToCutFlow(output, df, '+ fatjet >=2 ', sel9)\n",
    "        #addRowToCutFlow(output, df, '+ h > 0', sel10)\n",
    "        #addRowToCutFlow(output, df, '+ w(MC) > 0', sel11)\n",
    "\n",
    "        return output\n",
    "    \n",
    "    def postprocess(self, accumulator):\n",
    "        return accumulator"
   ]
  },
  {
   "cell_type": "code",
   "execution_count": 41,
   "metadata": {},
   "outputs": [
    {
     "name": "stderr",
     "output_type": "stream",
     "text": [
      "/home/users/ewallace/CMSSW_10_2_9/src/tW_scattering/coffeaEnv/lib/python3.6/site-packages/uproot/source/cursor.py:73: DeprecationWarning: tostring() is deprecated. Use tobytes() instead.\n",
      "  return source.data(start, stop).tostring()\n"
     ]
    },
    {
     "data": {
      "application/vnd.jupyter.widget-view+json": {
       "model_id": "18c3d1c8755347f39720459c6a898828",
       "version_major": 2,
       "version_minor": 0
      },
      "text/html": [
       "<p>Failed to display Jupyter Widget of type <code>HBox</code>.</p>\n",
       "<p>\n",
       "  If you're reading this message in the Jupyter Notebook or JupyterLab Notebook, it may mean\n",
       "  that the widgets JavaScript is still loading. If this message persists, it\n",
       "  likely means that the widgets JavaScript library is either not installed or\n",
       "  not enabled. See the <a href=\"https://ipywidgets.readthedocs.io/en/stable/user_install.html\">Jupyter\n",
       "  Widgets Documentation</a> for setup instructions.\n",
       "</p>\n",
       "<p>\n",
       "  If you're reading this message in another frontend (for example, a static\n",
       "  rendering on GitHub or <a href=\"https://nbviewer.jupyter.org/\">NBViewer</a>),\n",
       "  it may mean that your frontend doesn't currently support widgets.\n",
       "</p>\n"
      ],
      "text/plain": [
       "HBox(children=(HTML(value='Processing'), FloatProgress(value=0.0, max=87.0), HTML(value='')))"
      ]
     },
     "metadata": {},
     "output_type": "display_data"
    },
    {
     "name": "stderr",
     "output_type": "stream",
     "text": [
      "/home/users/ewallace/CMSSW_10_2_9/src/tW_scattering/coffeaEnv/lib/python3.6/site-packages/uproot/source/cursor.py:73: DeprecationWarning: tostring() is deprecated. Use tobytes() instead.\n",
      "  return source.data(start, stop).tostring()\n",
      "/home/users/ewallace/CMSSW_10_2_9/src/tW_scattering/coffeaEnv/lib/python3.6/site-packages/uproot/source/cursor.py:73: DeprecationWarning: tostring() is deprecated. Use tobytes() instead.\n",
      "  return source.data(start, stop).tostring()\n",
      "/home/users/ewallace/CMSSW_10_2_9/src/tW_scattering/coffeaEnv/lib/python3.6/site-packages/uproot/source/cursor.py:73: DeprecationWarning: tostring() is deprecated. Use tobytes() instead.\n",
      "  return source.data(start, stop).tostring()\n",
      "/home/users/ewallace/CMSSW_10_2_9/src/tW_scattering/coffeaEnv/lib/python3.6/site-packages/uproot/source/cursor.py:73: DeprecationWarning: tostring() is deprecated. Use tobytes() instead.\n",
      "  return source.data(start, stop).tostring()\n",
      "/home/users/ewallace/CMSSW_10_2_9/src/tW_scattering/coffeaEnv/lib/python3.6/site-packages/uproot/source/cursor.py:73: DeprecationWarning: tostring() is deprecated. Use tobytes() instead.\n",
      "  return source.data(start, stop).tostring()\n",
      "/home/users/ewallace/CMSSW_10_2_9/src/tW_scattering/coffeaEnv/lib/python3.6/site-packages/uproot/source/cursor.py:73: DeprecationWarning: tostring() is deprecated. Use tobytes() instead.\n",
      "  return source.data(start, stop).tostring()\n",
      "/home/users/ewallace/CMSSW_10_2_9/src/tW_scattering/coffeaEnv/lib/python3.6/site-packages/uproot/source/cursor.py:73: DeprecationWarning: tostring() is deprecated. Use tobytes() instead.\n",
      "  return source.data(start, stop).tostring()\n",
      "/home/users/ewallace/CMSSW_10_2_9/src/tW_scattering/coffeaEnv/lib/python3.6/site-packages/uproot/source/cursor.py:73: DeprecationWarning: tostring() is deprecated. Use tobytes() instead.\n",
      "  return source.data(start, stop).tostring()\n",
      "/home/users/ewallace/CMSSW_10_2_9/src/tW_scattering/coffeaEnv/lib/python3.6/site-packages/uproot/source/cursor.py:73: DeprecationWarning: tostring() is deprecated. Use tobytes() instead.\n",
      "  return source.data(start, stop).tostring()\n",
      "/home/users/ewallace/CMSSW_10_2_9/src/tW_scattering/coffeaEnv/lib/python3.6/site-packages/uproot/source/cursor.py:73: DeprecationWarning: tostring() is deprecated. Use tobytes() instead.\n",
      "  return source.data(start, stop).tostring()\n",
      "/home/users/ewallace/CMSSW_10_2_9/src/tW_scattering/coffeaEnv/lib/python3.6/site-packages/uproot/source/cursor.py:73: DeprecationWarning: tostring() is deprecated. Use tobytes() instead.\n",
      "  return source.data(start, stop).tostring()\n",
      "/home/users/ewallace/CMSSW_10_2_9/src/tW_scattering/coffeaEnv/lib/python3.6/site-packages/uproot/source/cursor.py:73: DeprecationWarning: tostring() is deprecated. Use tobytes() instead.\n",
      "  return source.data(start, stop).tostring()\n",
      "/home/users/ewallace/CMSSW_10_2_9/src/tW_scattering/coffeaEnv/lib/python3.6/site-packages/uproot/source/cursor.py:73: DeprecationWarning: tostring() is deprecated. Use tobytes() instead.\n",
      "  return source.data(start, stop).tostring()\n",
      "/home/users/ewallace/CMSSW_10_2_9/src/tW_scattering/coffeaEnv/lib/python3.6/site-packages/uproot/source/cursor.py:73: DeprecationWarning: tostring() is deprecated. Use tobytes() instead.\n",
      "  return source.data(start, stop).tostring()\n",
      "/home/users/ewallace/CMSSW_10_2_9/src/tW_scattering/coffeaEnv/lib/python3.6/site-packages/uproot/source/cursor.py:73: DeprecationWarning: tostring() is deprecated. Use tobytes() instead.\n",
      "  return source.data(start, stop).tostring()\n",
      "/home/users/ewallace/CMSSW_10_2_9/src/tW_scattering/coffeaEnv/lib/python3.6/site-packages/uproot/source/cursor.py:73: DeprecationWarning: tostring() is deprecated. Use tobytes() instead.\n",
      "  return source.data(start, stop).tostring()\n",
      "/home/users/ewallace/CMSSW_10_2_9/src/tW_scattering/coffeaEnv/lib/python3.6/site-packages/uproot/source/cursor.py:73: DeprecationWarning: tostring() is deprecated. Use tobytes() instead.\n",
      "  return source.data(start, stop).tostring()\n",
      "/home/users/ewallace/CMSSW_10_2_9/src/tW_scattering/coffeaEnv/lib/python3.6/site-packages/uproot/source/cursor.py:73: DeprecationWarning: tostring() is deprecated. Use tobytes() instead.\n",
      "  return source.data(start, stop).tostring()\n",
      "/home/users/ewallace/CMSSW_10_2_9/src/tW_scattering/coffeaEnv/lib/python3.6/site-packages/uproot/source/cursor.py:73: DeprecationWarning: tostring() is deprecated. Use tobytes() instead.\n",
      "  return source.data(start, stop).tostring()\n",
      "/home/users/ewallace/CMSSW_10_2_9/src/tW_scattering/coffeaEnv/lib/python3.6/site-packages/uproot/source/cursor.py:73: DeprecationWarning: tostring() is deprecated. Use tobytes() instead.\n",
      "  return source.data(start, stop).tostring()\n",
      "/home/users/ewallace/CMSSW_10_2_9/src/tW_scattering/coffeaEnv/lib/python3.6/site-packages/uproot/source/cursor.py:73: DeprecationWarning: tostring() is deprecated. Use tobytes() instead.\n",
      "  return source.data(start, stop).tostring()\n",
      "/home/users/ewallace/CMSSW_10_2_9/src/tW_scattering/coffeaEnv/lib/python3.6/site-packages/uproot/source/cursor.py:73: DeprecationWarning: tostring() is deprecated. Use tobytes() instead.\n",
      "  return source.data(start, stop).tostring()\n",
      "/home/users/ewallace/CMSSW_10_2_9/src/tW_scattering/coffeaEnv/lib/python3.6/site-packages/uproot/source/cursor.py:73: DeprecationWarning: tostring() is deprecated. Use tobytes() instead.\n",
      "  return source.data(start, stop).tostring()\n"
     ]
    },
    {
     "name": "stdout",
     "output_type": "stream",
     "text": [
      "\n"
     ]
    },
    {
     "name": "stderr",
     "output_type": "stream",
     "text": [
      "/home/users/ewallace/CMSSW_10_2_9/src/tW_scattering/coffeaEnv/lib/python3.6/site-packages/uproot/source/cursor.py:73: DeprecationWarning: tostring() is deprecated. Use tobytes() instead.\n",
      "  return source.data(start, stop).tostring()\n",
      "/home/users/ewallace/CMSSW_10_2_9/src/tW_scattering/coffeaEnv/lib/python3.6/site-packages/uproot/source/cursor.py:73: DeprecationWarning: tostring() is deprecated. Use tobytes() instead.\n",
      "  return source.data(start, stop).tostring()\n"
     ]
    },
    {
     "data": {
      "application/vnd.jupyter.widget-view+json": {
       "model_id": "0251324365ae4b489f63466fa841284f",
       "version_major": 2,
       "version_minor": 0
      },
      "text/html": [
       "<p>Failed to display Jupyter Widget of type <code>HBox</code>.</p>\n",
       "<p>\n",
       "  If you're reading this message in the Jupyter Notebook or JupyterLab Notebook, it may mean\n",
       "  that the widgets JavaScript is still loading. If this message persists, it\n",
       "  likely means that the widgets JavaScript library is either not installed or\n",
       "  not enabled. See the <a href=\"https://ipywidgets.readthedocs.io/en/stable/user_install.html\">Jupyter\n",
       "  Widgets Documentation</a> for setup instructions.\n",
       "</p>\n",
       "<p>\n",
       "  If you're reading this message in another frontend (for example, a static\n",
       "  rendering on GitHub or <a href=\"https://nbviewer.jupyter.org/\">NBViewer</a>),\n",
       "  it may mean that your frontend doesn't currently support widgets.\n",
       "</p>\n"
      ],
      "text/plain": [
       "HBox(children=(HTML(value='Processing'), FloatProgress(value=0.0, max=40.0), HTML(value='')))"
      ]
     },
     "metadata": {},
     "output_type": "display_data"
    },
    {
     "name": "stderr",
     "output_type": "stream",
     "text": [
      "/home/users/ewallace/CMSSW_10_2_9/src/tW_scattering/coffeaEnv/lib/python3.6/site-packages/uproot/source/cursor.py:73: DeprecationWarning: tostring() is deprecated. Use tobytes() instead.\n",
      "  return source.data(start, stop).tostring()\n",
      "/home/users/ewallace/CMSSW_10_2_9/src/tW_scattering/coffeaEnv/lib/python3.6/site-packages/uproot/source/cursor.py:73: DeprecationWarning: tostring() is deprecated. Use tobytes() instead.\n",
      "  return source.data(start, stop).tostring()\n",
      "/home/users/ewallace/CMSSW_10_2_9/src/tW_scattering/coffeaEnv/lib/python3.6/site-packages/uproot/source/cursor.py:73: DeprecationWarning: tostring() is deprecated. Use tobytes() instead.\n",
      "  return source.data(start, stop).tostring()\n",
      "/home/users/ewallace/CMSSW_10_2_9/src/tW_scattering/coffeaEnv/lib/python3.6/site-packages/uproot/source/cursor.py:73: DeprecationWarning: tostring() is deprecated. Use tobytes() instead.\n",
      "  return source.data(start, stop).tostring()\n",
      "/home/users/ewallace/CMSSW_10_2_9/src/tW_scattering/coffeaEnv/lib/python3.6/site-packages/uproot/source/cursor.py:73: DeprecationWarning: tostring() is deprecated. Use tobytes() instead.\n",
      "  return source.data(start, stop).tostring()\n",
      "/home/users/ewallace/CMSSW_10_2_9/src/tW_scattering/coffeaEnv/lib/python3.6/site-packages/uproot/source/cursor.py:73: DeprecationWarning: tostring() is deprecated. Use tobytes() instead.\n",
      "  return source.data(start, stop).tostring()\n",
      "/home/users/ewallace/CMSSW_10_2_9/src/tW_scattering/coffeaEnv/lib/python3.6/site-packages/uproot/source/cursor.py:73: DeprecationWarning: tostring() is deprecated. Use tobytes() instead.\n",
      "  return source.data(start, stop).tostring()\n",
      "/home/users/ewallace/CMSSW_10_2_9/src/tW_scattering/coffeaEnv/lib/python3.6/site-packages/uproot/source/cursor.py:73: DeprecationWarning: tostring() is deprecated. Use tobytes() instead.\n",
      "  return source.data(start, stop).tostring()\n",
      "/home/users/ewallace/CMSSW_10_2_9/src/tW_scattering/coffeaEnv/lib/python3.6/site-packages/uproot/source/cursor.py:73: DeprecationWarning: tostring() is deprecated. Use tobytes() instead.\n",
      "  return source.data(start, stop).tostring()\n",
      "/home/users/ewallace/CMSSW_10_2_9/src/tW_scattering/coffeaEnv/lib/python3.6/site-packages/uproot/source/cursor.py:73: DeprecationWarning: tostring() is deprecated. Use tobytes() instead.\n",
      "  return source.data(start, stop).tostring()\n",
      "/home/users/ewallace/CMSSW_10_2_9/src/tW_scattering/coffeaEnv/lib/python3.6/site-packages/uproot/source/cursor.py:73: DeprecationWarning: tostring() is deprecated. Use tobytes() instead.\n",
      "  return source.data(start, stop).tostring()\n",
      "/home/users/ewallace/CMSSW_10_2_9/src/tW_scattering/coffeaEnv/lib/python3.6/site-packages/uproot/source/cursor.py:73: DeprecationWarning: tostring() is deprecated. Use tobytes() instead.\n",
      "  return source.data(start, stop).tostring()\n",
      "/home/users/ewallace/CMSSW_10_2_9/src/tW_scattering/coffeaEnv/lib/python3.6/site-packages/uproot/source/cursor.py:73: DeprecationWarning: tostring() is deprecated. Use tobytes() instead.\n",
      "  return source.data(start, stop).tostring()\n",
      "/home/users/ewallace/CMSSW_10_2_9/src/tW_scattering/coffeaEnv/lib/python3.6/site-packages/uproot/source/cursor.py:73: DeprecationWarning: tostring() is deprecated. Use tobytes() instead.\n",
      "  return source.data(start, stop).tostring()\n",
      "/home/users/ewallace/CMSSW_10_2_9/src/tW_scattering/coffeaEnv/lib/python3.6/site-packages/uproot/source/cursor.py:73: DeprecationWarning: tostring() is deprecated. Use tobytes() instead.\n",
      "  return source.data(start, stop).tostring()\n",
      "/home/users/ewallace/CMSSW_10_2_9/src/tW_scattering/coffeaEnv/lib/python3.6/site-packages/uproot/source/cursor.py:73: DeprecationWarning: tostring() is deprecated. Use tobytes() instead.\n",
      "  return source.data(start, stop).tostring()\n",
      "/home/users/ewallace/CMSSW_10_2_9/src/tW_scattering/coffeaEnv/lib/python3.6/site-packages/uproot/source/cursor.py:73: DeprecationWarning: tostring() is deprecated. Use tobytes() instead.\n",
      "  return source.data(start, stop).tostring()\n",
      "/home/users/ewallace/CMSSW_10_2_9/src/tW_scattering/coffeaEnv/lib/python3.6/site-packages/uproot/source/cursor.py:73: DeprecationWarning: tostring() is deprecated. Use tobytes() instead.\n",
      "  return source.data(start, stop).tostring()\n",
      "/home/users/ewallace/CMSSW_10_2_9/src/tW_scattering/coffeaEnv/lib/python3.6/site-packages/uproot/source/cursor.py:73: DeprecationWarning: tostring() is deprecated. Use tobytes() instead.\n",
      "  return source.data(start, stop).tostring()\n",
      "/home/users/ewallace/CMSSW_10_2_9/src/tW_scattering/coffeaEnv/lib/python3.6/site-packages/uproot/source/cursor.py:73: DeprecationWarning: tostring() is deprecated. Use tobytes() instead.\n",
      "  return source.data(start, stop).tostring()\n",
      "/home/users/ewallace/CMSSW_10_2_9/src/tW_scattering/coffeaEnv/lib/python3.6/site-packages/uproot/source/cursor.py:73: DeprecationWarning: tostring() is deprecated. Use tobytes() instead.\n",
      "  return source.data(start, stop).tostring()\n",
      "/home/users/ewallace/CMSSW_10_2_9/src/tW_scattering/coffeaEnv/lib/python3.6/site-packages/uproot/source/cursor.py:73: DeprecationWarning: tostring() is deprecated. Use tobytes() instead.\n",
      "  return source.data(start, stop).tostring()\n"
     ]
    },
    {
     "name": "stdout",
     "output_type": "stream",
     "text": [
      "\n"
     ]
    },
    {
     "name": "stderr",
     "output_type": "stream",
     "text": [
      "/home/users/ewallace/CMSSW_10_2_9/src/tW_scattering/coffeaEnv/lib/python3.6/site-packages/uproot/source/cursor.py:73: DeprecationWarning: tostring() is deprecated. Use tobytes() instead.\n",
      "  return source.data(start, stop).tostring()\n",
      "/home/users/ewallace/CMSSW_10_2_9/src/tW_scattering/coffeaEnv/lib/python3.6/site-packages/uproot/source/cursor.py:73: DeprecationWarning: tostring() is deprecated. Use tobytes() instead.\n",
      "  return source.data(start, stop).tostring()\n",
      "/home/users/ewallace/CMSSW_10_2_9/src/tW_scattering/coffeaEnv/lib/python3.6/site-packages/uproot/source/cursor.py:73: DeprecationWarning: tostring() is deprecated. Use tobytes() instead.\n",
      "  return source.data(start, stop).tostring()\n",
      "/home/users/ewallace/CMSSW_10_2_9/src/tW_scattering/coffeaEnv/lib/python3.6/site-packages/uproot/source/cursor.py:73: DeprecationWarning: tostring() is deprecated. Use tobytes() instead.\n",
      "  return source.data(start, stop).tostring()\n"
     ]
    },
    {
     "data": {
      "application/vnd.jupyter.widget-view+json": {
       "model_id": "8fde4db6ae5749ba8f56383fa8209500",
       "version_major": 2,
       "version_minor": 0
      },
      "text/html": [
       "<p>Failed to display Jupyter Widget of type <code>HBox</code>.</p>\n",
       "<p>\n",
       "  If you're reading this message in the Jupyter Notebook or JupyterLab Notebook, it may mean\n",
       "  that the widgets JavaScript is still loading. If this message persists, it\n",
       "  likely means that the widgets JavaScript library is either not installed or\n",
       "  not enabled. See the <a href=\"https://ipywidgets.readthedocs.io/en/stable/user_install.html\">Jupyter\n",
       "  Widgets Documentation</a> for setup instructions.\n",
       "</p>\n",
       "<p>\n",
       "  If you're reading this message in another frontend (for example, a static\n",
       "  rendering on GitHub or <a href=\"https://nbviewer.jupyter.org/\">NBViewer</a>),\n",
       "  it may mean that your frontend doesn't currently support widgets.\n",
       "</p>\n"
      ],
      "text/plain": [
       "HBox(children=(HTML(value='Processing'), FloatProgress(value=0.0, max=68.0), HTML(value='')))"
      ]
     },
     "metadata": {},
     "output_type": "display_data"
    },
    {
     "name": "stderr",
     "output_type": "stream",
     "text": [
      "/home/users/ewallace/CMSSW_10_2_9/src/tW_scattering/coffeaEnv/lib/python3.6/site-packages/uproot/source/cursor.py:73: DeprecationWarning: tostring() is deprecated. Use tobytes() instead.\n",
      "  return source.data(start, stop).tostring()\n",
      "/home/users/ewallace/CMSSW_10_2_9/src/tW_scattering/coffeaEnv/lib/python3.6/site-packages/uproot/source/cursor.py:73: DeprecationWarning: tostring() is deprecated. Use tobytes() instead.\n",
      "  return source.data(start, stop).tostring()\n",
      "/home/users/ewallace/CMSSW_10_2_9/src/tW_scattering/coffeaEnv/lib/python3.6/site-packages/uproot/source/cursor.py:73: DeprecationWarning: tostring() is deprecated. Use tobytes() instead.\n",
      "  return source.data(start, stop).tostring()\n",
      "/home/users/ewallace/CMSSW_10_2_9/src/tW_scattering/coffeaEnv/lib/python3.6/site-packages/uproot/source/cursor.py:73: DeprecationWarning: tostring() is deprecated. Use tobytes() instead.\n",
      "  return source.data(start, stop).tostring()\n",
      "/home/users/ewallace/CMSSW_10_2_9/src/tW_scattering/coffeaEnv/lib/python3.6/site-packages/uproot/source/cursor.py:73: DeprecationWarning: tostring() is deprecated. Use tobytes() instead.\n",
      "  return source.data(start, stop).tostring()\n",
      "/home/users/ewallace/CMSSW_10_2_9/src/tW_scattering/coffeaEnv/lib/python3.6/site-packages/uproot/source/cursor.py:73: DeprecationWarning: tostring() is deprecated. Use tobytes() instead.\n",
      "  return source.data(start, stop).tostring()\n",
      "/home/users/ewallace/CMSSW_10_2_9/src/tW_scattering/coffeaEnv/lib/python3.6/site-packages/uproot/source/cursor.py:73: DeprecationWarning: tostring() is deprecated. Use tobytes() instead.\n",
      "  return source.data(start, stop).tostring()\n",
      "/home/users/ewallace/CMSSW_10_2_9/src/tW_scattering/coffeaEnv/lib/python3.6/site-packages/uproot/source/cursor.py:73: DeprecationWarning: tostring() is deprecated. Use tobytes() instead.\n",
      "  return source.data(start, stop).tostring()\n",
      "/home/users/ewallace/CMSSW_10_2_9/src/tW_scattering/coffeaEnv/lib/python3.6/site-packages/uproot/source/cursor.py:73: DeprecationWarning: tostring() is deprecated. Use tobytes() instead.\n",
      "  return source.data(start, stop).tostring()\n",
      "/home/users/ewallace/CMSSW_10_2_9/src/tW_scattering/coffeaEnv/lib/python3.6/site-packages/uproot/source/cursor.py:73: DeprecationWarning: tostring() is deprecated. Use tobytes() instead.\n",
      "  return source.data(start, stop).tostring()\n",
      "/home/users/ewallace/CMSSW_10_2_9/src/tW_scattering/coffeaEnv/lib/python3.6/site-packages/uproot/source/cursor.py:73: DeprecationWarning: tostring() is deprecated. Use tobytes() instead.\n",
      "  return source.data(start, stop).tostring()\n",
      "/home/users/ewallace/CMSSW_10_2_9/src/tW_scattering/coffeaEnv/lib/python3.6/site-packages/uproot/source/cursor.py:73: DeprecationWarning: tostring() is deprecated. Use tobytes() instead.\n",
      "  return source.data(start, stop).tostring()\n",
      "/home/users/ewallace/CMSSW_10_2_9/src/tW_scattering/coffeaEnv/lib/python3.6/site-packages/uproot/source/cursor.py:73: DeprecationWarning: tostring() is deprecated. Use tobytes() instead.\n",
      "  return source.data(start, stop).tostring()\n",
      "/home/users/ewallace/CMSSW_10_2_9/src/tW_scattering/coffeaEnv/lib/python3.6/site-packages/uproot/source/cursor.py:73: DeprecationWarning: tostring() is deprecated. Use tobytes() instead.\n",
      "  return source.data(start, stop).tostring()\n",
      "/home/users/ewallace/CMSSW_10_2_9/src/tW_scattering/coffeaEnv/lib/python3.6/site-packages/uproot/source/cursor.py:73: DeprecationWarning: tostring() is deprecated. Use tobytes() instead.\n",
      "  return source.data(start, stop).tostring()\n",
      "/home/users/ewallace/CMSSW_10_2_9/src/tW_scattering/coffeaEnv/lib/python3.6/site-packages/uproot/source/cursor.py:73: DeprecationWarning: tostring() is deprecated. Use tobytes() instead.\n",
      "  return source.data(start, stop).tostring()\n",
      "/home/users/ewallace/CMSSW_10_2_9/src/tW_scattering/coffeaEnv/lib/python3.6/site-packages/uproot/source/cursor.py:73: DeprecationWarning: tostring() is deprecated. Use tobytes() instead.\n",
      "  return source.data(start, stop).tostring()\n",
      "/home/users/ewallace/CMSSW_10_2_9/src/tW_scattering/coffeaEnv/lib/python3.6/site-packages/uproot/source/cursor.py:73: DeprecationWarning: tostring() is deprecated. Use tobytes() instead.\n",
      "  return source.data(start, stop).tostring()\n",
      "/home/users/ewallace/CMSSW_10_2_9/src/tW_scattering/coffeaEnv/lib/python3.6/site-packages/uproot/source/cursor.py:73: DeprecationWarning: tostring() is deprecated. Use tobytes() instead.\n",
      "  return source.data(start, stop).tostring()\n",
      "/home/users/ewallace/CMSSW_10_2_9/src/tW_scattering/coffeaEnv/lib/python3.6/site-packages/uproot/source/cursor.py:73: DeprecationWarning: tostring() is deprecated. Use tobytes() instead.\n",
      "  return source.data(start, stop).tostring()\n"
     ]
    },
    {
     "name": "stdout",
     "output_type": "stream",
     "text": [
      "\n"
     ]
    },
    {
     "data": {
      "application/vnd.jupyter.widget-view+json": {
       "model_id": "1f17ba8c46d24e24ac1f98c16c01b481",
       "version_major": 2,
       "version_minor": 0
      },
      "text/html": [
       "<p>Failed to display Jupyter Widget of type <code>HBox</code>.</p>\n",
       "<p>\n",
       "  If you're reading this message in the Jupyter Notebook or JupyterLab Notebook, it may mean\n",
       "  that the widgets JavaScript is still loading. If this message persists, it\n",
       "  likely means that the widgets JavaScript library is either not installed or\n",
       "  not enabled. See the <a href=\"https://ipywidgets.readthedocs.io/en/stable/user_install.html\">Jupyter\n",
       "  Widgets Documentation</a> for setup instructions.\n",
       "</p>\n",
       "<p>\n",
       "  If you're reading this message in another frontend (for example, a static\n",
       "  rendering on GitHub or <a href=\"https://nbviewer.jupyter.org/\">NBViewer</a>),\n",
       "  it may mean that your frontend doesn't currently support widgets.\n",
       "</p>\n"
      ],
      "text/plain": [
       "HBox(children=(HTML(value='Processing'), FloatProgress(value=0.0, max=72.0), HTML(value='')))"
      ]
     },
     "metadata": {},
     "output_type": "display_data"
    },
    {
     "name": "stderr",
     "output_type": "stream",
     "text": [
      "/home/users/ewallace/CMSSW_10_2_9/src/tW_scattering/coffeaEnv/lib/python3.6/site-packages/uproot/source/cursor.py:73: DeprecationWarning: tostring() is deprecated. Use tobytes() instead.\n",
      "  return source.data(start, stop).tostring()\n",
      "/home/users/ewallace/CMSSW_10_2_9/src/tW_scattering/coffeaEnv/lib/python3.6/site-packages/uproot/source/cursor.py:73: DeprecationWarning: tostring() is deprecated. Use tobytes() instead.\n",
      "  return source.data(start, stop).tostring()\n",
      "/home/users/ewallace/CMSSW_10_2_9/src/tW_scattering/coffeaEnv/lib/python3.6/site-packages/uproot/source/cursor.py:73: DeprecationWarning: tostring() is deprecated. Use tobytes() instead.\n",
      "  return source.data(start, stop).tostring()\n",
      "/home/users/ewallace/CMSSW_10_2_9/src/tW_scattering/coffeaEnv/lib/python3.6/site-packages/uproot/source/cursor.py:73: DeprecationWarning: tostring() is deprecated. Use tobytes() instead.\n",
      "  return source.data(start, stop).tostring()\n",
      "/home/users/ewallace/CMSSW_10_2_9/src/tW_scattering/coffeaEnv/lib/python3.6/site-packages/uproot/source/cursor.py:73: DeprecationWarning: tostring() is deprecated. Use tobytes() instead.\n",
      "  return source.data(start, stop).tostring()\n",
      "/home/users/ewallace/CMSSW_10_2_9/src/tW_scattering/coffeaEnv/lib/python3.6/site-packages/uproot/source/cursor.py:73: DeprecationWarning: tostring() is deprecated. Use tobytes() instead.\n",
      "  return source.data(start, stop).tostring()\n",
      "/home/users/ewallace/CMSSW_10_2_9/src/tW_scattering/coffeaEnv/lib/python3.6/site-packages/uproot/source/cursor.py:73: DeprecationWarning: tostring() is deprecated. Use tobytes() instead.\n",
      "  return source.data(start, stop).tostring()\n",
      "/home/users/ewallace/CMSSW_10_2_9/src/tW_scattering/coffeaEnv/lib/python3.6/site-packages/uproot/source/cursor.py:73: DeprecationWarning: tostring() is deprecated. Use tobytes() instead.\n",
      "  return source.data(start, stop).tostring()\n",
      "/home/users/ewallace/CMSSW_10_2_9/src/tW_scattering/coffeaEnv/lib/python3.6/site-packages/uproot/source/cursor.py:73: DeprecationWarning: tostring() is deprecated. Use tobytes() instead.\n",
      "  return source.data(start, stop).tostring()\n",
      "/home/users/ewallace/CMSSW_10_2_9/src/tW_scattering/coffeaEnv/lib/python3.6/site-packages/uproot/source/cursor.py:73: DeprecationWarning: tostring() is deprecated. Use tobytes() instead.\n",
      "  return source.data(start, stop).tostring()\n",
      "/home/users/ewallace/CMSSW_10_2_9/src/tW_scattering/coffeaEnv/lib/python3.6/site-packages/uproot/source/cursor.py:73: DeprecationWarning: tostring() is deprecated. Use tobytes() instead.\n",
      "  return source.data(start, stop).tostring()\n",
      "/home/users/ewallace/CMSSW_10_2_9/src/tW_scattering/coffeaEnv/lib/python3.6/site-packages/uproot/source/cursor.py:73: DeprecationWarning: tostring() is deprecated. Use tobytes() instead.\n",
      "  return source.data(start, stop).tostring()\n",
      "/home/users/ewallace/CMSSW_10_2_9/src/tW_scattering/coffeaEnv/lib/python3.6/site-packages/uproot/source/cursor.py:73: DeprecationWarning: tostring() is deprecated. Use tobytes() instead.\n",
      "  return source.data(start, stop).tostring()\n",
      "/home/users/ewallace/CMSSW_10_2_9/src/tW_scattering/coffeaEnv/lib/python3.6/site-packages/uproot/source/cursor.py:73: DeprecationWarning: tostring() is deprecated. Use tobytes() instead.\n",
      "  return source.data(start, stop).tostring()\n",
      "/home/users/ewallace/CMSSW_10_2_9/src/tW_scattering/coffeaEnv/lib/python3.6/site-packages/uproot/source/cursor.py:73: DeprecationWarning: tostring() is deprecated. Use tobytes() instead.\n",
      "  return source.data(start, stop).tostring()\n",
      "/home/users/ewallace/CMSSW_10_2_9/src/tW_scattering/coffeaEnv/lib/python3.6/site-packages/uproot/source/cursor.py:73: DeprecationWarning: tostring() is deprecated. Use tobytes() instead.\n",
      "  return source.data(start, stop).tostring()\n",
      "/home/users/ewallace/CMSSW_10_2_9/src/tW_scattering/coffeaEnv/lib/python3.6/site-packages/uproot/source/cursor.py:73: DeprecationWarning: tostring() is deprecated. Use tobytes() instead.\n",
      "  return source.data(start, stop).tostring()\n",
      "/home/users/ewallace/CMSSW_10_2_9/src/tW_scattering/coffeaEnv/lib/python3.6/site-packages/uproot/source/cursor.py:73: DeprecationWarning: tostring() is deprecated. Use tobytes() instead.\n",
      "  return source.data(start, stop).tostring()\n",
      "/home/users/ewallace/CMSSW_10_2_9/src/tW_scattering/coffeaEnv/lib/python3.6/site-packages/uproot/source/cursor.py:73: DeprecationWarning: tostring() is deprecated. Use tobytes() instead.\n",
      "  return source.data(start, stop).tostring()\n",
      "/home/users/ewallace/CMSSW_10_2_9/src/tW_scattering/coffeaEnv/lib/python3.6/site-packages/uproot/source/cursor.py:73: DeprecationWarning: tostring() is deprecated. Use tobytes() instead.\n",
      "  return source.data(start, stop).tostring()\n",
      "/home/users/ewallace/CMSSW_10_2_9/src/tW_scattering/coffeaEnv/lib/python3.6/site-packages/uproot/source/cursor.py:73: DeprecationWarning: tostring() is deprecated. Use tobytes() instead.\n",
      "  return source.data(start, stop).tostring()\n",
      "/home/users/ewallace/CMSSW_10_2_9/src/tW_scattering/coffeaEnv/lib/python3.6/site-packages/uproot/source/cursor.py:73: DeprecationWarning: tostring() is deprecated. Use tobytes() instead.\n",
      "  return source.data(start, stop).tostring()\n",
      "/home/users/ewallace/CMSSW_10_2_9/src/tW_scattering/coffeaEnv/lib/python3.6/site-packages/uproot/source/cursor.py:73: DeprecationWarning: tostring() is deprecated. Use tobytes() instead.\n",
      "  return source.data(start, stop).tostring()\n",
      "/home/users/ewallace/CMSSW_10_2_9/src/tW_scattering/coffeaEnv/lib/python3.6/site-packages/uproot/source/cursor.py:73: DeprecationWarning: tostring() is deprecated. Use tobytes() instead.\n",
      "  return source.data(start, stop).tostring()\n"
     ]
    },
    {
     "name": "stdout",
     "output_type": "stream",
     "text": [
      "\n"
     ]
    },
    {
     "name": "stderr",
     "output_type": "stream",
     "text": [
      "/home/users/ewallace/CMSSW_10_2_9/src/tW_scattering/coffeaEnv/lib/python3.6/site-packages/uproot/source/cursor.py:73: DeprecationWarning: tostring() is deprecated. Use tobytes() instead.\n",
      "  return source.data(start, stop).tostring()\n",
      "/home/users/ewallace/CMSSW_10_2_9/src/tW_scattering/coffeaEnv/lib/python3.6/site-packages/uproot/source/cursor.py:73: DeprecationWarning: tostring() is deprecated. Use tobytes() instead.\n",
      "  return source.data(start, stop).tostring()\n"
     ]
    },
    {
     "data": {
      "application/vnd.jupyter.widget-view+json": {
       "model_id": "f4fb1739859b448083f95ff094783c6d",
       "version_major": 2,
       "version_minor": 0
      },
      "text/html": [
       "<p>Failed to display Jupyter Widget of type <code>HBox</code>.</p>\n",
       "<p>\n",
       "  If you're reading this message in the Jupyter Notebook or JupyterLab Notebook, it may mean\n",
       "  that the widgets JavaScript is still loading. If this message persists, it\n",
       "  likely means that the widgets JavaScript library is either not installed or\n",
       "  not enabled. See the <a href=\"https://ipywidgets.readthedocs.io/en/stable/user_install.html\">Jupyter\n",
       "  Widgets Documentation</a> for setup instructions.\n",
       "</p>\n",
       "<p>\n",
       "  If you're reading this message in another frontend (for example, a static\n",
       "  rendering on GitHub or <a href=\"https://nbviewer.jupyter.org/\">NBViewer</a>),\n",
       "  it may mean that your frontend doesn't currently support widgets.\n",
       "</p>\n"
      ],
      "text/plain": [
       "HBox(children=(HTML(value='Processing'), FloatProgress(value=0.0, max=54.0), HTML(value='')))"
      ]
     },
     "metadata": {},
     "output_type": "display_data"
    },
    {
     "name": "stderr",
     "output_type": "stream",
     "text": [
      "/home/users/ewallace/CMSSW_10_2_9/src/tW_scattering/coffeaEnv/lib/python3.6/site-packages/uproot/source/cursor.py:73: DeprecationWarning: tostring() is deprecated. Use tobytes() instead.\n",
      "  return source.data(start, stop).tostring()\n",
      "/home/users/ewallace/CMSSW_10_2_9/src/tW_scattering/coffeaEnv/lib/python3.6/site-packages/uproot/source/cursor.py:73: DeprecationWarning: tostring() is deprecated. Use tobytes() instead.\n",
      "  return source.data(start, stop).tostring()\n",
      "/home/users/ewallace/CMSSW_10_2_9/src/tW_scattering/coffeaEnv/lib/python3.6/site-packages/uproot/source/cursor.py:73: DeprecationWarning: tostring() is deprecated. Use tobytes() instead.\n",
      "  return source.data(start, stop).tostring()\n",
      "/home/users/ewallace/CMSSW_10_2_9/src/tW_scattering/coffeaEnv/lib/python3.6/site-packages/uproot/source/cursor.py:73: DeprecationWarning: tostring() is deprecated. Use tobytes() instead.\n",
      "  return source.data(start, stop).tostring()\n",
      "/home/users/ewallace/CMSSW_10_2_9/src/tW_scattering/coffeaEnv/lib/python3.6/site-packages/uproot/source/cursor.py:73: DeprecationWarning: tostring() is deprecated. Use tobytes() instead.\n",
      "  return source.data(start, stop).tostring()\n",
      "/home/users/ewallace/CMSSW_10_2_9/src/tW_scattering/coffeaEnv/lib/python3.6/site-packages/uproot/source/cursor.py:73: DeprecationWarning: tostring() is deprecated. Use tobytes() instead.\n",
      "  return source.data(start, stop).tostring()\n",
      "/home/users/ewallace/CMSSW_10_2_9/src/tW_scattering/coffeaEnv/lib/python3.6/site-packages/uproot/source/cursor.py:73: DeprecationWarning: tostring() is deprecated. Use tobytes() instead.\n",
      "  return source.data(start, stop).tostring()\n",
      "/home/users/ewallace/CMSSW_10_2_9/src/tW_scattering/coffeaEnv/lib/python3.6/site-packages/uproot/source/cursor.py:73: DeprecationWarning: tostring() is deprecated. Use tobytes() instead.\n",
      "  return source.data(start, stop).tostring()\n",
      "/home/users/ewallace/CMSSW_10_2_9/src/tW_scattering/coffeaEnv/lib/python3.6/site-packages/uproot/source/cursor.py:73: DeprecationWarning: tostring() is deprecated. Use tobytes() instead.\n",
      "  return source.data(start, stop).tostring()\n",
      "/home/users/ewallace/CMSSW_10_2_9/src/tW_scattering/coffeaEnv/lib/python3.6/site-packages/uproot/source/cursor.py:73: DeprecationWarning: tostring() is deprecated. Use tobytes() instead.\n",
      "  return source.data(start, stop).tostring()\n",
      "/home/users/ewallace/CMSSW_10_2_9/src/tW_scattering/coffeaEnv/lib/python3.6/site-packages/uproot/source/cursor.py:73: DeprecationWarning: tostring() is deprecated. Use tobytes() instead.\n",
      "  return source.data(start, stop).tostring()\n",
      "/home/users/ewallace/CMSSW_10_2_9/src/tW_scattering/coffeaEnv/lib/python3.6/site-packages/uproot/source/cursor.py:73: DeprecationWarning: tostring() is deprecated. Use tobytes() instead.\n",
      "  return source.data(start, stop).tostring()\n",
      "/home/users/ewallace/CMSSW_10_2_9/src/tW_scattering/coffeaEnv/lib/python3.6/site-packages/uproot/source/cursor.py:73: DeprecationWarning: tostring() is deprecated. Use tobytes() instead.\n",
      "  return source.data(start, stop).tostring()\n",
      "/home/users/ewallace/CMSSW_10_2_9/src/tW_scattering/coffeaEnv/lib/python3.6/site-packages/uproot/source/cursor.py:73: DeprecationWarning: tostring() is deprecated. Use tobytes() instead.\n",
      "  return source.data(start, stop).tostring()\n",
      "/home/users/ewallace/CMSSW_10_2_9/src/tW_scattering/coffeaEnv/lib/python3.6/site-packages/uproot/source/cursor.py:73: DeprecationWarning: tostring() is deprecated. Use tobytes() instead.\n",
      "  return source.data(start, stop).tostring()\n",
      "/home/users/ewallace/CMSSW_10_2_9/src/tW_scattering/coffeaEnv/lib/python3.6/site-packages/uproot/source/cursor.py:73: DeprecationWarning: tostring() is deprecated. Use tobytes() instead.\n",
      "  return source.data(start, stop).tostring()\n",
      "/home/users/ewallace/CMSSW_10_2_9/src/tW_scattering/coffeaEnv/lib/python3.6/site-packages/uproot/source/cursor.py:73: DeprecationWarning: tostring() is deprecated. Use tobytes() instead.\n",
      "  return source.data(start, stop).tostring()\n",
      "/home/users/ewallace/CMSSW_10_2_9/src/tW_scattering/coffeaEnv/lib/python3.6/site-packages/uproot/source/cursor.py:73: DeprecationWarning: tostring() is deprecated. Use tobytes() instead.\n",
      "  return source.data(start, stop).tostring()\n",
      "/home/users/ewallace/CMSSW_10_2_9/src/tW_scattering/coffeaEnv/lib/python3.6/site-packages/uproot/source/cursor.py:73: DeprecationWarning: tostring() is deprecated. Use tobytes() instead.\n",
      "  return source.data(start, stop).tostring()\n",
      "/home/users/ewallace/CMSSW_10_2_9/src/tW_scattering/coffeaEnv/lib/python3.6/site-packages/uproot/source/cursor.py:73: DeprecationWarning: tostring() is deprecated. Use tobytes() instead.\n",
      "  return source.data(start, stop).tostring()\n",
      "/home/users/ewallace/CMSSW_10_2_9/src/tW_scattering/coffeaEnv/lib/python3.6/site-packages/uproot/source/cursor.py:73: DeprecationWarning: tostring() is deprecated. Use tobytes() instead.\n",
      "  return source.data(start, stop).tostring()\n",
      "/home/users/ewallace/CMSSW_10_2_9/src/tW_scattering/coffeaEnv/lib/python3.6/site-packages/uproot/source/cursor.py:73: DeprecationWarning: tostring() is deprecated. Use tobytes() instead.\n",
      "  return source.data(start, stop).tostring()\n"
     ]
    },
    {
     "name": "stdout",
     "output_type": "stream",
     "text": [
      "\n"
     ]
    },
    {
     "name": "stderr",
     "output_type": "stream",
     "text": [
      "/home/users/ewallace/CMSSW_10_2_9/src/tW_scattering/coffeaEnv/lib/python3.6/site-packages/uproot/source/cursor.py:73: DeprecationWarning: tostring() is deprecated. Use tobytes() instead.\n",
      "  return source.data(start, stop).tostring()\n",
      "/home/users/ewallace/CMSSW_10_2_9/src/tW_scattering/coffeaEnv/lib/python3.6/site-packages/uproot/source/cursor.py:73: DeprecationWarning: tostring() is deprecated. Use tobytes() instead.\n",
      "  return source.data(start, stop).tostring()\n"
     ]
    },
    {
     "data": {
      "application/vnd.jupyter.widget-view+json": {
       "model_id": "29193e5d8f8640258d1f885bfaece4c5",
       "version_major": 2,
       "version_minor": 0
      },
      "text/html": [
       "<p>Failed to display Jupyter Widget of type <code>HBox</code>.</p>\n",
       "<p>\n",
       "  If you're reading this message in the Jupyter Notebook or JupyterLab Notebook, it may mean\n",
       "  that the widgets JavaScript is still loading. If this message persists, it\n",
       "  likely means that the widgets JavaScript library is either not installed or\n",
       "  not enabled. See the <a href=\"https://ipywidgets.readthedocs.io/en/stable/user_install.html\">Jupyter\n",
       "  Widgets Documentation</a> for setup instructions.\n",
       "</p>\n",
       "<p>\n",
       "  If you're reading this message in another frontend (for example, a static\n",
       "  rendering on GitHub or <a href=\"https://nbviewer.jupyter.org/\">NBViewer</a>),\n",
       "  it may mean that your frontend doesn't currently support widgets.\n",
       "</p>\n"
      ],
      "text/plain": [
       "HBox(children=(HTML(value='Processing'), FloatProgress(value=0.0, max=30.0), HTML(value='')))"
      ]
     },
     "metadata": {},
     "output_type": "display_data"
    },
    {
     "name": "stderr",
     "output_type": "stream",
     "text": [
      "/home/users/ewallace/CMSSW_10_2_9/src/tW_scattering/coffeaEnv/lib/python3.6/site-packages/uproot/source/cursor.py:73: DeprecationWarning: tostring() is deprecated. Use tobytes() instead.\n",
      "  return source.data(start, stop).tostring()\n",
      "/home/users/ewallace/CMSSW_10_2_9/src/tW_scattering/coffeaEnv/lib/python3.6/site-packages/uproot/source/cursor.py:73: DeprecationWarning: tostring() is deprecated. Use tobytes() instead.\n",
      "  return source.data(start, stop).tostring()\n",
      "/home/users/ewallace/CMSSW_10_2_9/src/tW_scattering/coffeaEnv/lib/python3.6/site-packages/uproot/source/cursor.py:73: DeprecationWarning: tostring() is deprecated. Use tobytes() instead.\n",
      "  return source.data(start, stop).tostring()\n",
      "/home/users/ewallace/CMSSW_10_2_9/src/tW_scattering/coffeaEnv/lib/python3.6/site-packages/uproot/source/cursor.py:73: DeprecationWarning: tostring() is deprecated. Use tobytes() instead.\n",
      "  return source.data(start, stop).tostring()\n",
      "/home/users/ewallace/CMSSW_10_2_9/src/tW_scattering/coffeaEnv/lib/python3.6/site-packages/uproot/source/cursor.py:73: DeprecationWarning: tostring() is deprecated. Use tobytes() instead.\n",
      "  return source.data(start, stop).tostring()\n",
      "/home/users/ewallace/CMSSW_10_2_9/src/tW_scattering/coffeaEnv/lib/python3.6/site-packages/uproot/source/cursor.py:73: DeprecationWarning: tostring() is deprecated. Use tobytes() instead.\n",
      "  return source.data(start, stop).tostring()\n",
      "/home/users/ewallace/CMSSW_10_2_9/src/tW_scattering/coffeaEnv/lib/python3.6/site-packages/uproot/source/cursor.py:73: DeprecationWarning: tostring() is deprecated. Use tobytes() instead.\n",
      "  return source.data(start, stop).tostring()\n",
      "/home/users/ewallace/CMSSW_10_2_9/src/tW_scattering/coffeaEnv/lib/python3.6/site-packages/uproot/source/cursor.py:73: DeprecationWarning: tostring() is deprecated. Use tobytes() instead.\n",
      "  return source.data(start, stop).tostring()\n",
      "/home/users/ewallace/CMSSW_10_2_9/src/tW_scattering/coffeaEnv/lib/python3.6/site-packages/uproot/source/cursor.py:73: DeprecationWarning: tostring() is deprecated. Use tobytes() instead.\n",
      "  return source.data(start, stop).tostring()\n",
      "/home/users/ewallace/CMSSW_10_2_9/src/tW_scattering/coffeaEnv/lib/python3.6/site-packages/uproot/source/cursor.py:73: DeprecationWarning: tostring() is deprecated. Use tobytes() instead.\n",
      "  return source.data(start, stop).tostring()\n",
      "/home/users/ewallace/CMSSW_10_2_9/src/tW_scattering/coffeaEnv/lib/python3.6/site-packages/uproot/source/cursor.py:73: DeprecationWarning: tostring() is deprecated. Use tobytes() instead.\n",
      "  return source.data(start, stop).tostring()\n",
      "/home/users/ewallace/CMSSW_10_2_9/src/tW_scattering/coffeaEnv/lib/python3.6/site-packages/uproot/source/cursor.py:73: DeprecationWarning: tostring() is deprecated. Use tobytes() instead.\n",
      "  return source.data(start, stop).tostring()\n",
      "/home/users/ewallace/CMSSW_10_2_9/src/tW_scattering/coffeaEnv/lib/python3.6/site-packages/uproot/source/cursor.py:73: DeprecationWarning: tostring() is deprecated. Use tobytes() instead.\n",
      "  return source.data(start, stop).tostring()\n",
      "/home/users/ewallace/CMSSW_10_2_9/src/tW_scattering/coffeaEnv/lib/python3.6/site-packages/uproot/source/cursor.py:73: DeprecationWarning: tostring() is deprecated. Use tobytes() instead.\n",
      "  return source.data(start, stop).tostring()\n",
      "/home/users/ewallace/CMSSW_10_2_9/src/tW_scattering/coffeaEnv/lib/python3.6/site-packages/uproot/source/cursor.py:73: DeprecationWarning: tostring() is deprecated. Use tobytes() instead.\n",
      "  return source.data(start, stop).tostring()\n",
      "/home/users/ewallace/CMSSW_10_2_9/src/tW_scattering/coffeaEnv/lib/python3.6/site-packages/uproot/source/cursor.py:73: DeprecationWarning: tostring() is deprecated. Use tobytes() instead.\n",
      "  return source.data(start, stop).tostring()\n",
      "/home/users/ewallace/CMSSW_10_2_9/src/tW_scattering/coffeaEnv/lib/python3.6/site-packages/uproot/source/cursor.py:73: DeprecationWarning: tostring() is deprecated. Use tobytes() instead.\n",
      "  return source.data(start, stop).tostring()\n",
      "/home/users/ewallace/CMSSW_10_2_9/src/tW_scattering/coffeaEnv/lib/python3.6/site-packages/uproot/source/cursor.py:73: DeprecationWarning: tostring() is deprecated. Use tobytes() instead.\n",
      "  return source.data(start, stop).tostring()\n",
      "/home/users/ewallace/CMSSW_10_2_9/src/tW_scattering/coffeaEnv/lib/python3.6/site-packages/uproot/source/cursor.py:73: DeprecationWarning: tostring() is deprecated. Use tobytes() instead.\n",
      "  return source.data(start, stop).tostring()\n",
      "/home/users/ewallace/CMSSW_10_2_9/src/tW_scattering/coffeaEnv/lib/python3.6/site-packages/uproot/source/cursor.py:73: DeprecationWarning: tostring() is deprecated. Use tobytes() instead.\n",
      "  return source.data(start, stop).tostring()\n",
      "/home/users/ewallace/CMSSW_10_2_9/src/tW_scattering/coffeaEnv/lib/python3.6/site-packages/uproot/source/cursor.py:73: DeprecationWarning: tostring() is deprecated. Use tobytes() instead.\n",
      "  return source.data(start, stop).tostring()\n",
      "/home/users/ewallace/CMSSW_10_2_9/src/tW_scattering/coffeaEnv/lib/python3.6/site-packages/uproot/source/cursor.py:73: DeprecationWarning: tostring() is deprecated. Use tobytes() instead.\n",
      "  return source.data(start, stop).tostring()\n"
     ]
    },
    {
     "name": "stdout",
     "output_type": "stream",
     "text": [
      "\n"
     ]
    },
    {
     "data": {
      "application/vnd.jupyter.widget-view+json": {
       "model_id": "c54cc2c9bf884cc587ad22d3705a2fd8",
       "version_major": 2,
       "version_minor": 0
      },
      "text/html": [
       "<p>Failed to display Jupyter Widget of type <code>HBox</code>.</p>\n",
       "<p>\n",
       "  If you're reading this message in the Jupyter Notebook or JupyterLab Notebook, it may mean\n",
       "  that the widgets JavaScript is still loading. If this message persists, it\n",
       "  likely means that the widgets JavaScript library is either not installed or\n",
       "  not enabled. See the <a href=\"https://ipywidgets.readthedocs.io/en/stable/user_install.html\">Jupyter\n",
       "  Widgets Documentation</a> for setup instructions.\n",
       "</p>\n",
       "<p>\n",
       "  If you're reading this message in another frontend (for example, a static\n",
       "  rendering on GitHub or <a href=\"https://nbviewer.jupyter.org/\">NBViewer</a>),\n",
       "  it may mean that your frontend doesn't currently support widgets.\n",
       "</p>\n"
      ],
      "text/plain": [
       "HBox(children=(HTML(value='Processing'), FloatProgress(value=0.0, max=82.0), HTML(value='')))"
      ]
     },
     "metadata": {},
     "output_type": "display_data"
    },
    {
     "name": "stderr",
     "output_type": "stream",
     "text": [
      "/home/users/ewallace/CMSSW_10_2_9/src/tW_scattering/coffeaEnv/lib/python3.6/site-packages/uproot/source/cursor.py:73: DeprecationWarning: tostring() is deprecated. Use tobytes() instead.\n",
      "  return source.data(start, stop).tostring()\n",
      "/home/users/ewallace/CMSSW_10_2_9/src/tW_scattering/coffeaEnv/lib/python3.6/site-packages/uproot/source/cursor.py:73: DeprecationWarning: tostring() is deprecated. Use tobytes() instead.\n",
      "  return source.data(start, stop).tostring()\n",
      "/home/users/ewallace/CMSSW_10_2_9/src/tW_scattering/coffeaEnv/lib/python3.6/site-packages/uproot/source/cursor.py:73: DeprecationWarning: tostring() is deprecated. Use tobytes() instead.\n",
      "  return source.data(start, stop).tostring()\n",
      "/home/users/ewallace/CMSSW_10_2_9/src/tW_scattering/coffeaEnv/lib/python3.6/site-packages/uproot/source/cursor.py:73: DeprecationWarning: tostring() is deprecated. Use tobytes() instead.\n",
      "  return source.data(start, stop).tostring()\n",
      "/home/users/ewallace/CMSSW_10_2_9/src/tW_scattering/coffeaEnv/lib/python3.6/site-packages/uproot/source/cursor.py:73: DeprecationWarning: tostring() is deprecated. Use tobytes() instead.\n",
      "  return source.data(start, stop).tostring()\n",
      "/home/users/ewallace/CMSSW_10_2_9/src/tW_scattering/coffeaEnv/lib/python3.6/site-packages/uproot/source/cursor.py:73: DeprecationWarning: tostring() is deprecated. Use tobytes() instead.\n",
      "  return source.data(start, stop).tostring()\n",
      "/home/users/ewallace/CMSSW_10_2_9/src/tW_scattering/coffeaEnv/lib/python3.6/site-packages/uproot/source/cursor.py:73: DeprecationWarning: tostring() is deprecated. Use tobytes() instead.\n",
      "  return source.data(start, stop).tostring()\n",
      "/home/users/ewallace/CMSSW_10_2_9/src/tW_scattering/coffeaEnv/lib/python3.6/site-packages/uproot/source/cursor.py:73: DeprecationWarning: tostring() is deprecated. Use tobytes() instead.\n",
      "  return source.data(start, stop).tostring()\n",
      "/home/users/ewallace/CMSSW_10_2_9/src/tW_scattering/coffeaEnv/lib/python3.6/site-packages/uproot/source/cursor.py:73: DeprecationWarning: tostring() is deprecated. Use tobytes() instead.\n",
      "  return source.data(start, stop).tostring()\n",
      "/home/users/ewallace/CMSSW_10_2_9/src/tW_scattering/coffeaEnv/lib/python3.6/site-packages/uproot/source/cursor.py:73: DeprecationWarning: tostring() is deprecated. Use tobytes() instead.\n",
      "  return source.data(start, stop).tostring()\n",
      "/home/users/ewallace/CMSSW_10_2_9/src/tW_scattering/coffeaEnv/lib/python3.6/site-packages/uproot/source/cursor.py:73: DeprecationWarning: tostring() is deprecated. Use tobytes() instead.\n",
      "  return source.data(start, stop).tostring()\n",
      "/home/users/ewallace/CMSSW_10_2_9/src/tW_scattering/coffeaEnv/lib/python3.6/site-packages/uproot/source/cursor.py:73: DeprecationWarning: tostring() is deprecated. Use tobytes() instead.\n",
      "  return source.data(start, stop).tostring()\n",
      "/home/users/ewallace/CMSSW_10_2_9/src/tW_scattering/coffeaEnv/lib/python3.6/site-packages/uproot/source/cursor.py:73: DeprecationWarning: tostring() is deprecated. Use tobytes() instead.\n",
      "  return source.data(start, stop).tostring()\n",
      "/home/users/ewallace/CMSSW_10_2_9/src/tW_scattering/coffeaEnv/lib/python3.6/site-packages/uproot/source/cursor.py:73: DeprecationWarning: tostring() is deprecated. Use tobytes() instead.\n",
      "  return source.data(start, stop).tostring()\n",
      "/home/users/ewallace/CMSSW_10_2_9/src/tW_scattering/coffeaEnv/lib/python3.6/site-packages/uproot/source/cursor.py:73: DeprecationWarning: tostring() is deprecated. Use tobytes() instead.\n",
      "  return source.data(start, stop).tostring()\n",
      "/home/users/ewallace/CMSSW_10_2_9/src/tW_scattering/coffeaEnv/lib/python3.6/site-packages/uproot/source/cursor.py:73: DeprecationWarning: tostring() is deprecated. Use tobytes() instead.\n",
      "  return source.data(start, stop).tostring()\n",
      "/home/users/ewallace/CMSSW_10_2_9/src/tW_scattering/coffeaEnv/lib/python3.6/site-packages/uproot/source/cursor.py:73: DeprecationWarning: tostring() is deprecated. Use tobytes() instead.\n",
      "  return source.data(start, stop).tostring()\n",
      "/home/users/ewallace/CMSSW_10_2_9/src/tW_scattering/coffeaEnv/lib/python3.6/site-packages/uproot/source/cursor.py:73: DeprecationWarning: tostring() is deprecated. Use tobytes() instead.\n",
      "  return source.data(start, stop).tostring()\n",
      "/home/users/ewallace/CMSSW_10_2_9/src/tW_scattering/coffeaEnv/lib/python3.6/site-packages/uproot/source/cursor.py:73: DeprecationWarning: tostring() is deprecated. Use tobytes() instead.\n",
      "  return source.data(start, stop).tostring()\n",
      "/home/users/ewallace/CMSSW_10_2_9/src/tW_scattering/coffeaEnv/lib/python3.6/site-packages/uproot/source/cursor.py:73: DeprecationWarning: tostring() is deprecated. Use tobytes() instead.\n",
      "  return source.data(start, stop).tostring()\n",
      "/home/users/ewallace/CMSSW_10_2_9/src/tW_scattering/coffeaEnv/lib/python3.6/site-packages/uproot/source/cursor.py:73: DeprecationWarning: tostring() is deprecated. Use tobytes() instead.\n",
      "  return source.data(start, stop).tostring()\n",
      "/home/users/ewallace/CMSSW_10_2_9/src/tW_scattering/coffeaEnv/lib/python3.6/site-packages/uproot/source/cursor.py:73: DeprecationWarning: tostring() is deprecated. Use tobytes() instead.\n",
      "  return source.data(start, stop).tostring()\n",
      "/home/users/ewallace/CMSSW_10_2_9/src/tW_scattering/coffeaEnv/lib/python3.6/site-packages/uproot/source/cursor.py:73: DeprecationWarning: tostring() is deprecated. Use tobytes() instead.\n",
      "  return source.data(start, stop).tostring()\n",
      "/home/users/ewallace/CMSSW_10_2_9/src/tW_scattering/coffeaEnv/lib/python3.6/site-packages/uproot/source/cursor.py:73: DeprecationWarning: tostring() is deprecated. Use tobytes() instead.\n",
      "  return source.data(start, stop).tostring()\n"
     ]
    },
    {
     "name": "stdout",
     "output_type": "stream",
     "text": [
      "\n"
     ]
    },
    {
     "name": "stderr",
     "output_type": "stream",
     "text": [
      "/home/users/ewallace/CMSSW_10_2_9/src/tW_scattering/coffeaEnv/lib/python3.6/site-packages/uproot/source/cursor.py:73: DeprecationWarning: tostring() is deprecated. Use tobytes() instead.\n",
      "  return source.data(start, stop).tostring()\n"
     ]
    },
    {
     "data": {
      "application/vnd.jupyter.widget-view+json": {
       "model_id": "7cf96cfe89b148dfaf4cb714778dc253",
       "version_major": 2,
       "version_minor": 0
      },
      "text/html": [
       "<p>Failed to display Jupyter Widget of type <code>HBox</code>.</p>\n",
       "<p>\n",
       "  If you're reading this message in the Jupyter Notebook or JupyterLab Notebook, it may mean\n",
       "  that the widgets JavaScript is still loading. If this message persists, it\n",
       "  likely means that the widgets JavaScript library is either not installed or\n",
       "  not enabled. See the <a href=\"https://ipywidgets.readthedocs.io/en/stable/user_install.html\">Jupyter\n",
       "  Widgets Documentation</a> for setup instructions.\n",
       "</p>\n",
       "<p>\n",
       "  If you're reading this message in another frontend (for example, a static\n",
       "  rendering on GitHub or <a href=\"https://nbviewer.jupyter.org/\">NBViewer</a>),\n",
       "  it may mean that your frontend doesn't currently support widgets.\n",
       "</p>\n"
      ],
      "text/plain": [
       "HBox(children=(HTML(value='Processing'), FloatProgress(value=0.0, max=16.0), HTML(value='')))"
      ]
     },
     "metadata": {},
     "output_type": "display_data"
    },
    {
     "name": "stderr",
     "output_type": "stream",
     "text": [
      "/home/users/ewallace/CMSSW_10_2_9/src/tW_scattering/coffeaEnv/lib/python3.6/site-packages/uproot/source/cursor.py:73: DeprecationWarning: tostring() is deprecated. Use tobytes() instead.\n",
      "  return source.data(start, stop).tostring()\n",
      "/home/users/ewallace/CMSSW_10_2_9/src/tW_scattering/coffeaEnv/lib/python3.6/site-packages/uproot/source/cursor.py:73: DeprecationWarning: tostring() is deprecated. Use tobytes() instead.\n",
      "  return source.data(start, stop).tostring()\n",
      "/home/users/ewallace/CMSSW_10_2_9/src/tW_scattering/coffeaEnv/lib/python3.6/site-packages/uproot/source/cursor.py:73: DeprecationWarning: tostring() is deprecated. Use tobytes() instead.\n",
      "  return source.data(start, stop).tostring()\n",
      "/home/users/ewallace/CMSSW_10_2_9/src/tW_scattering/coffeaEnv/lib/python3.6/site-packages/uproot/source/cursor.py:73: DeprecationWarning: tostring() is deprecated. Use tobytes() instead.\n",
      "  return source.data(start, stop).tostring()\n",
      "/home/users/ewallace/CMSSW_10_2_9/src/tW_scattering/coffeaEnv/lib/python3.6/site-packages/uproot/source/cursor.py:73: DeprecationWarning: tostring() is deprecated. Use tobytes() instead.\n",
      "  return source.data(start, stop).tostring()\n",
      "/home/users/ewallace/CMSSW_10_2_9/src/tW_scattering/coffeaEnv/lib/python3.6/site-packages/uproot/source/cursor.py:73: DeprecationWarning: tostring() is deprecated. Use tobytes() instead.\n",
      "  return source.data(start, stop).tostring()\n",
      "/home/users/ewallace/CMSSW_10_2_9/src/tW_scattering/coffeaEnv/lib/python3.6/site-packages/uproot/source/cursor.py:73: DeprecationWarning: tostring() is deprecated. Use tobytes() instead.\n",
      "  return source.data(start, stop).tostring()\n",
      "/home/users/ewallace/CMSSW_10_2_9/src/tW_scattering/coffeaEnv/lib/python3.6/site-packages/uproot/source/cursor.py:73: DeprecationWarning: tostring() is deprecated. Use tobytes() instead.\n",
      "  return source.data(start, stop).tostring()\n",
      "/home/users/ewallace/CMSSW_10_2_9/src/tW_scattering/coffeaEnv/lib/python3.6/site-packages/uproot/source/cursor.py:73: DeprecationWarning: tostring() is deprecated. Use tobytes() instead.\n",
      "  return source.data(start, stop).tostring()\n",
      "/home/users/ewallace/CMSSW_10_2_9/src/tW_scattering/coffeaEnv/lib/python3.6/site-packages/uproot/source/cursor.py:73: DeprecationWarning: tostring() is deprecated. Use tobytes() instead.\n",
      "  return source.data(start, stop).tostring()\n",
      "/home/users/ewallace/CMSSW_10_2_9/src/tW_scattering/coffeaEnv/lib/python3.6/site-packages/uproot/source/cursor.py:73: DeprecationWarning: tostring() is deprecated. Use tobytes() instead.\n",
      "  return source.data(start, stop).tostring()\n",
      "/home/users/ewallace/CMSSW_10_2_9/src/tW_scattering/coffeaEnv/lib/python3.6/site-packages/uproot/source/cursor.py:73: DeprecationWarning: tostring() is deprecated. Use tobytes() instead.\n",
      "  return source.data(start, stop).tostring()\n",
      "/home/users/ewallace/CMSSW_10_2_9/src/tW_scattering/coffeaEnv/lib/python3.6/site-packages/uproot/source/cursor.py:73: DeprecationWarning: tostring() is deprecated. Use tobytes() instead.\n",
      "  return source.data(start, stop).tostring()\n",
      "/home/users/ewallace/CMSSW_10_2_9/src/tW_scattering/coffeaEnv/lib/python3.6/site-packages/uproot/source/cursor.py:73: DeprecationWarning: tostring() is deprecated. Use tobytes() instead.\n",
      "  return source.data(start, stop).tostring()\n",
      "/home/users/ewallace/CMSSW_10_2_9/src/tW_scattering/coffeaEnv/lib/python3.6/site-packages/uproot/source/cursor.py:73: DeprecationWarning: tostring() is deprecated. Use tobytes() instead.\n",
      "  return source.data(start, stop).tostring()\n"
     ]
    },
    {
     "name": "stdout",
     "output_type": "stream",
     "text": [
      "\n"
     ]
    },
    {
     "data": {
      "application/vnd.jupyter.widget-view+json": {
       "model_id": "62740401f1a14f0792412a387fd65cc0",
       "version_major": 2,
       "version_minor": 0
      },
      "text/html": [
       "<p>Failed to display Jupyter Widget of type <code>HBox</code>.</p>\n",
       "<p>\n",
       "  If you're reading this message in the Jupyter Notebook or JupyterLab Notebook, it may mean\n",
       "  that the widgets JavaScript is still loading. If this message persists, it\n",
       "  likely means that the widgets JavaScript library is either not installed or\n",
       "  not enabled. See the <a href=\"https://ipywidgets.readthedocs.io/en/stable/user_install.html\">Jupyter\n",
       "  Widgets Documentation</a> for setup instructions.\n",
       "</p>\n",
       "<p>\n",
       "  If you're reading this message in another frontend (for example, a static\n",
       "  rendering on GitHub or <a href=\"https://nbviewer.jupyter.org/\">NBViewer</a>),\n",
       "  it may mean that your frontend doesn't currently support widgets.\n",
       "</p>\n"
      ],
      "text/plain": [
       "HBox(children=(HTML(value='Processing'), FloatProgress(value=0.0, max=32.0), HTML(value='')))"
      ]
     },
     "metadata": {},
     "output_type": "display_data"
    },
    {
     "name": "stderr",
     "output_type": "stream",
     "text": [
      "/home/users/ewallace/CMSSW_10_2_9/src/tW_scattering/coffeaEnv/lib/python3.6/site-packages/uproot/source/cursor.py:73: DeprecationWarning: tostring() is deprecated. Use tobytes() instead.\n",
      "  return source.data(start, stop).tostring()\n",
      "/home/users/ewallace/CMSSW_10_2_9/src/tW_scattering/coffeaEnv/lib/python3.6/site-packages/uproot/source/cursor.py:73: DeprecationWarning: tostring() is deprecated. Use tobytes() instead.\n",
      "  return source.data(start, stop).tostring()\n",
      "/home/users/ewallace/CMSSW_10_2_9/src/tW_scattering/coffeaEnv/lib/python3.6/site-packages/uproot/source/cursor.py:73: DeprecationWarning: tostring() is deprecated. Use tobytes() instead.\n",
      "  return source.data(start, stop).tostring()\n",
      "/home/users/ewallace/CMSSW_10_2_9/src/tW_scattering/coffeaEnv/lib/python3.6/site-packages/uproot/source/cursor.py:73: DeprecationWarning: tostring() is deprecated. Use tobytes() instead.\n",
      "  return source.data(start, stop).tostring()\n",
      "/home/users/ewallace/CMSSW_10_2_9/src/tW_scattering/coffeaEnv/lib/python3.6/site-packages/uproot/source/cursor.py:73: DeprecationWarning: tostring() is deprecated. Use tobytes() instead.\n",
      "  return source.data(start, stop).tostring()\n",
      "/home/users/ewallace/CMSSW_10_2_9/src/tW_scattering/coffeaEnv/lib/python3.6/site-packages/uproot/source/cursor.py:73: DeprecationWarning: tostring() is deprecated. Use tobytes() instead.\n",
      "  return source.data(start, stop).tostring()\n",
      "/home/users/ewallace/CMSSW_10_2_9/src/tW_scattering/coffeaEnv/lib/python3.6/site-packages/uproot/source/cursor.py:73: DeprecationWarning: tostring() is deprecated. Use tobytes() instead.\n",
      "  return source.data(start, stop).tostring()\n",
      "/home/users/ewallace/CMSSW_10_2_9/src/tW_scattering/coffeaEnv/lib/python3.6/site-packages/uproot/source/cursor.py:73: DeprecationWarning: tostring() is deprecated. Use tobytes() instead.\n",
      "  return source.data(start, stop).tostring()\n",
      "/home/users/ewallace/CMSSW_10_2_9/src/tW_scattering/coffeaEnv/lib/python3.6/site-packages/uproot/source/cursor.py:73: DeprecationWarning: tostring() is deprecated. Use tobytes() instead.\n",
      "  return source.data(start, stop).tostring()\n",
      "/home/users/ewallace/CMSSW_10_2_9/src/tW_scattering/coffeaEnv/lib/python3.6/site-packages/uproot/source/cursor.py:73: DeprecationWarning: tostring() is deprecated. Use tobytes() instead.\n",
      "  return source.data(start, stop).tostring()\n",
      "/home/users/ewallace/CMSSW_10_2_9/src/tW_scattering/coffeaEnv/lib/python3.6/site-packages/uproot/source/cursor.py:73: DeprecationWarning: tostring() is deprecated. Use tobytes() instead.\n",
      "  return source.data(start, stop).tostring()\n",
      "/home/users/ewallace/CMSSW_10_2_9/src/tW_scattering/coffeaEnv/lib/python3.6/site-packages/uproot/source/cursor.py:73: DeprecationWarning: tostring() is deprecated. Use tobytes() instead.\n",
      "  return source.data(start, stop).tostring()\n",
      "/home/users/ewallace/CMSSW_10_2_9/src/tW_scattering/coffeaEnv/lib/python3.6/site-packages/uproot/source/cursor.py:73: DeprecationWarning: tostring() is deprecated. Use tobytes() instead.\n",
      "  return source.data(start, stop).tostring()\n",
      "/home/users/ewallace/CMSSW_10_2_9/src/tW_scattering/coffeaEnv/lib/python3.6/site-packages/uproot/source/cursor.py:73: DeprecationWarning: tostring() is deprecated. Use tobytes() instead.\n",
      "  return source.data(start, stop).tostring()\n",
      "/home/users/ewallace/CMSSW_10_2_9/src/tW_scattering/coffeaEnv/lib/python3.6/site-packages/uproot/source/cursor.py:73: DeprecationWarning: tostring() is deprecated. Use tobytes() instead.\n",
      "  return source.data(start, stop).tostring()\n",
      "/home/users/ewallace/CMSSW_10_2_9/src/tW_scattering/coffeaEnv/lib/python3.6/site-packages/uproot/source/cursor.py:73: DeprecationWarning: tostring() is deprecated. Use tobytes() instead.\n",
      "  return source.data(start, stop).tostring()\n",
      "/home/users/ewallace/CMSSW_10_2_9/src/tW_scattering/coffeaEnv/lib/python3.6/site-packages/uproot/source/cursor.py:73: DeprecationWarning: tostring() is deprecated. Use tobytes() instead.\n",
      "  return source.data(start, stop).tostring()\n",
      "/home/users/ewallace/CMSSW_10_2_9/src/tW_scattering/coffeaEnv/lib/python3.6/site-packages/uproot/source/cursor.py:73: DeprecationWarning: tostring() is deprecated. Use tobytes() instead.\n",
      "  return source.data(start, stop).tostring()\n",
      "/home/users/ewallace/CMSSW_10_2_9/src/tW_scattering/coffeaEnv/lib/python3.6/site-packages/uproot/source/cursor.py:73: DeprecationWarning: tostring() is deprecated. Use tobytes() instead.\n",
      "  return source.data(start, stop).tostring()\n",
      "/home/users/ewallace/CMSSW_10_2_9/src/tW_scattering/coffeaEnv/lib/python3.6/site-packages/uproot/source/cursor.py:73: DeprecationWarning: tostring() is deprecated. Use tobytes() instead.\n",
      "  return source.data(start, stop).tostring()\n",
      "/home/users/ewallace/CMSSW_10_2_9/src/tW_scattering/coffeaEnv/lib/python3.6/site-packages/uproot/source/cursor.py:73: DeprecationWarning: tostring() is deprecated. Use tobytes() instead.\n",
      "  return source.data(start, stop).tostring()\n",
      "/home/users/ewallace/CMSSW_10_2_9/src/tW_scattering/coffeaEnv/lib/python3.6/site-packages/uproot/source/cursor.py:73: DeprecationWarning: tostring() is deprecated. Use tobytes() instead.\n",
      "  return source.data(start, stop).tostring()\n",
      "/home/users/ewallace/CMSSW_10_2_9/src/tW_scattering/coffeaEnv/lib/python3.6/site-packages/uproot/source/cursor.py:73: DeprecationWarning: tostring() is deprecated. Use tobytes() instead.\n",
      "  return source.data(start, stop).tostring()\n",
      "/home/users/ewallace/CMSSW_10_2_9/src/tW_scattering/coffeaEnv/lib/python3.6/site-packages/uproot/source/cursor.py:73: DeprecationWarning: tostring() is deprecated. Use tobytes() instead.\n",
      "  return source.data(start, stop).tostring()\n"
     ]
    },
    {
     "name": "stdout",
     "output_type": "stream",
     "text": [
      "\n"
     ]
    }
   ],
   "source": [
    "fileset_sig = {'mC750_had': glob.glob('/hadoop/cms/store/user/ksalyer/allHadTest/0p1p16/2018/WH_had_750_1_nanoAOD/*.root')}\n",
    "fileset_wjets = {'WJets': glob.glob('/hadoop/cms/store/user/ksalyer/allHadTest/0p1p16/2018/WJetsToLNu*/*.root')}\n",
    "fileset_qcd = {'QCD': glob.glob('/hadoop/cms/store/user/ksalyer/allHadTest/0p1p16/2018/QCD_HT*/*.root')}\n",
    "fileset_ttjets = {'TTJets': glob.glob('/hadoop/cms/store/user/ksalyer/allHadTest/0p1p16/2018/TTJets*/*.root')}\n",
    "fileset_znunu = {'ZNuNu': glob.glob('/hadoop/cms/store/user/ksalyer/allHadTest/0p1p16/2018/ZJetsToNuNu*/*.root')}\n",
    "fileset_st = {'ST':glob.glob('/hadoop/cms/store/user/ksalyer/allHadTest/0p1p16/2018/ST*/*.root')}\n",
    "fileset_ttwz = {'ttW/ttZ':glob.glob('/hadoop/cms/store/user/ksalyer/allHadTest/0p1p16/2018/ttWJets*/*.root')\n",
    "                +glob.glob('/hadoop/cms/store/user/ksalyer/allHadTest/0p1p16/2018/ttZJets*/*.root')}\n",
    "fileset_2b = {'2bosons':glob.glob('/hadoop/cms/store/user/ksalyer/allHadTest/0p1p16/2018/WW*/*.root')\n",
    "                +glob.glob('/hadoop/cms/store/user/ksalyer/allHadTest/0p1p16/2018/WZ*/*.root')\n",
    "                +glob.glob('/hadoop/cms/store/user/ksalyer/allHadTest/0p1p16/2018/ZZTo2L2Nu*/*.root')\n",
    "                +glob.glob('/hadoop/cms/store/user/ksalyer/allHadTest/0p1p16/2018/ZZTo2Q2Nu*/*.root')}\n",
    "fileset_data = {'MET_Run': glob.glob('/hadoop/cms/store/user/ksalyer/allHadTest/0p1p24/*/*.root')}\n",
    "\n",
    "output_data = processor.run_uproot_job(fileset_data,\n",
    "                                    treename='Events',\n",
    "                                    processor_instance=WHhadProcessor(),\n",
    "                                    executor=processor.futures_executor,\n",
    "                                    executor_args={'workers': 24, 'function_args': {'flatten': False}},\n",
    "                                    chunksize=500000,\n",
    "                                 )\n",
    "output_sig = processor.run_uproot_job(fileset_sig,\n",
    "                                    treename='Events',\n",
    "                                    processor_instance=WHhadProcessor(),\n",
    "                                    executor=processor.futures_executor,\n",
    "                                    executor_args={'workers': 24, 'function_args': {'flatten': False}},\n",
    "                                    chunksize=500000,\n",
    "                                 )\n",
    "output_wjets = processor.run_uproot_job(fileset_wjets,\n",
    "                                    treename='Events',\n",
    "                                    processor_instance=WHhadProcessor(),\n",
    "                                    executor=processor.futures_executor,\n",
    "                                    executor_args={'workers': 24, 'function_args': {'flatten': False}},\n",
    "                                    chunksize=500000,\n",
    "                                 ) \n",
    "output_qcd = processor.run_uproot_job(fileset_qcd,\n",
    "                                    treename='Events',\n",
    "                                    processor_instance=WHhadProcessor(),\n",
    "                                    executor=processor.futures_executor,\n",
    "                                    executor_args={'workers': 24, 'function_args': {'flatten': False}},\n",
    "                                    chunksize=500000,\n",
    "                                 )\n",
    "output_ttjets = processor.run_uproot_job(fileset_ttjets,\n",
    "                                    treename='Events',\n",
    "                                    processor_instance=WHhadProcessor(),\n",
    "                                    executor=processor.futures_executor,\n",
    "                                    executor_args={'workers': 24, 'function_args': {'flatten': False}},\n",
    "                                    chunksize=500000,\n",
    "                                 )\n",
    "output_znunu = processor.run_uproot_job(fileset_znunu,\n",
    "                                    treename='Events',\n",
    "                                    processor_instance=WHhadProcessor(),\n",
    "                                    executor=processor.futures_executor,\n",
    "                                    executor_args={'workers': 24, 'function_args': {'flatten': False}},\n",
    "                                    chunksize=500000,\n",
    "                                 )\n",
    "output_st = processor.run_uproot_job(fileset_st,\n",
    "                                    treename='Events',\n",
    "                                    processor_instance=WHhadProcessor(),\n",
    "                                    executor=processor.futures_executor,\n",
    "                                    executor_args={'workers': 24, 'function_args': {'flatten': False}},\n",
    "                                    chunksize=500000,\n",
    "                                 )\n",
    "output_ttwz = processor.run_uproot_job(fileset_ttwz,\n",
    "                                    treename='Events',\n",
    "                                    processor_instance=WHhadProcessor(),\n",
    "                                    executor=processor.futures_executor,\n",
    "                                    executor_args={'workers': 24, 'function_args': {'flatten': False}},\n",
    "                                    chunksize=500000,\n",
    "                                 )\n",
    "output_2b = processor.run_uproot_job(fileset_2b,\n",
    "                                    treename='Events',\n",
    "                                    processor_instance=WHhadProcessor(),\n",
    "                                    executor=processor.futures_executor,\n",
    "                                    executor_args={'workers': 24, 'function_args': {'flatten': False}},\n",
    "                                    chunksize=500000,\n",
    "                                 )"
   ]
  },
  {
   "cell_type": "code",
   "execution_count": 42,
   "metadata": {},
   "outputs": [
    {
     "data": {
      "text/html": [
       "<div>\n",
       "<style scoped>\n",
       "    .dataframe tbody tr th:only-of-type {\n",
       "        vertical-align: middle;\n",
       "    }\n",
       "\n",
       "    .dataframe tbody tr th {\n",
       "        vertical-align: top;\n",
       "    }\n",
       "\n",
       "    .dataframe thead th {\n",
       "        text-align: right;\n",
       "    }\n",
       "</style>\n",
       "<table border=\"1\" class=\"dataframe\">\n",
       "  <thead>\n",
       "    <tr style=\"text-align: right;\">\n",
       "      <th></th>\n",
       "      <th>mC750_had</th>\n",
       "    </tr>\n",
       "  </thead>\n",
       "  <tbody>\n",
       "    <tr>\n",
       "      <th>all</th>\n",
       "      <td>297.956555</td>\n",
       "    </tr>\n",
       "    <tr>\n",
       "      <th>+ one lepton</th>\n",
       "      <td>13.569897</td>\n",
       "    </tr>\n",
       "    <tr>\n",
       "      <th>+ met</th>\n",
       "      <td>12.481872</td>\n",
       "    </tr>\n",
       "    <tr>\n",
       "      <th>+ ht</th>\n",
       "      <td>12.360230</td>\n",
       "    </tr>\n",
       "    <tr>\n",
       "      <th>+ njet</th>\n",
       "      <td>12.346714</td>\n",
       "    </tr>\n",
       "    <tr>\n",
       "      <th>+ bjet</th>\n",
       "      <td>4.642689</td>\n",
       "    </tr>\n",
       "    <tr>\n",
       "      <th>+ min(mt(bs,met))</th>\n",
       "      <td>3.723612</td>\n",
       "    </tr>\n",
       "    <tr>\n",
       "      <th>+ fatjet &gt;=1</th>\n",
       "      <td>3.588454</td>\n",
       "    </tr>\n",
       "    <tr>\n",
       "      <th>+ fatjet &gt;=2</th>\n",
       "      <td>2.013859</td>\n",
       "    </tr>\n",
       "  </tbody>\n",
       "</table>\n",
       "</div>"
      ],
      "text/plain": [
       "                    mC750_had\n",
       "all                297.956555\n",
       "+ one lepton        13.569897\n",
       "+ met               12.481872\n",
       "+ ht                12.360230\n",
       "+ njet              12.346714\n",
       "+ bjet               4.642689\n",
       "+ min(mt(bs,met))    3.723612\n",
       "+ fatjet >=1         3.588454\n",
       "+ fatjet >=2         2.013859"
      ]
     },
     "execution_count": 42,
     "metadata": {},
     "output_type": "execute_result"
    }
   ],
   "source": [
    "getCutFlowTable(output_sig, 'mC750_had', lines = ['all', '+ one lepton', '+ met', \n",
    "                                                '+ ht','+ njet', '+ bjet', '+ min(mt(bs,met))',\n",
    "                                                '+ fatjet >=1 ', '+ fatjet >=2 '])"
   ]
  },
  {
   "cell_type": "code",
   "execution_count": 43,
   "metadata": {},
   "outputs": [
    {
     "data": {
      "text/html": [
       "<div>\n",
       "<style scoped>\n",
       "    .dataframe tbody tr th:only-of-type {\n",
       "        vertical-align: middle;\n",
       "    }\n",
       "\n",
       "    .dataframe tbody tr th {\n",
       "        vertical-align: top;\n",
       "    }\n",
       "\n",
       "    .dataframe thead th {\n",
       "        text-align: right;\n",
       "    }\n",
       "</style>\n",
       "<table border=\"1\" class=\"dataframe\">\n",
       "  <thead>\n",
       "    <tr style=\"text-align: right;\">\n",
       "      <th></th>\n",
       "      <th>WJets</th>\n",
       "    </tr>\n",
       "  </thead>\n",
       "  <tbody>\n",
       "    <tr>\n",
       "      <th>all</th>\n",
       "      <td>6.478594e+06</td>\n",
       "    </tr>\n",
       "    <tr>\n",
       "      <th>+ one lepton</th>\n",
       "      <td>1.172896e+06</td>\n",
       "    </tr>\n",
       "    <tr>\n",
       "      <th>+ met</th>\n",
       "      <td>5.266195e+05</td>\n",
       "    </tr>\n",
       "    <tr>\n",
       "      <th>+ ht</th>\n",
       "      <td>4.908394e+05</td>\n",
       "    </tr>\n",
       "    <tr>\n",
       "      <th>+ njet</th>\n",
       "      <td>4.855626e+05</td>\n",
       "    </tr>\n",
       "    <tr>\n",
       "      <th>+ bjet</th>\n",
       "      <td>5.864285e+03</td>\n",
       "    </tr>\n",
       "    <tr>\n",
       "      <th>+ min(mt(bs,met))</th>\n",
       "      <td>1.924607e+03</td>\n",
       "    </tr>\n",
       "    <tr>\n",
       "      <th>+ fatjet &gt;=1</th>\n",
       "      <td>1.877193e+03</td>\n",
       "    </tr>\n",
       "    <tr>\n",
       "      <th>+ fatjet &gt;=2</th>\n",
       "      <td>6.454719e+02</td>\n",
       "    </tr>\n",
       "  </tbody>\n",
       "</table>\n",
       "</div>"
      ],
      "text/plain": [
       "                          WJets\n",
       "all                6.478594e+06\n",
       "+ one lepton       1.172896e+06\n",
       "+ met              5.266195e+05\n",
       "+ ht               4.908394e+05\n",
       "+ njet             4.855626e+05\n",
       "+ bjet             5.864285e+03\n",
       "+ min(mt(bs,met))  1.924607e+03\n",
       "+ fatjet >=1       1.877193e+03\n",
       "+ fatjet >=2       6.454719e+02"
      ]
     },
     "execution_count": 43,
     "metadata": {},
     "output_type": "execute_result"
    }
   ],
   "source": [
    "getCutFlowTable(output_wjets, 'WJets', lines = ['all', '+ one lepton', '+ met', \n",
    "                                                '+ ht','+ njet', '+ bjet', '+ min(mt(bs,met))',\n",
    "                                                '+ fatjet >=1 ', '+ fatjet >=2 '])"
   ]
  },
  {
   "cell_type": "code",
   "execution_count": 44,
   "metadata": {},
   "outputs": [
    {
     "data": {
      "text/html": [
       "<div>\n",
       "<style scoped>\n",
       "    .dataframe tbody tr th:only-of-type {\n",
       "        vertical-align: middle;\n",
       "    }\n",
       "\n",
       "    .dataframe tbody tr th {\n",
       "        vertical-align: top;\n",
       "    }\n",
       "\n",
       "    .dataframe thead th {\n",
       "        text-align: right;\n",
       "    }\n",
       "</style>\n",
       "<table border=\"1\" class=\"dataframe\">\n",
       "  <thead>\n",
       "    <tr style=\"text-align: right;\">\n",
       "      <th></th>\n",
       "      <th>QCD</th>\n",
       "    </tr>\n",
       "  </thead>\n",
       "  <tbody>\n",
       "    <tr>\n",
       "      <th>all</th>\n",
       "      <td>3.910187e+06</td>\n",
       "    </tr>\n",
       "    <tr>\n",
       "      <th>+ one lepton</th>\n",
       "      <td>8.246654e+05</td>\n",
       "    </tr>\n",
       "    <tr>\n",
       "      <th>+ met</th>\n",
       "      <td>4.614902e+05</td>\n",
       "    </tr>\n",
       "    <tr>\n",
       "      <th>+ ht</th>\n",
       "      <td>4.577765e+05</td>\n",
       "    </tr>\n",
       "    <tr>\n",
       "      <th>+ njet</th>\n",
       "      <td>4.551101e+05</td>\n",
       "    </tr>\n",
       "    <tr>\n",
       "      <th>+ bjet</th>\n",
       "      <td>1.316891e+04</td>\n",
       "    </tr>\n",
       "    <tr>\n",
       "      <th>+ min(mt(bs,met))</th>\n",
       "      <td>6.128324e+03</td>\n",
       "    </tr>\n",
       "    <tr>\n",
       "      <th>+ fatjet &gt;=1</th>\n",
       "      <td>1.093153e+03</td>\n",
       "    </tr>\n",
       "    <tr>\n",
       "      <th>+ fatjet &gt;=2</th>\n",
       "      <td>5.699959e+02</td>\n",
       "    </tr>\n",
       "  </tbody>\n",
       "</table>\n",
       "</div>"
      ],
      "text/plain": [
       "                            QCD\n",
       "all                3.910187e+06\n",
       "+ one lepton       8.246654e+05\n",
       "+ met              4.614902e+05\n",
       "+ ht               4.577765e+05\n",
       "+ njet             4.551101e+05\n",
       "+ bjet             1.316891e+04\n",
       "+ min(mt(bs,met))  6.128324e+03\n",
       "+ fatjet >=1       1.093153e+03\n",
       "+ fatjet >=2       5.699959e+02"
      ]
     },
     "execution_count": 44,
     "metadata": {},
     "output_type": "execute_result"
    }
   ],
   "source": [
    "\n",
    "getCutFlowTable(output_qcd, 'QCD', lines = ['all', '+ one lepton', '+ met', \n",
    "                                                '+ ht','+ njet', '+ bjet', '+ min(mt(bs,met))',\n",
    "                                                '+ fatjet >=1 ', '+ fatjet >=2 '])"
   ]
  },
  {
   "cell_type": "code",
   "execution_count": 45,
   "metadata": {},
   "outputs": [
    {
     "data": {
      "text/html": [
       "<div>\n",
       "<style scoped>\n",
       "    .dataframe tbody tr th:only-of-type {\n",
       "        vertical-align: middle;\n",
       "    }\n",
       "\n",
       "    .dataframe tbody tr th {\n",
       "        vertical-align: top;\n",
       "    }\n",
       "\n",
       "    .dataframe thead th {\n",
       "        text-align: right;\n",
       "    }\n",
       "</style>\n",
       "<table border=\"1\" class=\"dataframe\">\n",
       "  <thead>\n",
       "    <tr style=\"text-align: right;\">\n",
       "      <th></th>\n",
       "      <th>TTJets</th>\n",
       "    </tr>\n",
       "  </thead>\n",
       "  <tbody>\n",
       "    <tr>\n",
       "      <th>all</th>\n",
       "      <td>928788.070357</td>\n",
       "    </tr>\n",
       "    <tr>\n",
       "      <th>+ one lepton</th>\n",
       "      <td>204196.480022</td>\n",
       "    </tr>\n",
       "    <tr>\n",
       "      <th>+ met</th>\n",
       "      <td>83395.976780</td>\n",
       "    </tr>\n",
       "    <tr>\n",
       "      <th>+ ht</th>\n",
       "      <td>80395.070238</td>\n",
       "    </tr>\n",
       "    <tr>\n",
       "      <th>+ njet</th>\n",
       "      <td>80370.549587</td>\n",
       "    </tr>\n",
       "    <tr>\n",
       "      <th>+ bjet</th>\n",
       "      <td>30325.082742</td>\n",
       "    </tr>\n",
       "    <tr>\n",
       "      <th>+ min(mt(bs,met))</th>\n",
       "      <td>2872.843868</td>\n",
       "    </tr>\n",
       "    <tr>\n",
       "      <th>+ fatjet &gt;=1</th>\n",
       "      <td>2575.562807</td>\n",
       "    </tr>\n",
       "    <tr>\n",
       "      <th>+ fatjet &gt;=2</th>\n",
       "      <td>1059.595967</td>\n",
       "    </tr>\n",
       "  </tbody>\n",
       "</table>\n",
       "</div>"
      ],
      "text/plain": [
       "                          TTJets\n",
       "all                928788.070357\n",
       "+ one lepton       204196.480022\n",
       "+ met               83395.976780\n",
       "+ ht                80395.070238\n",
       "+ njet              80370.549587\n",
       "+ bjet              30325.082742\n",
       "+ min(mt(bs,met))    2872.843868\n",
       "+ fatjet >=1         2575.562807\n",
       "+ fatjet >=2         1059.595967"
      ]
     },
     "execution_count": 45,
     "metadata": {},
     "output_type": "execute_result"
    }
   ],
   "source": [
    "getCutFlowTable(output_ttjets, 'TTJets', lines = ['all', '+ one lepton', '+ met', \n",
    "                                                '+ ht','+ njet', '+ bjet', '+ min(mt(bs,met))',\n",
    "                                                '+ fatjet >=1 ', '+ fatjet >=2 '])"
   ]
  },
  {
   "cell_type": "code",
   "execution_count": 46,
   "metadata": {},
   "outputs": [
    {
     "data": {
      "text/html": [
       "<div>\n",
       "<style scoped>\n",
       "    .dataframe tbody tr th:only-of-type {\n",
       "        vertical-align: middle;\n",
       "    }\n",
       "\n",
       "    .dataframe tbody tr th {\n",
       "        vertical-align: top;\n",
       "    }\n",
       "\n",
       "    .dataframe thead th {\n",
       "        text-align: right;\n",
       "    }\n",
       "</style>\n",
       "<table border=\"1\" class=\"dataframe\">\n",
       "  <thead>\n",
       "    <tr style=\"text-align: right;\">\n",
       "      <th></th>\n",
       "      <th>ZNuNu</th>\n",
       "    </tr>\n",
       "  </thead>\n",
       "  <tbody>\n",
       "    <tr>\n",
       "      <th>all</th>\n",
       "      <td>1.749745e+06</td>\n",
       "    </tr>\n",
       "    <tr>\n",
       "      <th>+ one lepton</th>\n",
       "      <td>5.088443e+04</td>\n",
       "    </tr>\n",
       "    <tr>\n",
       "      <th>+ met</th>\n",
       "      <td>2.330464e+04</td>\n",
       "    </tr>\n",
       "    <tr>\n",
       "      <th>+ ht</th>\n",
       "      <td>1.832652e+04</td>\n",
       "    </tr>\n",
       "    <tr>\n",
       "      <th>+ njet</th>\n",
       "      <td>1.799077e+04</td>\n",
       "    </tr>\n",
       "    <tr>\n",
       "      <th>+ bjet</th>\n",
       "      <td>3.612404e+02</td>\n",
       "    </tr>\n",
       "    <tr>\n",
       "      <th>+ min(mt(bs,met))</th>\n",
       "      <td>1.819702e+02</td>\n",
       "    </tr>\n",
       "    <tr>\n",
       "      <th>+ fatjet &gt;=1</th>\n",
       "      <td>1.515931e+02</td>\n",
       "    </tr>\n",
       "    <tr>\n",
       "      <th>+ fatjet &gt;=2</th>\n",
       "      <td>3.491298e+01</td>\n",
       "    </tr>\n",
       "  </tbody>\n",
       "</table>\n",
       "</div>"
      ],
      "text/plain": [
       "                          ZNuNu\n",
       "all                1.749745e+06\n",
       "+ one lepton       5.088443e+04\n",
       "+ met              2.330464e+04\n",
       "+ ht               1.832652e+04\n",
       "+ njet             1.799077e+04\n",
       "+ bjet             3.612404e+02\n",
       "+ min(mt(bs,met))  1.819702e+02\n",
       "+ fatjet >=1       1.515931e+02\n",
       "+ fatjet >=2       3.491298e+01"
      ]
     },
     "execution_count": 46,
     "metadata": {},
     "output_type": "execute_result"
    }
   ],
   "source": [
    "getCutFlowTable(output_znunu, 'ZNuNu', lines = ['all', '+ one lepton', '+ met', \n",
    "                                                '+ ht','+ njet', '+ bjet', '+ min(mt(bs,met))',\n",
    "                                                '+ fatjet >=1 ', '+ fatjet >=2 '])"
   ]
  },
  {
   "cell_type": "code",
   "execution_count": 47,
   "metadata": {},
   "outputs": [
    {
     "data": {
      "text/html": [
       "<div>\n",
       "<style scoped>\n",
       "    .dataframe tbody tr th:only-of-type {\n",
       "        vertical-align: middle;\n",
       "    }\n",
       "\n",
       "    .dataframe tbody tr th {\n",
       "        vertical-align: top;\n",
       "    }\n",
       "\n",
       "    .dataframe thead th {\n",
       "        text-align: right;\n",
       "    }\n",
       "</style>\n",
       "<table border=\"1\" class=\"dataframe\">\n",
       "  <thead>\n",
       "    <tr style=\"text-align: right;\">\n",
       "      <th></th>\n",
       "      <th>ST</th>\n",
       "    </tr>\n",
       "  </thead>\n",
       "  <tbody>\n",
       "    <tr>\n",
       "      <th>all</th>\n",
       "      <td>291963.198720</td>\n",
       "    </tr>\n",
       "    <tr>\n",
       "      <th>+ one lepton</th>\n",
       "      <td>59165.221302</td>\n",
       "    </tr>\n",
       "    <tr>\n",
       "      <th>+ met</th>\n",
       "      <td>25687.361584</td>\n",
       "    </tr>\n",
       "    <tr>\n",
       "      <th>+ ht</th>\n",
       "      <td>24352.766763</td>\n",
       "    </tr>\n",
       "    <tr>\n",
       "      <th>+ njet</th>\n",
       "      <td>24315.752828</td>\n",
       "    </tr>\n",
       "    <tr>\n",
       "      <th>+ bjet</th>\n",
       "      <td>6570.168526</td>\n",
       "    </tr>\n",
       "    <tr>\n",
       "      <th>+ min(mt(bs,met))</th>\n",
       "      <td>2376.535672</td>\n",
       "    </tr>\n",
       "    <tr>\n",
       "      <th>+ fatjet &gt;=1</th>\n",
       "      <td>2097.382113</td>\n",
       "    </tr>\n",
       "    <tr>\n",
       "      <th>+ fatjet &gt;=2</th>\n",
       "      <td>923.560995</td>\n",
       "    </tr>\n",
       "  </tbody>\n",
       "</table>\n",
       "</div>"
      ],
      "text/plain": [
       "                              ST\n",
       "all                291963.198720\n",
       "+ one lepton        59165.221302\n",
       "+ met               25687.361584\n",
       "+ ht                24352.766763\n",
       "+ njet              24315.752828\n",
       "+ bjet               6570.168526\n",
       "+ min(mt(bs,met))    2376.535672\n",
       "+ fatjet >=1         2097.382113\n",
       "+ fatjet >=2          923.560995"
      ]
     },
     "execution_count": 47,
     "metadata": {},
     "output_type": "execute_result"
    }
   ],
   "source": [
    "getCutFlowTable(output_st, 'ST', lines = ['all', '+ one lepton', '+ met', \n",
    "                                                '+ ht','+ njet', '+ bjet', '+ min(mt(bs,met))',\n",
    "                                                '+ fatjet >=1 ', '+ fatjet >=2 '])"
   ]
  },
  {
   "cell_type": "code",
   "execution_count": 48,
   "metadata": {
    "scrolled": true
   },
   "outputs": [
    {
     "data": {
      "text/html": [
       "<div>\n",
       "<style scoped>\n",
       "    .dataframe tbody tr th:only-of-type {\n",
       "        vertical-align: middle;\n",
       "    }\n",
       "\n",
       "    .dataframe tbody tr th {\n",
       "        vertical-align: top;\n",
       "    }\n",
       "\n",
       "    .dataframe thead th {\n",
       "        text-align: right;\n",
       "    }\n",
       "</style>\n",
       "<table border=\"1\" class=\"dataframe\">\n",
       "  <thead>\n",
       "    <tr style=\"text-align: right;\">\n",
       "      <th></th>\n",
       "      <th>ttW/ttZ</th>\n",
       "    </tr>\n",
       "  </thead>\n",
       "  <tbody>\n",
       "    <tr>\n",
       "      <th>all</th>\n",
       "      <td>11906.833334</td>\n",
       "    </tr>\n",
       "    <tr>\n",
       "      <th>+ one lepton</th>\n",
       "      <td>2456.457086</td>\n",
       "    </tr>\n",
       "    <tr>\n",
       "      <th>+ met</th>\n",
       "      <td>1293.853977</td>\n",
       "    </tr>\n",
       "    <tr>\n",
       "      <th>+ ht</th>\n",
       "      <td>1263.411442</td>\n",
       "    </tr>\n",
       "    <tr>\n",
       "      <th>+ njet</th>\n",
       "      <td>1263.239325</td>\n",
       "    </tr>\n",
       "    <tr>\n",
       "      <th>+ bjet</th>\n",
       "      <td>536.680642</td>\n",
       "    </tr>\n",
       "    <tr>\n",
       "      <th>+ min(mt(bs,met))</th>\n",
       "      <td>161.991696</td>\n",
       "    </tr>\n",
       "    <tr>\n",
       "      <th>+ fatjet &gt;=1</th>\n",
       "      <td>139.418469</td>\n",
       "    </tr>\n",
       "    <tr>\n",
       "      <th>+ fatjet &gt;=2</th>\n",
       "      <td>62.820634</td>\n",
       "    </tr>\n",
       "  </tbody>\n",
       "</table>\n",
       "</div>"
      ],
      "text/plain": [
       "                        ttW/ttZ\n",
       "all                11906.833334\n",
       "+ one lepton        2456.457086\n",
       "+ met               1293.853977\n",
       "+ ht                1263.411442\n",
       "+ njet              1263.239325\n",
       "+ bjet               536.680642\n",
       "+ min(mt(bs,met))    161.991696\n",
       "+ fatjet >=1         139.418469\n",
       "+ fatjet >=2          62.820634"
      ]
     },
     "execution_count": 48,
     "metadata": {},
     "output_type": "execute_result"
    }
   ],
   "source": [
    "getCutFlowTable(output_ttwz, 'ttW/ttZ', lines = ['all', '+ one lepton', '+ met', \n",
    "                                                '+ ht','+ njet', '+ bjet', '+ min(mt(bs,met))',\n",
    "                                                '+ fatjet >=1 ', '+ fatjet >=2 '])"
   ]
  },
  {
   "cell_type": "code",
   "execution_count": 49,
   "metadata": {},
   "outputs": [
    {
     "data": {
      "text/html": [
       "<div>\n",
       "<style scoped>\n",
       "    .dataframe tbody tr th:only-of-type {\n",
       "        vertical-align: middle;\n",
       "    }\n",
       "\n",
       "    .dataframe tbody tr th {\n",
       "        vertical-align: top;\n",
       "    }\n",
       "\n",
       "    .dataframe thead th {\n",
       "        text-align: right;\n",
       "    }\n",
       "</style>\n",
       "<table border=\"1\" class=\"dataframe\">\n",
       "  <thead>\n",
       "    <tr style=\"text-align: right;\">\n",
       "      <th></th>\n",
       "      <th>2bosons</th>\n",
       "    </tr>\n",
       "  </thead>\n",
       "  <tbody>\n",
       "    <tr>\n",
       "      <th>all</th>\n",
       "      <td>90495.015945</td>\n",
       "    </tr>\n",
       "    <tr>\n",
       "      <th>+ one lepton</th>\n",
       "      <td>13226.625874</td>\n",
       "    </tr>\n",
       "    <tr>\n",
       "      <th>+ met</th>\n",
       "      <td>6619.779284</td>\n",
       "    </tr>\n",
       "    <tr>\n",
       "      <th>+ ht</th>\n",
       "      <td>5898.045834</td>\n",
       "    </tr>\n",
       "    <tr>\n",
       "      <th>+ njet</th>\n",
       "      <td>5857.538127</td>\n",
       "    </tr>\n",
       "    <tr>\n",
       "      <th>+ bjet</th>\n",
       "      <td>97.107760</td>\n",
       "    </tr>\n",
       "    <tr>\n",
       "      <th>+ min(mt(bs,met))</th>\n",
       "      <td>35.857692</td>\n",
       "    </tr>\n",
       "    <tr>\n",
       "      <th>+ fatjet &gt;=1</th>\n",
       "      <td>32.958862</td>\n",
       "    </tr>\n",
       "    <tr>\n",
       "      <th>+ fatjet &gt;=2</th>\n",
       "      <td>11.245095</td>\n",
       "    </tr>\n",
       "  </tbody>\n",
       "</table>\n",
       "</div>"
      ],
      "text/plain": [
       "                        2bosons\n",
       "all                90495.015945\n",
       "+ one lepton       13226.625874\n",
       "+ met               6619.779284\n",
       "+ ht                5898.045834\n",
       "+ njet              5857.538127\n",
       "+ bjet                97.107760\n",
       "+ min(mt(bs,met))     35.857692\n",
       "+ fatjet >=1          32.958862\n",
       "+ fatjet >=2          11.245095"
      ]
     },
     "execution_count": 49,
     "metadata": {},
     "output_type": "execute_result"
    }
   ],
   "source": [
    "\n",
    "getCutFlowTable(output_2b, '2bosons', lines = ['all', '+ one lepton', '+ met', \n",
    "                                                '+ ht','+ njet', '+ bjet', '+ min(mt(bs,met))',\n",
    "                                                '+ fatjet >=1 ', '+ fatjet >=2 '])"
   ]
  },
  {
   "cell_type": "code",
   "execution_count": 50,
   "metadata": {},
   "outputs": [
    {
     "name": "stderr",
     "output_type": "stream",
     "text": [
      "/home/users/ewallace/CMSSW_10_2_9/src/tW_scattering/coffeaEnv/lib/python3.6/site-packages/mplhep/_deprecate.py:56: DeprecationWarning: kwarg \"densitymode\" in function \"histplot\" is deprecated and may be removed in future versions: \"unit\"mode is not useful\n",
      "  return func(*args, **kwargs)\n",
      "/home/users/ewallace/CMSSW_10_2_9/src/tW_scattering/coffeaEnv/lib/python3.6/site-packages/mplhep/_deprecate.py:56: DeprecationWarning: kwarg \"densitymode\" in function \"histplot\" is deprecated and may be removed in future versions: \"unit\"mode is not useful\n",
      "  return func(*args, **kwargs)\n",
      "/home/users/ewallace/CMSSW_10_2_9/src/tW_scattering/coffeaEnv/lib/python3.6/site-packages/mplhep/_deprecate.py:56: DeprecationWarning: kwarg \"densitymode\" in function \"histplot\" is deprecated and may be removed in future versions: \"unit\"mode is not useful\n",
      "  return func(*args, **kwargs)\n",
      "/home/users/ewallace/CMSSW_10_2_9/src/tW_scattering/coffeaEnv/lib/python3.6/site-packages/mplhep/_deprecate.py:56: DeprecationWarning: kwarg \"densitymode\" in function \"histplot\" is deprecated and may be removed in future versions: \"unit\"mode is not useful\n",
      "  return func(*args, **kwargs)\n",
      "/home/users/ewallace/CMSSW_10_2_9/src/tW_scattering/coffeaEnv/lib/python3.6/site-packages/mplhep/_deprecate.py:56: DeprecationWarning: kwarg \"densitymode\" in function \"histplot\" is deprecated and may be removed in future versions: \"unit\"mode is not useful\n",
      "  return func(*args, **kwargs)\n",
      "/home/users/ewallace/CMSSW_10_2_9/src/tW_scattering/coffeaEnv/lib/python3.6/site-packages/mplhep/_deprecate.py:56: DeprecationWarning: kwarg \"densitymode\" in function \"histplot\" is deprecated and may be removed in future versions: \"unit\"mode is not useful\n",
      "  return func(*args, **kwargs)\n",
      "/home/users/ewallace/CMSSW_10_2_9/src/tW_scattering/coffeaEnv/lib/python3.6/site-packages/mplhep/_deprecate.py:56: DeprecationWarning: kwarg \"densitymode\" in function \"histplot\" is deprecated and may be removed in future versions: \"unit\"mode is not useful\n",
      "  return func(*args, **kwargs)\n",
      "/home/users/ewallace/CMSSW_10_2_9/src/tW_scattering/coffeaEnv/lib/python3.6/site-packages/mplhep/_deprecate.py:56: DeprecationWarning: kwarg \"densitymode\" in function \"histplot\" is deprecated and may be removed in future versions: \"unit\"mode is not useful\n",
      "  return func(*args, **kwargs)\n",
      "/home/users/ewallace/CMSSW_10_2_9/src/tW_scattering/coffeaEnv/lib/python3.6/site-packages/mplhep/_deprecate.py:56: DeprecationWarning: kwarg \"densitymode\" in function \"histplot\" is deprecated and may be removed in future versions: \"unit\"mode is not useful\n",
      "  return func(*args, **kwargs)\n"
     ]
    },
    {
     "data": {
      "text/plain": [
       "(0.001, 10000)"
      ]
     },
     "execution_count": 50,
     "metadata": {},
     "output_type": "execute_result"
    },
    {
     "data": {
      "image/png": "[encoded data removed]",
      "text/plain": [
       "<Figure size 432x288 with 1 Axes>"
      ]
     },
     "metadata": {},
     "output_type": "display_data"
    }
   ],
   "source": [
    "%matplotlib inline\n",
    "ax = hist.plot1d(output_sig[\"number j\"], density=False, stack=False)\n",
    "hist.plot1d(output_wjets[\"number j\"], density=False, stack=True)\n",
    "hist.plot1d(output_ttjets[\"number j\"], density=False, stack=True)\n",
    "hist.plot1d(output_znunu[\"number j\"], density=False, stack=True)\n",
    "hist.plot1d(output_st[\"number j\"], density=False, stack=True)\n",
    "hist.plot1d(output_ttwz[\"number j\"], density=False, stack=True)\n",
    "hist.plot1d(output_2b[\"number j\"], density=False, stack=True)\n",
    "hist.plot1d(output_qcd[\"number j\"], density=False, stack=True)\n",
    "ax=hist.plot1d(output_data[\"number j data\"], density=False, stack=False, error_opts = {'linestyle' : 'None'})\n",
    "ax.set_yscale('log')\n",
    "ax.set_ylim(0.001,10000)"
   ]
  },
  {
   "cell_type": "code",
   "execution_count": 51,
   "metadata": {},
   "outputs": [
    {
     "name": "stderr",
     "output_type": "stream",
     "text": [
      "/home/users/ewallace/CMSSW_10_2_9/src/tW_scattering/coffeaEnv/lib/python3.6/site-packages/mplhep/_deprecate.py:56: DeprecationWarning: kwarg \"densitymode\" in function \"histplot\" is deprecated and may be removed in future versions: \"unit\"mode is not useful\n",
      "  return func(*args, **kwargs)\n",
      "/home/users/ewallace/CMSSW_10_2_9/src/tW_scattering/coffeaEnv/lib/python3.6/site-packages/mplhep/_deprecate.py:56: DeprecationWarning: kwarg \"densitymode\" in function \"histplot\" is deprecated and may be removed in future versions: \"unit\"mode is not useful\n",
      "  return func(*args, **kwargs)\n",
      "/home/users/ewallace/CMSSW_10_2_9/src/tW_scattering/coffeaEnv/lib/python3.6/site-packages/mplhep/_deprecate.py:56: DeprecationWarning: kwarg \"densitymode\" in function \"histplot\" is deprecated and may be removed in future versions: \"unit\"mode is not useful\n",
      "  return func(*args, **kwargs)\n",
      "/home/users/ewallace/CMSSW_10_2_9/src/tW_scattering/coffeaEnv/lib/python3.6/site-packages/mplhep/_deprecate.py:56: DeprecationWarning: kwarg \"densitymode\" in function \"histplot\" is deprecated and may be removed in future versions: \"unit\"mode is not useful\n",
      "  return func(*args, **kwargs)\n",
      "/home/users/ewallace/CMSSW_10_2_9/src/tW_scattering/coffeaEnv/lib/python3.6/site-packages/mplhep/_deprecate.py:56: DeprecationWarning: kwarg \"densitymode\" in function \"histplot\" is deprecated and may be removed in future versions: \"unit\"mode is not useful\n",
      "  return func(*args, **kwargs)\n",
      "/home/users/ewallace/CMSSW_10_2_9/src/tW_scattering/coffeaEnv/lib/python3.6/site-packages/mplhep/_deprecate.py:56: DeprecationWarning: kwarg \"densitymode\" in function \"histplot\" is deprecated and may be removed in future versions: \"unit\"mode is not useful\n",
      "  return func(*args, **kwargs)\n",
      "/home/users/ewallace/CMSSW_10_2_9/src/tW_scattering/coffeaEnv/lib/python3.6/site-packages/mplhep/_deprecate.py:56: DeprecationWarning: kwarg \"densitymode\" in function \"histplot\" is deprecated and may be removed in future versions: \"unit\"mode is not useful\n",
      "  return func(*args, **kwargs)\n",
      "/home/users/ewallace/CMSSW_10_2_9/src/tW_scattering/coffeaEnv/lib/python3.6/site-packages/mplhep/_deprecate.py:56: DeprecationWarning: kwarg \"densitymode\" in function \"histplot\" is deprecated and may be removed in future versions: \"unit\"mode is not useful\n",
      "  return func(*args, **kwargs)\n",
      "/home/users/ewallace/CMSSW_10_2_9/src/tW_scattering/coffeaEnv/lib/python3.6/site-packages/mplhep/_deprecate.py:56: DeprecationWarning: kwarg \"densitymode\" in function \"histplot\" is deprecated and may be removed in future versions: \"unit\"mode is not useful\n",
      "  return func(*args, **kwargs)\n"
     ]
    },
    {
     "data": {
      "text/plain": [
       "(0.001, 100000)"
      ]
     },
     "execution_count": 51,
     "metadata": {},
     "output_type": "execute_result"
    },
    {
     "data": {
      "image/png": "[encoded data removed]",
      "text/plain": [
       "<Figure size 432x288 with 1 Axes>"
      ]
     },
     "metadata": {},
     "output_type": "display_data"
    }
   ],
   "source": [
    "ax = hist.plot1d(output_sig[\"number b\"], density=False)\n",
    "hist.plot1d(output_wjets[\"number b\"], density=False, stack=True)\n",
    "hist.plot1d(output_ttjets[\"number b\"], density=False, stack=True)\n",
    "hist.plot1d(output_znunu[\"number b\"], density=False, stack=True)\n",
    "hist.plot1d(output_st[\"number b\"], density=False, stack=True)\n",
    "hist.plot1d(output_ttwz[\"number b\"], density=False, stack=True)\n",
    "hist.plot1d(output_2b[\"number b\"], density=False, stack=True)\n",
    "hist.plot1d(output_qcd[\"number b\"], density=False, stack=True)\n",
    "hist.plot1d(output_data[\"number b data\"], density=False, stack=False, error_opts = {'linestyle' : 'None'})\n",
    "ax.set_yscale('log')\n",
    "ax.set_ylim(0.001,100000)"
   ]
  },
  {
   "cell_type": "code",
   "execution_count": 52,
   "metadata": {},
   "outputs": [
    {
     "name": "stderr",
     "output_type": "stream",
     "text": [
      "/home/users/ewallace/CMSSW_10_2_9/src/tW_scattering/coffeaEnv/lib/python3.6/site-packages/mplhep/_deprecate.py:56: DeprecationWarning: kwarg \"densitymode\" in function \"histplot\" is deprecated and may be removed in future versions: \"unit\"mode is not useful\n",
      "  return func(*args, **kwargs)\n",
      "/home/users/ewallace/CMSSW_10_2_9/src/tW_scattering/coffeaEnv/lib/python3.6/site-packages/mplhep/_deprecate.py:56: DeprecationWarning: kwarg \"densitymode\" in function \"histplot\" is deprecated and may be removed in future versions: \"unit\"mode is not useful\n",
      "  return func(*args, **kwargs)\n",
      "/home/users/ewallace/CMSSW_10_2_9/src/tW_scattering/coffeaEnv/lib/python3.6/site-packages/mplhep/_deprecate.py:56: DeprecationWarning: kwarg \"densitymode\" in function \"histplot\" is deprecated and may be removed in future versions: \"unit\"mode is not useful\n",
      "  return func(*args, **kwargs)\n",
      "/home/users/ewallace/CMSSW_10_2_9/src/tW_scattering/coffeaEnv/lib/python3.6/site-packages/mplhep/_deprecate.py:56: DeprecationWarning: kwarg \"densitymode\" in function \"histplot\" is deprecated and may be removed in future versions: \"unit\"mode is not useful\n",
      "  return func(*args, **kwargs)\n",
      "/home/users/ewallace/CMSSW_10_2_9/src/tW_scattering/coffeaEnv/lib/python3.6/site-packages/mplhep/_deprecate.py:56: DeprecationWarning: kwarg \"densitymode\" in function \"histplot\" is deprecated and may be removed in future versions: \"unit\"mode is not useful\n",
      "  return func(*args, **kwargs)\n",
      "/home/users/ewallace/CMSSW_10_2_9/src/tW_scattering/coffeaEnv/lib/python3.6/site-packages/mplhep/_deprecate.py:56: DeprecationWarning: kwarg \"densitymode\" in function \"histplot\" is deprecated and may be removed in future versions: \"unit\"mode is not useful\n",
      "  return func(*args, **kwargs)\n",
      "/home/users/ewallace/CMSSW_10_2_9/src/tW_scattering/coffeaEnv/lib/python3.6/site-packages/mplhep/_deprecate.py:56: DeprecationWarning: kwarg \"densitymode\" in function \"histplot\" is deprecated and may be removed in future versions: \"unit\"mode is not useful\n",
      "  return func(*args, **kwargs)\n",
      "/home/users/ewallace/CMSSW_10_2_9/src/tW_scattering/coffeaEnv/lib/python3.6/site-packages/mplhep/_deprecate.py:56: DeprecationWarning: kwarg \"densitymode\" in function \"histplot\" is deprecated and may be removed in future versions: \"unit\"mode is not useful\n",
      "  return func(*args, **kwargs)\n",
      "/home/users/ewallace/CMSSW_10_2_9/src/tW_scattering/coffeaEnv/lib/python3.6/site-packages/mplhep/_deprecate.py:56: DeprecationWarning: kwarg \"densitymode\" in function \"histplot\" is deprecated and may be removed in future versions: \"unit\"mode is not useful\n",
      "  return func(*args, **kwargs)\n"
     ]
    },
    {
     "data": {
      "text/plain": [
       "(0.001, 100000)"
      ]
     },
     "execution_count": 52,
     "metadata": {},
     "output_type": "execute_result"
    },
    {
     "data": {
      "image/png": "[encoded data removed]",
      "text/plain": [
       "<Figure size 432x288 with 1 Axes>"
      ]
     },
     "metadata": {},
     "output_type": "display_data"
    }
   ],
   "source": [
    "ax = hist.plot1d(output_sig[\"number fj\"], density=False)\n",
    "hist.plot1d(output_wjets[\"number fj\"], density=False, stack=True)\n",
    "hist.plot1d(output_ttjets[\"number fj\"], density=False, stack=True)\n",
    "hist.plot1d(output_znunu[\"number fj\"], density=False, stack=True)\n",
    "hist.plot1d(output_st[\"number fj\"], density=False, stack=True)\n",
    "hist.plot1d(output_ttwz[\"number fj\"], density=False, stack=True)\n",
    "hist.plot1d(output_2b[\"number fj\"], density=False, stack=True)\n",
    "hist.plot1d(output_qcd[\"number fj\"], density=False, stack=True)\n",
    "hist.plot1d(output_data[\"number fj data\"], density=False, stack=False, error_opts = {'linestyle' : 'None'})\n",
    "ax.set_yscale('log')\n",
    "ax.set_ylim(0.001,100000)"
   ]
  },
  {
   "cell_type": "code",
   "execution_count": 53,
   "metadata": {},
   "outputs": [
    {
     "name": "stderr",
     "output_type": "stream",
     "text": [
      "/home/users/ewallace/CMSSW_10_2_9/src/tW_scattering/coffeaEnv/lib/python3.6/site-packages/mplhep/_deprecate.py:56: DeprecationWarning: kwarg \"densitymode\" in function \"histplot\" is deprecated and may be removed in future versions: \"unit\"mode is not useful\n",
      "  return func(*args, **kwargs)\n",
      "/home/users/ewallace/CMSSW_10_2_9/src/tW_scattering/coffeaEnv/lib/python3.6/site-packages/mplhep/_deprecate.py:56: DeprecationWarning: kwarg \"densitymode\" in function \"histplot\" is deprecated and may be removed in future versions: \"unit\"mode is not useful\n",
      "  return func(*args, **kwargs)\n",
      "/home/users/ewallace/CMSSW_10_2_9/src/tW_scattering/coffeaEnv/lib/python3.6/site-packages/mplhep/_deprecate.py:56: DeprecationWarning: kwarg \"densitymode\" in function \"histplot\" is deprecated and may be removed in future versions: \"unit\"mode is not useful\n",
      "  return func(*args, **kwargs)\n",
      "/home/users/ewallace/CMSSW_10_2_9/src/tW_scattering/coffeaEnv/lib/python3.6/site-packages/mplhep/_deprecate.py:56: DeprecationWarning: kwarg \"densitymode\" in function \"histplot\" is deprecated and may be removed in future versions: \"unit\"mode is not useful\n",
      "  return func(*args, **kwargs)\n",
      "/home/users/ewallace/CMSSW_10_2_9/src/tW_scattering/coffeaEnv/lib/python3.6/site-packages/mplhep/_deprecate.py:56: DeprecationWarning: kwarg \"densitymode\" in function \"histplot\" is deprecated and may be removed in future versions: \"unit\"mode is not useful\n",
      "  return func(*args, **kwargs)\n",
      "/home/users/ewallace/CMSSW_10_2_9/src/tW_scattering/coffeaEnv/lib/python3.6/site-packages/mplhep/_deprecate.py:56: DeprecationWarning: kwarg \"densitymode\" in function \"histplot\" is deprecated and may be removed in future versions: \"unit\"mode is not useful\n",
      "  return func(*args, **kwargs)\n",
      "/home/users/ewallace/CMSSW_10_2_9/src/tW_scattering/coffeaEnv/lib/python3.6/site-packages/mplhep/_deprecate.py:56: DeprecationWarning: kwarg \"densitymode\" in function \"histplot\" is deprecated and may be removed in future versions: \"unit\"mode is not useful\n",
      "  return func(*args, **kwargs)\n",
      "/home/users/ewallace/CMSSW_10_2_9/src/tW_scattering/coffeaEnv/lib/python3.6/site-packages/mplhep/_deprecate.py:56: DeprecationWarning: kwarg \"densitymode\" in function \"histplot\" is deprecated and may be removed in future versions: \"unit\"mode is not useful\n",
      "  return func(*args, **kwargs)\n",
      "/home/users/ewallace/CMSSW_10_2_9/src/tW_scattering/coffeaEnv/lib/python3.6/site-packages/mplhep/_deprecate.py:56: DeprecationWarning: kwarg \"densitymode\" in function \"histplot\" is deprecated and may be removed in future versions: \"unit\"mode is not useful\n",
      "  return func(*args, **kwargs)\n"
     ]
    },
    {
     "data": {
      "text/plain": [
       "(0.001, 100000)"
      ]
     },
     "execution_count": 53,
     "metadata": {},
     "output_type": "execute_result"
    },
    {
     "data": {
      "image/png": "[encoded data removed]",
      "text/plain": [
       "<Figure size 432x288 with 1 Axes>"
      ]
     },
     "metadata": {},
     "output_type": "display_data"
    }
   ],
   "source": [
    "ax = hist.plot1d(output_sig[\"number h\"], density=False)\n",
    "hist.plot1d(output_wjets[\"number h\"], density=False, stack=True)\n",
    "hist.plot1d(output_ttjets[\"number h\"], density=False, stack=True)\n",
    "hist.plot1d(output_znunu[\"number h\"], density=False, stack=True)\n",
    "hist.plot1d(output_st[\"number h\"], density=False, stack=True)\n",
    "hist.plot1d(output_ttwz[\"number h\"], density=False, stack=True)\n",
    "hist.plot1d(output_2b[\"number h\"], density=False, stack=True)\n",
    "hist.plot1d(output_qcd[\"number h\"], density=False, stack=True)\n",
    "hist.plot1d(output_data[\"number h data\"], density=False, stack=False, error_opts = {'linestyle' : 'None'})\n",
    "ax.set_yscale('log')\n",
    "ax.set_ylim(0.001,100000)"
   ]
  },
  {
   "cell_type": "code",
   "execution_count": 54,
   "metadata": {},
   "outputs": [
    {
     "name": "stderr",
     "output_type": "stream",
     "text": [
      "/home/users/ewallace/CMSSW_10_2_9/src/tW_scattering/coffeaEnv/lib/python3.6/site-packages/mplhep/_deprecate.py:56: DeprecationWarning: kwarg \"densitymode\" in function \"histplot\" is deprecated and may be removed in future versions: \"unit\"mode is not useful\n",
      "  return func(*args, **kwargs)\n",
      "/home/users/ewallace/CMSSW_10_2_9/src/tW_scattering/coffeaEnv/lib/python3.6/site-packages/mplhep/_deprecate.py:56: DeprecationWarning: kwarg \"densitymode\" in function \"histplot\" is deprecated and may be removed in future versions: \"unit\"mode is not useful\n",
      "  return func(*args, **kwargs)\n",
      "/home/users/ewallace/CMSSW_10_2_9/src/tW_scattering/coffeaEnv/lib/python3.6/site-packages/mplhep/_deprecate.py:56: DeprecationWarning: kwarg \"densitymode\" in function \"histplot\" is deprecated and may be removed in future versions: \"unit\"mode is not useful\n",
      "  return func(*args, **kwargs)\n",
      "/home/users/ewallace/CMSSW_10_2_9/src/tW_scattering/coffeaEnv/lib/python3.6/site-packages/mplhep/_deprecate.py:56: DeprecationWarning: kwarg \"densitymode\" in function \"histplot\" is deprecated and may be removed in future versions: \"unit\"mode is not useful\n",
      "  return func(*args, **kwargs)\n",
      "/home/users/ewallace/CMSSW_10_2_9/src/tW_scattering/coffeaEnv/lib/python3.6/site-packages/mplhep/_deprecate.py:56: DeprecationWarning: kwarg \"densitymode\" in function \"histplot\" is deprecated and may be removed in future versions: \"unit\"mode is not useful\n",
      "  return func(*args, **kwargs)\n",
      "/home/users/ewallace/CMSSW_10_2_9/src/tW_scattering/coffeaEnv/lib/python3.6/site-packages/mplhep/_deprecate.py:56: DeprecationWarning: kwarg \"densitymode\" in function \"histplot\" is deprecated and may be removed in future versions: \"unit\"mode is not useful\n",
      "  return func(*args, **kwargs)\n",
      "/home/users/ewallace/CMSSW_10_2_9/src/tW_scattering/coffeaEnv/lib/python3.6/site-packages/mplhep/_deprecate.py:56: DeprecationWarning: kwarg \"densitymode\" in function \"histplot\" is deprecated and may be removed in future versions: \"unit\"mode is not useful\n",
      "  return func(*args, **kwargs)\n",
      "/home/users/ewallace/CMSSW_10_2_9/src/tW_scattering/coffeaEnv/lib/python3.6/site-packages/mplhep/_deprecate.py:56: DeprecationWarning: kwarg \"densitymode\" in function \"histplot\" is deprecated and may be removed in future versions: \"unit\"mode is not useful\n",
      "  return func(*args, **kwargs)\n",
      "/home/users/ewallace/CMSSW_10_2_9/src/tW_scattering/coffeaEnv/lib/python3.6/site-packages/mplhep/_deprecate.py:56: DeprecationWarning: kwarg \"densitymode\" in function \"histplot\" is deprecated and may be removed in future versions: \"unit\"mode is not useful\n",
      "  return func(*args, **kwargs)\n"
     ]
    },
    {
     "data": {
      "text/plain": [
       "(0.001, 100000)"
      ]
     },
     "execution_count": 54,
     "metadata": {},
     "output_type": "execute_result"
    },
    {
     "data": {
      "image/png": "[encoded data removed]",
      "text/plain": [
       "<Figure size 432x288 with 1 Axes>"
      ]
     },
     "metadata": {},
     "output_type": "display_data"
    }
   ],
   "source": [
    "ax = hist.plot1d(output_sig[\"number w\"], density=False)\n",
    "hist.plot1d(output_wjets[\"number w\"], density=False, stack=True)\n",
    "hist.plot1d(output_ttjets[\"number w\"], density=False, stack=True)\n",
    "hist.plot1d(output_znunu[\"number w\"], density=False, stack=True)\n",
    "hist.plot1d(output_st[\"number w\"], density=False, stack=True)\n",
    "hist.plot1d(output_ttwz[\"number w\"], density=False, stack=True)\n",
    "hist.plot1d(output_2b[\"number w\"], density=False, stack=True)\n",
    "hist.plot1d(output_qcd[\"number w\"], density=False, stack=True)\n",
    "hist.plot1d(output_data[\"number w data\"], density=False, stack=False, error_opts = {'linestyle' : 'None'})\n",
    "ax.set_yscale('log')\n",
    "ax.set_ylim(0.001,100000)"
   ]
  },
  {
   "cell_type": "code",
   "execution_count": 55,
   "metadata": {},
   "outputs": [
    {
     "name": "stderr",
     "output_type": "stream",
     "text": [
      "/home/users/ewallace/CMSSW_10_2_9/src/tW_scattering/coffeaEnv/lib/python3.6/site-packages/mplhep/_deprecate.py:56: DeprecationWarning: kwarg \"densitymode\" in function \"histplot\" is deprecated and may be removed in future versions: \"unit\"mode is not useful\n",
      "  return func(*args, **kwargs)\n",
      "/home/users/ewallace/CMSSW_10_2_9/src/tW_scattering/coffeaEnv/lib/python3.6/site-packages/mplhep/_deprecate.py:56: DeprecationWarning: kwarg \"densitymode\" in function \"histplot\" is deprecated and may be removed in future versions: \"unit\"mode is not useful\n",
      "  return func(*args, **kwargs)\n",
      "/home/users/ewallace/CMSSW_10_2_9/src/tW_scattering/coffeaEnv/lib/python3.6/site-packages/mplhep/_deprecate.py:56: DeprecationWarning: kwarg \"densitymode\" in function \"histplot\" is deprecated and may be removed in future versions: \"unit\"mode is not useful\n",
      "  return func(*args, **kwargs)\n",
      "/home/users/ewallace/CMSSW_10_2_9/src/tW_scattering/coffeaEnv/lib/python3.6/site-packages/mplhep/_deprecate.py:56: DeprecationWarning: kwarg \"densitymode\" in function \"histplot\" is deprecated and may be removed in future versions: \"unit\"mode is not useful\n",
      "  return func(*args, **kwargs)\n",
      "/home/users/ewallace/CMSSW_10_2_9/src/tW_scattering/coffeaEnv/lib/python3.6/site-packages/mplhep/_deprecate.py:56: DeprecationWarning: kwarg \"densitymode\" in function \"histplot\" is deprecated and may be removed in future versions: \"unit\"mode is not useful\n",
      "  return func(*args, **kwargs)\n",
      "/home/users/ewallace/CMSSW_10_2_9/src/tW_scattering/coffeaEnv/lib/python3.6/site-packages/mplhep/_deprecate.py:56: DeprecationWarning: kwarg \"densitymode\" in function \"histplot\" is deprecated and may be removed in future versions: \"unit\"mode is not useful\n",
      "  return func(*args, **kwargs)\n",
      "/home/users/ewallace/CMSSW_10_2_9/src/tW_scattering/coffeaEnv/lib/python3.6/site-packages/mplhep/_deprecate.py:56: DeprecationWarning: kwarg \"densitymode\" in function \"histplot\" is deprecated and may be removed in future versions: \"unit\"mode is not useful\n",
      "  return func(*args, **kwargs)\n",
      "/home/users/ewallace/CMSSW_10_2_9/src/tW_scattering/coffeaEnv/lib/python3.6/site-packages/mplhep/_deprecate.py:56: DeprecationWarning: kwarg \"densitymode\" in function \"histplot\" is deprecated and may be removed in future versions: \"unit\"mode is not useful\n",
      "  return func(*args, **kwargs)\n",
      "/home/users/ewallace/CMSSW_10_2_9/src/tW_scattering/coffeaEnv/lib/python3.6/site-packages/mplhep/_deprecate.py:56: DeprecationWarning: kwarg \"densitymode\" in function \"histplot\" is deprecated and may be removed in future versions: \"unit\"mode is not useful\n",
      "  return func(*args, **kwargs)\n"
     ]
    },
    {
     "data": {
      "text/plain": [
       "(0.001, 100000)"
      ]
     },
     "execution_count": 55,
     "metadata": {},
     "output_type": "execute_result"
    },
    {
     "data": {
      "image/png": "[encoded data removed]",
      "text/plain": [
       "<Figure size 432x288 with 1 Axes>"
      ]
     },
     "metadata": {},
     "output_type": "display_data"
    }
   ],
   "source": [
    "ax = hist.plot1d(output_qcd[\"met\"], density=False, stack=True)\n",
    "hist.plot1d(output_sig[\"met\"], density=False)\n",
    "hist.plot1d(output_wjets[\"met\"], density=False, stack=True)\n",
    "hist.plot1d(output_ttjets[\"met\"], density=False, stack=True)\n",
    "hist.plot1d(output_znunu[\"met\"], density=False, stack=True)\n",
    "hist.plot1d(output_st[\"met\"], density=False, stack=True)\n",
    "hist.plot1d(output_ttwz[\"met\"], density=False, stack=True)\n",
    "hist.plot1d(output_2b[\"met\"], density=False, stack=True)\n",
    "hist.plot1d(output_data[\"met data\"], density=False, stack=False, error_opts = {'linestyle' : 'None'})\n",
    "ax.set_yscale('log')\n",
    "ax.set_ylim(0.001,100000)"
   ]
  },
  {
   "cell_type": "code",
   "execution_count": 56,
   "metadata": {},
   "outputs": [
    {
     "name": "stderr",
     "output_type": "stream",
     "text": [
      "/home/users/ewallace/CMSSW_10_2_9/src/tW_scattering/coffeaEnv/lib/python3.6/site-packages/mplhep/_deprecate.py:56: DeprecationWarning: kwarg \"densitymode\" in function \"histplot\" is deprecated and may be removed in future versions: \"unit\"mode is not useful\n",
      "  return func(*args, **kwargs)\n",
      "/home/users/ewallace/CMSSW_10_2_9/src/tW_scattering/coffeaEnv/lib/python3.6/site-packages/mplhep/_deprecate.py:56: DeprecationWarning: kwarg \"densitymode\" in function \"histplot\" is deprecated and may be removed in future versions: \"unit\"mode is not useful\n",
      "  return func(*args, **kwargs)\n",
      "/home/users/ewallace/CMSSW_10_2_9/src/tW_scattering/coffeaEnv/lib/python3.6/site-packages/mplhep/_deprecate.py:56: DeprecationWarning: kwarg \"densitymode\" in function \"histplot\" is deprecated and may be removed in future versions: \"unit\"mode is not useful\n",
      "  return func(*args, **kwargs)\n",
      "/home/users/ewallace/CMSSW_10_2_9/src/tW_scattering/coffeaEnv/lib/python3.6/site-packages/mplhep/_deprecate.py:56: DeprecationWarning: kwarg \"densitymode\" in function \"histplot\" is deprecated and may be removed in future versions: \"unit\"mode is not useful\n",
      "  return func(*args, **kwargs)\n",
      "/home/users/ewallace/CMSSW_10_2_9/src/tW_scattering/coffeaEnv/lib/python3.6/site-packages/mplhep/_deprecate.py:56: DeprecationWarning: kwarg \"densitymode\" in function \"histplot\" is deprecated and may be removed in future versions: \"unit\"mode is not useful\n",
      "  return func(*args, **kwargs)\n",
      "/home/users/ewallace/CMSSW_10_2_9/src/tW_scattering/coffeaEnv/lib/python3.6/site-packages/mplhep/_deprecate.py:56: DeprecationWarning: kwarg \"densitymode\" in function \"histplot\" is deprecated and may be removed in future versions: \"unit\"mode is not useful\n",
      "  return func(*args, **kwargs)\n",
      "/home/users/ewallace/CMSSW_10_2_9/src/tW_scattering/coffeaEnv/lib/python3.6/site-packages/mplhep/_deprecate.py:56: DeprecationWarning: kwarg \"densitymode\" in function \"histplot\" is deprecated and may be removed in future versions: \"unit\"mode is not useful\n",
      "  return func(*args, **kwargs)\n",
      "/home/users/ewallace/CMSSW_10_2_9/src/tW_scattering/coffeaEnv/lib/python3.6/site-packages/mplhep/_deprecate.py:56: DeprecationWarning: kwarg \"densitymode\" in function \"histplot\" is deprecated and may be removed in future versions: \"unit\"mode is not useful\n",
      "  return func(*args, **kwargs)\n",
      "/home/users/ewallace/CMSSW_10_2_9/src/tW_scattering/coffeaEnv/lib/python3.6/site-packages/mplhep/_deprecate.py:56: DeprecationWarning: kwarg \"densitymode\" in function \"histplot\" is deprecated and may be removed in future versions: \"unit\"mode is not useful\n",
      "  return func(*args, **kwargs)\n"
     ]
    },
    {
     "data": {
      "text/plain": [
       "(0.001, 10000)"
      ]
     },
     "execution_count": 56,
     "metadata": {},
     "output_type": "execute_result"
    },
    {
     "data": {
      "image/png": "[encoded data removed]",
      "text/plain": [
       "<Figure size 432x288 with 1 Axes>"
      ]
     },
     "metadata": {},
     "output_type": "display_data"
    }
   ],
   "source": [
    "ax = hist.plot1d(output_sig[\"h mass\"], density=False)\n",
    "hist.plot1d(output_wjets[\"h mass\"], density=False, stack=True)\n",
    "hist.plot1d(output_ttjets[\"h mass\"], density=False, stack=True)\n",
    "hist.plot1d(output_znunu[\"h mass\"], density=False, stack=True)\n",
    "hist.plot1d(output_st[\"h mass\"], density=False, stack=True)\n",
    "hist.plot1d(output_ttwz[\"h mass\"], density=False, stack=True)\n",
    "hist.plot1d(output_2b[\"h mass\"], density=False, stack=True)\n",
    "hist.plot1d(output_qcd[\"h mass\"], density=False, stack=True)\n",
    "hist.plot1d(output_data[\"h mass data\"], density=False, stack=False, error_opts = {'linestyle' : 'None'})\n",
    "ax.set_yscale('log')\n",
    "ax.set_ylim(0.001,10000)"
   ]
  },
  {
   "cell_type": "code",
   "execution_count": 27,
   "metadata": {},
   "outputs": [
    {
     "name": "stderr",
     "output_type": "stream",
     "text": [
      "/home/users/ewallace/CMSSW_10_2_9/src/tW_scattering/coffeaEnv/lib/python3.6/site-packages/mplhep/_deprecate.py:56: DeprecationWarning: kwarg \"densitymode\" in function \"histplot\" is deprecated and may be removed in future versions: \"unit\"mode is not useful\n",
      "  return func(*args, **kwargs)\n"
     ]
    },
    {
     "data": {
      "text/plain": [
       "(0.001, 1000000)"
      ]
     },
     "execution_count": 27,
     "metadata": {},
     "output_type": "execute_result"
    },
    {
     "data": {
      "image/png": "[encoded data removed]",
      "text/plain": [
       "<Figure size 432x288 with 1 Axes>"
      ]
     },
     "metadata": {},
     "output_type": "display_data"
    }
   ],
   "source": [
    "ax = hist.plot1d(output_qcd[\"ht\"], density=False, stack=True)\n",
    "ax.set_yscale('log')\n",
    "ax.set_ylim(0.001,1000000)"
   ]
  },
  {
   "cell_type": "code",
   "execution_count": 28,
   "metadata": {},
   "outputs": [
    {
     "name": "stderr",
     "output_type": "stream",
     "text": [
      "/home/users/ewallace/CMSSW_10_2_9/src/tW_scattering/coffeaEnv/lib/python3.6/site-packages/mplhep/_deprecate.py:56: DeprecationWarning: kwarg \"densitymode\" in function \"histplot\" is deprecated and may be removed in future versions: \"unit\"mode is not useful\n",
      "  return func(*args, **kwargs)\n"
     ]
    },
    {
     "data": {
      "text/plain": [
       "(0.001, 10000000)"
      ]
     },
     "execution_count": 28,
     "metadata": {},
     "output_type": "execute_result"
    },
    {
     "data": {
      "image/png": "[encoded data removed]",
      "text/plain": [
       "<Figure size 432x288 with 1 Axes>"
      ]
     },
     "metadata": {},
     "output_type": "display_data"
    }
   ],
   "source": [
    "ax = hist.plot1d(output_qcd[\"met2\"], density=False, stack=True)\n",
    "ax.set_yscale('log')\n",
    "ax.set_ylim(0.001,10000000)"
   ]
  },
  {
   "cell_type": "code",
   "execution_count": null,
   "metadata": {},
   "outputs": [],
   "source": []
  }
 ],
 "metadata": {
  "kernelspec": {
   "display_name": "coffeaEnv",
   "language": "python",
   "name": "coffeaenv"
  },
  "language_info": {
   "codemirror_mode": {
    "name": "ipython",
    "version": 3
   },
   "file_extension": ".py",
   "mimetype": "text/x-python",
   "name": "python",
   "nbconvert_exporter": "python",
   "pygments_lexer": "ipython3",
   "version": "3.6.4"
  }
 },
 "nbformat": 4,
 "nbformat_minor": 2
}
